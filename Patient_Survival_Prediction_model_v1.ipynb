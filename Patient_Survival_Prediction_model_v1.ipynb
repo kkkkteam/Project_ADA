{
 "cells": [
  {
   "cell_type": "code",
   "execution_count": 1,
   "metadata": {
    "id": "3Cte5MlZlxpz"
   },
   "outputs": [],
   "source": [
    "#important libraries\n",
    "#importing the necessary packages\n",
    "import pandas as pd\n",
    "import string\n",
    "#import plotly.express as px\n",
    "import numpy as np\n",
    "import seaborn as sns\n",
    "import warnings\n",
    "import matplotlib.pyplot as plt\n",
    "import matplotlib.style\n",
    "\n",
    "from statsmodels.stats.outliers_influence import variance_inflation_factor\n",
    "from sklearn.feature_extraction.text import TfidfVectorizer,CountVectorizer\n",
    "from sklearn.feature_selection import RFE\n",
    "from scipy.stats import zscore\n",
    "import statsmodels.formula.api as smf\n",
    "from statsmodels.compat import lzip\n",
    "import statsmodels.api as sm\n",
    "from sklearn import metrics\n",
    "from sklearn.preprocessing import StandardScaler,MinMaxScaler,LabelEncoder,PowerTransformer\n",
    "from sklearn.compose import TransformedTargetRegressor\n",
    "from sklearn.metrics import confusion_matrix,accuracy_score,roc_auc_score,roc_curve,log_loss,classification_report\n",
    "from sklearn.model_selection import train_test_split,GridSearchCV,RandomizedSearchCV,KFold\n",
    "from sklearn.preprocessing import FunctionTransformer\n",
    "from sklearn.linear_model import LogisticRegression\n",
    "from sklearn.neural_network import MLPRegressor\n",
    "from sklearn.tree import DecisionTreeClassifier\n",
    "from sklearn.neighbors import KNeighborsClassifier\n",
    "from sklearn.naive_bayes import GaussianNB\n",
    "from sklearn.ensemble import RandomForestClassifier\n",
    "from sklearn.neural_network import MLPRegressor\n",
    "from sklearn.svm import SVR\n",
    "from sklearn.pipeline import Pipeline\n",
    "from sklearn.base import TransformerMixin, BaseEstimator\n",
    "\n",
    "\n",
    "warnings.filterwarnings(action=\"ignore\")\n",
    "%matplotlib inline"
   ]
  },
  {
   "cell_type": "code",
   "execution_count": 2,
   "metadata": {
    "colab": {
     "base_uri": "https://localhost:8080/",
     "height": 456
    },
    "id": "oAc-Fqq8JJ7p",
    "outputId": "98abbe72-f3b9-429c-8fed-50b0c4a0b843"
   },
   "outputs": [
    {
     "data": {
      "text/html": [
       "<div>\n",
       "<style scoped>\n",
       "    .dataframe tbody tr th:only-of-type {\n",
       "        vertical-align: middle;\n",
       "    }\n",
       "\n",
       "    .dataframe tbody tr th {\n",
       "        vertical-align: top;\n",
       "    }\n",
       "\n",
       "    .dataframe thead th {\n",
       "        text-align: right;\n",
       "    }\n",
       "</style>\n",
       "<table border=\"1\" class=\"dataframe\">\n",
       "  <thead>\n",
       "    <tr style=\"text-align: right;\">\n",
       "      <th></th>\n",
       "      <th>encounter_id</th>\n",
       "      <th>patient_id</th>\n",
       "      <th>hospital_id</th>\n",
       "      <th>hospital_death</th>\n",
       "      <th>age</th>\n",
       "      <th>bmi</th>\n",
       "      <th>elective_surgery</th>\n",
       "      <th>ethnicity</th>\n",
       "      <th>gender</th>\n",
       "      <th>height</th>\n",
       "      <th>...</th>\n",
       "      <th>aids</th>\n",
       "      <th>cirrhosis</th>\n",
       "      <th>diabetes_mellitus</th>\n",
       "      <th>hepatic_failure</th>\n",
       "      <th>immunosuppression</th>\n",
       "      <th>leukemia</th>\n",
       "      <th>lymphoma</th>\n",
       "      <th>solid_tumor_with_metastasis</th>\n",
       "      <th>apache_3j_bodysystem</th>\n",
       "      <th>apache_2_bodysystem</th>\n",
       "    </tr>\n",
       "  </thead>\n",
       "  <tbody>\n",
       "    <tr>\n",
       "      <th>0</th>\n",
       "      <td>66154</td>\n",
       "      <td>25312</td>\n",
       "      <td>118</td>\n",
       "      <td>0</td>\n",
       "      <td>68.0</td>\n",
       "      <td>22.73</td>\n",
       "      <td>0</td>\n",
       "      <td>Caucasian</td>\n",
       "      <td>M</td>\n",
       "      <td>180.3</td>\n",
       "      <td>...</td>\n",
       "      <td>0.0</td>\n",
       "      <td>0.0</td>\n",
       "      <td>1.0</td>\n",
       "      <td>0.0</td>\n",
       "      <td>0.0</td>\n",
       "      <td>0.0</td>\n",
       "      <td>0.0</td>\n",
       "      <td>0.0</td>\n",
       "      <td>Sepsis</td>\n",
       "      <td>Cardiovascular</td>\n",
       "    </tr>\n",
       "    <tr>\n",
       "      <th>1</th>\n",
       "      <td>114252</td>\n",
       "      <td>59342</td>\n",
       "      <td>81</td>\n",
       "      <td>0</td>\n",
       "      <td>77.0</td>\n",
       "      <td>27.42</td>\n",
       "      <td>0</td>\n",
       "      <td>Caucasian</td>\n",
       "      <td>F</td>\n",
       "      <td>160.0</td>\n",
       "      <td>...</td>\n",
       "      <td>0.0</td>\n",
       "      <td>0.0</td>\n",
       "      <td>1.0</td>\n",
       "      <td>0.0</td>\n",
       "      <td>0.0</td>\n",
       "      <td>0.0</td>\n",
       "      <td>0.0</td>\n",
       "      <td>0.0</td>\n",
       "      <td>Respiratory</td>\n",
       "      <td>Respiratory</td>\n",
       "    </tr>\n",
       "    <tr>\n",
       "      <th>2</th>\n",
       "      <td>119783</td>\n",
       "      <td>50777</td>\n",
       "      <td>118</td>\n",
       "      <td>0</td>\n",
       "      <td>25.0</td>\n",
       "      <td>31.95</td>\n",
       "      <td>0</td>\n",
       "      <td>Caucasian</td>\n",
       "      <td>F</td>\n",
       "      <td>172.7</td>\n",
       "      <td>...</td>\n",
       "      <td>0.0</td>\n",
       "      <td>0.0</td>\n",
       "      <td>0.0</td>\n",
       "      <td>0.0</td>\n",
       "      <td>0.0</td>\n",
       "      <td>0.0</td>\n",
       "      <td>0.0</td>\n",
       "      <td>0.0</td>\n",
       "      <td>Metabolic</td>\n",
       "      <td>Metabolic</td>\n",
       "    </tr>\n",
       "    <tr>\n",
       "      <th>3</th>\n",
       "      <td>79267</td>\n",
       "      <td>46918</td>\n",
       "      <td>118</td>\n",
       "      <td>0</td>\n",
       "      <td>81.0</td>\n",
       "      <td>22.64</td>\n",
       "      <td>1</td>\n",
       "      <td>Caucasian</td>\n",
       "      <td>F</td>\n",
       "      <td>165.1</td>\n",
       "      <td>...</td>\n",
       "      <td>0.0</td>\n",
       "      <td>0.0</td>\n",
       "      <td>0.0</td>\n",
       "      <td>0.0</td>\n",
       "      <td>0.0</td>\n",
       "      <td>0.0</td>\n",
       "      <td>0.0</td>\n",
       "      <td>0.0</td>\n",
       "      <td>Cardiovascular</td>\n",
       "      <td>Cardiovascular</td>\n",
       "    </tr>\n",
       "    <tr>\n",
       "      <th>4</th>\n",
       "      <td>92056</td>\n",
       "      <td>34377</td>\n",
       "      <td>33</td>\n",
       "      <td>0</td>\n",
       "      <td>19.0</td>\n",
       "      <td>NaN</td>\n",
       "      <td>0</td>\n",
       "      <td>Caucasian</td>\n",
       "      <td>M</td>\n",
       "      <td>188.0</td>\n",
       "      <td>...</td>\n",
       "      <td>0.0</td>\n",
       "      <td>0.0</td>\n",
       "      <td>0.0</td>\n",
       "      <td>0.0</td>\n",
       "      <td>0.0</td>\n",
       "      <td>0.0</td>\n",
       "      <td>0.0</td>\n",
       "      <td>0.0</td>\n",
       "      <td>Trauma</td>\n",
       "      <td>Trauma</td>\n",
       "    </tr>\n",
       "    <tr>\n",
       "      <th>5</th>\n",
       "      <td>33181</td>\n",
       "      <td>74489</td>\n",
       "      <td>83</td>\n",
       "      <td>0</td>\n",
       "      <td>67.0</td>\n",
       "      <td>27.56</td>\n",
       "      <td>0</td>\n",
       "      <td>Caucasian</td>\n",
       "      <td>M</td>\n",
       "      <td>190.5</td>\n",
       "      <td>...</td>\n",
       "      <td>0.0</td>\n",
       "      <td>0.0</td>\n",
       "      <td>1.0</td>\n",
       "      <td>0.0</td>\n",
       "      <td>0.0</td>\n",
       "      <td>0.0</td>\n",
       "      <td>0.0</td>\n",
       "      <td>0.0</td>\n",
       "      <td>Neurological</td>\n",
       "      <td>Neurologic</td>\n",
       "    </tr>\n",
       "    <tr>\n",
       "      <th>6</th>\n",
       "      <td>82208</td>\n",
       "      <td>49526</td>\n",
       "      <td>83</td>\n",
       "      <td>0</td>\n",
       "      <td>59.0</td>\n",
       "      <td>57.45</td>\n",
       "      <td>0</td>\n",
       "      <td>Caucasian</td>\n",
       "      <td>F</td>\n",
       "      <td>165.1</td>\n",
       "      <td>...</td>\n",
       "      <td>0.0</td>\n",
       "      <td>0.0</td>\n",
       "      <td>1.0</td>\n",
       "      <td>0.0</td>\n",
       "      <td>0.0</td>\n",
       "      <td>0.0</td>\n",
       "      <td>0.0</td>\n",
       "      <td>0.0</td>\n",
       "      <td>Respiratory</td>\n",
       "      <td>Respiratory</td>\n",
       "    </tr>\n",
       "    <tr>\n",
       "      <th>7</th>\n",
       "      <td>120995</td>\n",
       "      <td>50129</td>\n",
       "      <td>33</td>\n",
       "      <td>0</td>\n",
       "      <td>70.0</td>\n",
       "      <td>NaN</td>\n",
       "      <td>0</td>\n",
       "      <td>Caucasian</td>\n",
       "      <td>M</td>\n",
       "      <td>165.0</td>\n",
       "      <td>...</td>\n",
       "      <td>0.0</td>\n",
       "      <td>0.0</td>\n",
       "      <td>0.0</td>\n",
       "      <td>0.0</td>\n",
       "      <td>1.0</td>\n",
       "      <td>0.0</td>\n",
       "      <td>0.0</td>\n",
       "      <td>0.0</td>\n",
       "      <td>Sepsis</td>\n",
       "      <td>Cardiovascular</td>\n",
       "    </tr>\n",
       "    <tr>\n",
       "      <th>8</th>\n",
       "      <td>80471</td>\n",
       "      <td>10577</td>\n",
       "      <td>118</td>\n",
       "      <td>1</td>\n",
       "      <td>45.0</td>\n",
       "      <td>NaN</td>\n",
       "      <td>0</td>\n",
       "      <td>Caucasian</td>\n",
       "      <td>M</td>\n",
       "      <td>170.2</td>\n",
       "      <td>...</td>\n",
       "      <td>0.0</td>\n",
       "      <td>0.0</td>\n",
       "      <td>0.0</td>\n",
       "      <td>0.0</td>\n",
       "      <td>0.0</td>\n",
       "      <td>0.0</td>\n",
       "      <td>0.0</td>\n",
       "      <td>0.0</td>\n",
       "      <td>Cardiovascular</td>\n",
       "      <td>Cardiovascular</td>\n",
       "    </tr>\n",
       "    <tr>\n",
       "      <th>9</th>\n",
       "      <td>42871</td>\n",
       "      <td>90749</td>\n",
       "      <td>118</td>\n",
       "      <td>0</td>\n",
       "      <td>50.0</td>\n",
       "      <td>25.71</td>\n",
       "      <td>0</td>\n",
       "      <td>NaN</td>\n",
       "      <td>M</td>\n",
       "      <td>175.3</td>\n",
       "      <td>...</td>\n",
       "      <td>0.0</td>\n",
       "      <td>0.0</td>\n",
       "      <td>0.0</td>\n",
       "      <td>0.0</td>\n",
       "      <td>0.0</td>\n",
       "      <td>0.0</td>\n",
       "      <td>0.0</td>\n",
       "      <td>0.0</td>\n",
       "      <td>Cardiovascular</td>\n",
       "      <td>Cardiovascular</td>\n",
       "    </tr>\n",
       "  </tbody>\n",
       "</table>\n",
       "<p>10 rows × 186 columns</p>\n",
       "</div>"
      ],
      "text/plain": [
       "   encounter_id  patient_id  hospital_id  hospital_death   age    bmi  \\\n",
       "0         66154       25312          118               0  68.0  22.73   \n",
       "1        114252       59342           81               0  77.0  27.42   \n",
       "2        119783       50777          118               0  25.0  31.95   \n",
       "3         79267       46918          118               0  81.0  22.64   \n",
       "4         92056       34377           33               0  19.0    NaN   \n",
       "5         33181       74489           83               0  67.0  27.56   \n",
       "6         82208       49526           83               0  59.0  57.45   \n",
       "7        120995       50129           33               0  70.0    NaN   \n",
       "8         80471       10577          118               1  45.0    NaN   \n",
       "9         42871       90749          118               0  50.0  25.71   \n",
       "\n",
       "   elective_surgery  ethnicity gender  height  ... aids cirrhosis  \\\n",
       "0                 0  Caucasian      M   180.3  ...  0.0       0.0   \n",
       "1                 0  Caucasian      F   160.0  ...  0.0       0.0   \n",
       "2                 0  Caucasian      F   172.7  ...  0.0       0.0   \n",
       "3                 1  Caucasian      F   165.1  ...  0.0       0.0   \n",
       "4                 0  Caucasian      M   188.0  ...  0.0       0.0   \n",
       "5                 0  Caucasian      M   190.5  ...  0.0       0.0   \n",
       "6                 0  Caucasian      F   165.1  ...  0.0       0.0   \n",
       "7                 0  Caucasian      M   165.0  ...  0.0       0.0   \n",
       "8                 0  Caucasian      M   170.2  ...  0.0       0.0   \n",
       "9                 0        NaN      M   175.3  ...  0.0       0.0   \n",
       "\n",
       "   diabetes_mellitus hepatic_failure immunosuppression  leukemia  lymphoma  \\\n",
       "0                1.0             0.0               0.0       0.0       0.0   \n",
       "1                1.0             0.0               0.0       0.0       0.0   \n",
       "2                0.0             0.0               0.0       0.0       0.0   \n",
       "3                0.0             0.0               0.0       0.0       0.0   \n",
       "4                0.0             0.0               0.0       0.0       0.0   \n",
       "5                1.0             0.0               0.0       0.0       0.0   \n",
       "6                1.0             0.0               0.0       0.0       0.0   \n",
       "7                0.0             0.0               1.0       0.0       0.0   \n",
       "8                0.0             0.0               0.0       0.0       0.0   \n",
       "9                0.0             0.0               0.0       0.0       0.0   \n",
       "\n",
       "   solid_tumor_with_metastasis  apache_3j_bodysystem  apache_2_bodysystem  \n",
       "0                          0.0                Sepsis       Cardiovascular  \n",
       "1                          0.0           Respiratory          Respiratory  \n",
       "2                          0.0             Metabolic            Metabolic  \n",
       "3                          0.0        Cardiovascular       Cardiovascular  \n",
       "4                          0.0                Trauma               Trauma  \n",
       "5                          0.0          Neurological           Neurologic  \n",
       "6                          0.0           Respiratory          Respiratory  \n",
       "7                          0.0                Sepsis       Cardiovascular  \n",
       "8                          0.0        Cardiovascular       Cardiovascular  \n",
       "9                          0.0        Cardiovascular       Cardiovascular  \n",
       "\n",
       "[10 rows x 186 columns]"
      ]
     },
     "execution_count": 2,
     "metadata": {},
     "output_type": "execute_result"
    }
   ],
   "source": [
    "patient_records=pd.read_csv('kaggle/Dataset.csv/Dataset.csv')\n",
    "patient_records.head(10)"
   ]
  },
  {
   "cell_type": "markdown",
   "metadata": {
    "id": "Tn2tWUZhUfSz"
   },
   "source": [
    " == Start Machine Learning Testing =="
   ]
  },
  {
   "cell_type": "code",
   "execution_count": 3,
   "metadata": {
    "colab": {
     "base_uri": "https://localhost:8080/"
    },
    "id": "M4kUFH9ZUqfH",
    "outputId": "fcbd8ba9-e1b2-4cc4-d2e2-debbdc9ce8ed"
   },
   "outputs": [
    {
     "name": "stdout",
     "output_type": "stream",
     "text": [
      "Requirement already satisfied: tensorflow in /Users/ngtung/opt/anaconda3/lib/python3.9/site-packages (2.11.0)\n",
      "Requirement already satisfied: protobuf<3.20,>=3.9.2 in /Users/ngtung/opt/anaconda3/lib/python3.9/site-packages (from tensorflow) (3.19.6)\n",
      "Requirement already satisfied: astunparse>=1.6.0 in /Users/ngtung/opt/anaconda3/lib/python3.9/site-packages (from tensorflow) (1.6.3)\n",
      "Requirement already satisfied: six>=1.12.0 in /Users/ngtung/opt/anaconda3/lib/python3.9/site-packages (from tensorflow) (1.16.0)\n",
      "Requirement already satisfied: wrapt>=1.11.0 in /Users/ngtung/opt/anaconda3/lib/python3.9/site-packages (from tensorflow) (1.14.1)\n",
      "Requirement already satisfied: h5py>=2.9.0 in /Users/ngtung/opt/anaconda3/lib/python3.9/site-packages (from tensorflow) (3.7.0)\n",
      "Requirement already satisfied: google-pasta>=0.1.1 in /Users/ngtung/opt/anaconda3/lib/python3.9/site-packages (from tensorflow) (0.2.0)\n",
      "Requirement already satisfied: opt-einsum>=2.3.2 in /Users/ngtung/opt/anaconda3/lib/python3.9/site-packages (from tensorflow) (3.3.0)\n",
      "Requirement already satisfied: typing-extensions>=3.6.6 in /Users/ngtung/opt/anaconda3/lib/python3.9/site-packages (from tensorflow) (4.3.0)\n",
      "Requirement already satisfied: grpcio<2.0,>=1.24.3 in /Users/ngtung/opt/anaconda3/lib/python3.9/site-packages (from tensorflow) (1.51.3)\n",
      "Requirement already satisfied: tensorflow-estimator<2.12,>=2.11.0 in /Users/ngtung/opt/anaconda3/lib/python3.9/site-packages (from tensorflow) (2.11.0)\n",
      "Requirement already satisfied: setuptools in /Users/ngtung/opt/anaconda3/lib/python3.9/site-packages (from tensorflow) (63.4.1)\n",
      "Requirement already satisfied: absl-py>=1.0.0 in /Users/ngtung/opt/anaconda3/lib/python3.9/site-packages (from tensorflow) (1.4.0)\n",
      "Requirement already satisfied: flatbuffers>=2.0 in /Users/ngtung/opt/anaconda3/lib/python3.9/site-packages (from tensorflow) (23.3.3)\n",
      "Requirement already satisfied: keras<2.12,>=2.11.0 in /Users/ngtung/opt/anaconda3/lib/python3.9/site-packages (from tensorflow) (2.11.0)\n",
      "Requirement already satisfied: termcolor>=1.1.0 in /Users/ngtung/opt/anaconda3/lib/python3.9/site-packages (from tensorflow) (2.2.0)\n",
      "Requirement already satisfied: packaging in /Users/ngtung/opt/anaconda3/lib/python3.9/site-packages (from tensorflow) (21.3)\n",
      "Requirement already satisfied: tensorflow-io-gcs-filesystem>=0.23.1 in /Users/ngtung/opt/anaconda3/lib/python3.9/site-packages (from tensorflow) (0.31.0)\n",
      "Requirement already satisfied: tensorboard<2.12,>=2.11 in /Users/ngtung/opt/anaconda3/lib/python3.9/site-packages (from tensorflow) (2.11.2)\n",
      "Requirement already satisfied: gast<=0.4.0,>=0.2.1 in /Users/ngtung/opt/anaconda3/lib/python3.9/site-packages (from tensorflow) (0.4.0)\n",
      "Requirement already satisfied: numpy>=1.20 in /Users/ngtung/opt/anaconda3/lib/python3.9/site-packages (from tensorflow) (1.21.5)\n",
      "Requirement already satisfied: libclang>=13.0.0 in /Users/ngtung/opt/anaconda3/lib/python3.9/site-packages (from tensorflow) (15.0.6.1)\n",
      "Requirement already satisfied: wheel<1.0,>=0.23.0 in /Users/ngtung/opt/anaconda3/lib/python3.9/site-packages (from astunparse>=1.6.0->tensorflow) (0.37.1)\n",
      "Requirement already satisfied: requests<3,>=2.21.0 in /Users/ngtung/opt/anaconda3/lib/python3.9/site-packages (from tensorboard<2.12,>=2.11->tensorflow) (2.28.1)\n",
      "Requirement already satisfied: tensorboard-data-server<0.7.0,>=0.6.0 in /Users/ngtung/opt/anaconda3/lib/python3.9/site-packages (from tensorboard<2.12,>=2.11->tensorflow) (0.6.1)\n",
      "Requirement already satisfied: tensorboard-plugin-wit>=1.6.0 in /Users/ngtung/opt/anaconda3/lib/python3.9/site-packages (from tensorboard<2.12,>=2.11->tensorflow) (1.8.1)\n",
      "Requirement already satisfied: markdown>=2.6.8 in /Users/ngtung/opt/anaconda3/lib/python3.9/site-packages (from tensorboard<2.12,>=2.11->tensorflow) (3.3.4)\n",
      "Requirement already satisfied: google-auth-oauthlib<0.5,>=0.4.1 in /Users/ngtung/opt/anaconda3/lib/python3.9/site-packages (from tensorboard<2.12,>=2.11->tensorflow) (0.4.6)\n",
      "Requirement already satisfied: werkzeug>=1.0.1 in /Users/ngtung/opt/anaconda3/lib/python3.9/site-packages (from tensorboard<2.12,>=2.11->tensorflow) (2.0.3)\n",
      "Requirement already satisfied: google-auth<3,>=1.6.3 in /Users/ngtung/opt/anaconda3/lib/python3.9/site-packages (from tensorboard<2.12,>=2.11->tensorflow) (2.16.2)\n",
      "Requirement already satisfied: pyparsing!=3.0.5,>=2.0.2 in /Users/ngtung/opt/anaconda3/lib/python3.9/site-packages (from packaging->tensorflow) (3.0.9)\n",
      "Requirement already satisfied: rsa<5,>=3.1.4 in /Users/ngtung/opt/anaconda3/lib/python3.9/site-packages (from google-auth<3,>=1.6.3->tensorboard<2.12,>=2.11->tensorflow) (4.9)\n",
      "Requirement already satisfied: pyasn1-modules>=0.2.1 in /Users/ngtung/opt/anaconda3/lib/python3.9/site-packages (from google-auth<3,>=1.6.3->tensorboard<2.12,>=2.11->tensorflow) (0.2.8)\n",
      "Requirement already satisfied: cachetools<6.0,>=2.0.0 in /Users/ngtung/opt/anaconda3/lib/python3.9/site-packages (from google-auth<3,>=1.6.3->tensorboard<2.12,>=2.11->tensorflow) (5.3.0)\n",
      "Requirement already satisfied: requests-oauthlib>=0.7.0 in /Users/ngtung/opt/anaconda3/lib/python3.9/site-packages (from google-auth-oauthlib<0.5,>=0.4.1->tensorboard<2.12,>=2.11->tensorflow) (1.3.1)\n",
      "Requirement already satisfied: idna<4,>=2.5 in /Users/ngtung/opt/anaconda3/lib/python3.9/site-packages (from requests<3,>=2.21.0->tensorboard<2.12,>=2.11->tensorflow) (3.3)\n",
      "Requirement already satisfied: certifi>=2017.4.17 in /Users/ngtung/opt/anaconda3/lib/python3.9/site-packages (from requests<3,>=2.21.0->tensorboard<2.12,>=2.11->tensorflow) (2022.9.24)\n",
      "Requirement already satisfied: urllib3<1.27,>=1.21.1 in /Users/ngtung/opt/anaconda3/lib/python3.9/site-packages (from requests<3,>=2.21.0->tensorboard<2.12,>=2.11->tensorflow) (1.26.11)\n",
      "Requirement already satisfied: charset-normalizer<3,>=2 in /Users/ngtung/opt/anaconda3/lib/python3.9/site-packages (from requests<3,>=2.21.0->tensorboard<2.12,>=2.11->tensorflow) (2.0.4)\n",
      "Requirement already satisfied: pyasn1<0.5.0,>=0.4.6 in /Users/ngtung/opt/anaconda3/lib/python3.9/site-packages (from pyasn1-modules>=0.2.1->google-auth<3,>=1.6.3->tensorboard<2.12,>=2.11->tensorflow) (0.4.8)\n",
      "Requirement already satisfied: oauthlib>=3.0.0 in /Users/ngtung/opt/anaconda3/lib/python3.9/site-packages (from requests-oauthlib>=0.7.0->google-auth-oauthlib<0.5,>=0.4.1->tensorboard<2.12,>=2.11->tensorflow) (3.2.2)\n"
     ]
    }
   ],
   "source": [
    "!pip install tensorflow"
   ]
  },
  {
   "cell_type": "code",
   "execution_count": 4,
   "metadata": {
    "id": "chZClK1zUwHa"
   },
   "outputs": [],
   "source": [
    "# Importing liabraries\n",
    "import numpy as np\n",
    "import pandas as pd\n",
    "import matplotlib.pyplot as plt\n",
    "import seaborn as sns\n",
    "%matplotlib inline"
   ]
  },
  {
   "cell_type": "code",
   "execution_count": 5,
   "metadata": {
    "id": "PzzX9r9bUxlQ"
   },
   "outputs": [],
   "source": [
    "#import warnings\n",
    "import warnings\n",
    "warnings.filterwarnings('ignore')"
   ]
  },
  {
   "cell_type": "code",
   "execution_count": 6,
   "metadata": {
    "colab": {
     "base_uri": "https://localhost:8080/"
    },
    "id": "M0OkQY72VVvb",
    "outputId": "f1fcbf06-083c-457c-9ce7-47ddb3201ae7"
   },
   "outputs": [
    {
     "name": "stdout",
     "output_type": "stream",
     "text": [
      "<class 'pandas.core.frame.DataFrame'>\n",
      "RangeIndex: 91713 entries, 0 to 91712\n",
      "Columns: 186 entries, encounter_id to apache_2_bodysystem\n",
      "dtypes: float64(170), int64(8), object(8)\n",
      "memory usage: 130.1+ MB\n"
     ]
    }
   ],
   "source": [
    "patient_records.info()"
   ]
  },
  {
   "cell_type": "code",
   "execution_count": 7,
   "metadata": {
    "colab": {
     "base_uri": "https://localhost:8080/"
    },
    "id": "TcIX6T_PVWl6",
    "outputId": "b8bdc124-9797-4e58-ce7f-35615e0fa7ad"
   },
   "outputs": [
    {
     "data": {
      "text/plain": [
       "(91713, 186)"
      ]
     },
     "execution_count": 7,
     "metadata": {},
     "output_type": "execute_result"
    }
   ],
   "source": [
    "patient_records.shape"
   ]
  },
  {
   "cell_type": "code",
   "execution_count": 8,
   "metadata": {
    "id": "_sTVGWvmVg7K"
   },
   "outputs": [],
   "source": [
    "#import warnings\n",
    "import warnings\n",
    "warnings.filterwarnings('ignore')"
   ]
  },
  {
   "cell_type": "code",
   "execution_count": 9,
   "metadata": {
    "colab": {
     "base_uri": "https://localhost:8080/"
    },
    "id": "yQn8qVuoVnQs",
    "outputId": "fe00f05f-35dc-4c13-e3ed-34448088241d"
   },
   "outputs": [
    {
     "data": {
      "text/plain": [
       "175"
      ]
     },
     "execution_count": 9,
     "metadata": {},
     "output_type": "execute_result"
    }
   ],
   "source": [
    "#checking missing values\n",
    "patient_records.isnull().any().sum()"
   ]
  },
  {
   "cell_type": "code",
   "execution_count": 10,
   "metadata": {
    "colab": {
     "base_uri": "https://localhost:8080/"
    },
    "id": "A_hSYb0XVxus",
    "outputId": "f5ca8b2b-d83c-4c81-e7c2-ae8d6312fb53"
   },
   "outputs": [
    {
     "data": {
      "text/plain": [
       "encounter_id            0\n",
       "pre_icu_los_days        0\n",
       "icu_type                0\n",
       "icu_stay_type           0\n",
       "icu_id                  0\n",
       "                    ...  \n",
       "h1_albumin_min      83824\n",
       "h1_lactate_min      84369\n",
       "h1_lactate_max      84369\n",
       "h1_bilirubin_max    84619\n",
       "h1_bilirubin_min    84619\n",
       "Length: 186, dtype: int64"
      ]
     },
     "execution_count": 10,
     "metadata": {},
     "output_type": "execute_result"
    }
   ],
   "source": [
    "patient_records.isnull().sum().sort_values(ascending = True)"
   ]
  },
  {
   "cell_type": "code",
   "execution_count": 11,
   "metadata": {
    "colab": {
     "base_uri": "https://localhost:8080/",
     "height": 394
    },
    "id": "U1lgqkQKV01J",
    "outputId": "342eccbc-6500-4ee4-936d-2affb0aff832"
   },
   "outputs": [
    {
     "data": {
      "text/html": [
       "<div>\n",
       "<style scoped>\n",
       "    .dataframe tbody tr th:only-of-type {\n",
       "        vertical-align: middle;\n",
       "    }\n",
       "\n",
       "    .dataframe tbody tr th {\n",
       "        vertical-align: top;\n",
       "    }\n",
       "\n",
       "    .dataframe thead th {\n",
       "        text-align: right;\n",
       "    }\n",
       "</style>\n",
       "<table border=\"1\" class=\"dataframe\">\n",
       "  <thead>\n",
       "    <tr style=\"text-align: right;\">\n",
       "      <th></th>\n",
       "      <th>encounter_id</th>\n",
       "      <th>patient_id</th>\n",
       "      <th>hospital_id</th>\n",
       "      <th>hospital_death</th>\n",
       "      <th>age</th>\n",
       "      <th>bmi</th>\n",
       "      <th>elective_surgery</th>\n",
       "      <th>height</th>\n",
       "      <th>icu_id</th>\n",
       "      <th>pre_icu_los_days</th>\n",
       "      <th>...</th>\n",
       "      <th>apache_4a_hospital_death_prob</th>\n",
       "      <th>apache_4a_icu_death_prob</th>\n",
       "      <th>aids</th>\n",
       "      <th>cirrhosis</th>\n",
       "      <th>diabetes_mellitus</th>\n",
       "      <th>hepatic_failure</th>\n",
       "      <th>immunosuppression</th>\n",
       "      <th>leukemia</th>\n",
       "      <th>lymphoma</th>\n",
       "      <th>solid_tumor_with_metastasis</th>\n",
       "    </tr>\n",
       "  </thead>\n",
       "  <tbody>\n",
       "    <tr>\n",
       "      <th>count</th>\n",
       "      <td>91713.000000</td>\n",
       "      <td>91713.000000</td>\n",
       "      <td>91713.000000</td>\n",
       "      <td>91713.000000</td>\n",
       "      <td>87485.000000</td>\n",
       "      <td>88284.000000</td>\n",
       "      <td>91713.000000</td>\n",
       "      <td>90379.000000</td>\n",
       "      <td>91713.000000</td>\n",
       "      <td>91713.000000</td>\n",
       "      <td>...</td>\n",
       "      <td>83766.000000</td>\n",
       "      <td>83766.000000</td>\n",
       "      <td>90998.000000</td>\n",
       "      <td>90998.000000</td>\n",
       "      <td>90998.000000</td>\n",
       "      <td>90998.000000</td>\n",
       "      <td>90998.000000</td>\n",
       "      <td>90998.000000</td>\n",
       "      <td>90998.000000</td>\n",
       "      <td>90998.000000</td>\n",
       "    </tr>\n",
       "    <tr>\n",
       "      <th>mean</th>\n",
       "      <td>65606.079280</td>\n",
       "      <td>65537.131464</td>\n",
       "      <td>105.669262</td>\n",
       "      <td>0.086302</td>\n",
       "      <td>62.309516</td>\n",
       "      <td>29.185818</td>\n",
       "      <td>0.183736</td>\n",
       "      <td>169.641588</td>\n",
       "      <td>508.357692</td>\n",
       "      <td>0.835766</td>\n",
       "      <td>...</td>\n",
       "      <td>0.086787</td>\n",
       "      <td>0.043955</td>\n",
       "      <td>0.000857</td>\n",
       "      <td>0.015693</td>\n",
       "      <td>0.225192</td>\n",
       "      <td>0.012989</td>\n",
       "      <td>0.026165</td>\n",
       "      <td>0.007066</td>\n",
       "      <td>0.004132</td>\n",
       "      <td>0.020638</td>\n",
       "    </tr>\n",
       "    <tr>\n",
       "      <th>std</th>\n",
       "      <td>37795.088538</td>\n",
       "      <td>37811.252183</td>\n",
       "      <td>62.854406</td>\n",
       "      <td>0.280811</td>\n",
       "      <td>16.775119</td>\n",
       "      <td>8.275142</td>\n",
       "      <td>0.387271</td>\n",
       "      <td>10.795378</td>\n",
       "      <td>228.989661</td>\n",
       "      <td>2.487756</td>\n",
       "      <td>...</td>\n",
       "      <td>0.247569</td>\n",
       "      <td>0.217341</td>\n",
       "      <td>0.029265</td>\n",
       "      <td>0.124284</td>\n",
       "      <td>0.417711</td>\n",
       "      <td>0.113229</td>\n",
       "      <td>0.159628</td>\n",
       "      <td>0.083763</td>\n",
       "      <td>0.064148</td>\n",
       "      <td>0.142169</td>\n",
       "    </tr>\n",
       "    <tr>\n",
       "      <th>min</th>\n",
       "      <td>1.000000</td>\n",
       "      <td>1.000000</td>\n",
       "      <td>2.000000</td>\n",
       "      <td>0.000000</td>\n",
       "      <td>16.000000</td>\n",
       "      <td>14.844926</td>\n",
       "      <td>0.000000</td>\n",
       "      <td>137.200000</td>\n",
       "      <td>82.000000</td>\n",
       "      <td>-24.947222</td>\n",
       "      <td>...</td>\n",
       "      <td>-1.000000</td>\n",
       "      <td>-1.000000</td>\n",
       "      <td>0.000000</td>\n",
       "      <td>0.000000</td>\n",
       "      <td>0.000000</td>\n",
       "      <td>0.000000</td>\n",
       "      <td>0.000000</td>\n",
       "      <td>0.000000</td>\n",
       "      <td>0.000000</td>\n",
       "      <td>0.000000</td>\n",
       "    </tr>\n",
       "    <tr>\n",
       "      <th>25%</th>\n",
       "      <td>32852.000000</td>\n",
       "      <td>32830.000000</td>\n",
       "      <td>47.000000</td>\n",
       "      <td>0.000000</td>\n",
       "      <td>52.000000</td>\n",
       "      <td>23.641975</td>\n",
       "      <td>0.000000</td>\n",
       "      <td>162.500000</td>\n",
       "      <td>369.000000</td>\n",
       "      <td>0.035417</td>\n",
       "      <td>...</td>\n",
       "      <td>0.020000</td>\n",
       "      <td>0.010000</td>\n",
       "      <td>0.000000</td>\n",
       "      <td>0.000000</td>\n",
       "      <td>0.000000</td>\n",
       "      <td>0.000000</td>\n",
       "      <td>0.000000</td>\n",
       "      <td>0.000000</td>\n",
       "      <td>0.000000</td>\n",
       "      <td>0.000000</td>\n",
       "    </tr>\n",
       "    <tr>\n",
       "      <th>50%</th>\n",
       "      <td>65665.000000</td>\n",
       "      <td>65413.000000</td>\n",
       "      <td>109.000000</td>\n",
       "      <td>0.000000</td>\n",
       "      <td>65.000000</td>\n",
       "      <td>27.654655</td>\n",
       "      <td>0.000000</td>\n",
       "      <td>170.100000</td>\n",
       "      <td>504.000000</td>\n",
       "      <td>0.138889</td>\n",
       "      <td>...</td>\n",
       "      <td>0.050000</td>\n",
       "      <td>0.020000</td>\n",
       "      <td>0.000000</td>\n",
       "      <td>0.000000</td>\n",
       "      <td>0.000000</td>\n",
       "      <td>0.000000</td>\n",
       "      <td>0.000000</td>\n",
       "      <td>0.000000</td>\n",
       "      <td>0.000000</td>\n",
       "      <td>0.000000</td>\n",
       "    </tr>\n",
       "    <tr>\n",
       "      <th>75%</th>\n",
       "      <td>98342.000000</td>\n",
       "      <td>98298.000000</td>\n",
       "      <td>161.000000</td>\n",
       "      <td>0.000000</td>\n",
       "      <td>75.000000</td>\n",
       "      <td>32.930206</td>\n",
       "      <td>0.000000</td>\n",
       "      <td>177.800000</td>\n",
       "      <td>679.000000</td>\n",
       "      <td>0.409028</td>\n",
       "      <td>...</td>\n",
       "      <td>0.130000</td>\n",
       "      <td>0.060000</td>\n",
       "      <td>0.000000</td>\n",
       "      <td>0.000000</td>\n",
       "      <td>0.000000</td>\n",
       "      <td>0.000000</td>\n",
       "      <td>0.000000</td>\n",
       "      <td>0.000000</td>\n",
       "      <td>0.000000</td>\n",
       "      <td>0.000000</td>\n",
       "    </tr>\n",
       "    <tr>\n",
       "      <th>max</th>\n",
       "      <td>131051.000000</td>\n",
       "      <td>131051.000000</td>\n",
       "      <td>204.000000</td>\n",
       "      <td>1.000000</td>\n",
       "      <td>89.000000</td>\n",
       "      <td>67.814990</td>\n",
       "      <td>1.000000</td>\n",
       "      <td>195.590000</td>\n",
       "      <td>927.000000</td>\n",
       "      <td>159.090972</td>\n",
       "      <td>...</td>\n",
       "      <td>0.990000</td>\n",
       "      <td>0.970000</td>\n",
       "      <td>1.000000</td>\n",
       "      <td>1.000000</td>\n",
       "      <td>1.000000</td>\n",
       "      <td>1.000000</td>\n",
       "      <td>1.000000</td>\n",
       "      <td>1.000000</td>\n",
       "      <td>1.000000</td>\n",
       "      <td>1.000000</td>\n",
       "    </tr>\n",
       "  </tbody>\n",
       "</table>\n",
       "<p>8 rows × 178 columns</p>\n",
       "</div>"
      ],
      "text/plain": [
       "        encounter_id     patient_id   hospital_id  hospital_death  \\\n",
       "count   91713.000000   91713.000000  91713.000000    91713.000000   \n",
       "mean    65606.079280   65537.131464    105.669262        0.086302   \n",
       "std     37795.088538   37811.252183     62.854406        0.280811   \n",
       "min         1.000000       1.000000      2.000000        0.000000   \n",
       "25%     32852.000000   32830.000000     47.000000        0.000000   \n",
       "50%     65665.000000   65413.000000    109.000000        0.000000   \n",
       "75%     98342.000000   98298.000000    161.000000        0.000000   \n",
       "max    131051.000000  131051.000000    204.000000        1.000000   \n",
       "\n",
       "                age           bmi  elective_surgery        height  \\\n",
       "count  87485.000000  88284.000000      91713.000000  90379.000000   \n",
       "mean      62.309516     29.185818          0.183736    169.641588   \n",
       "std       16.775119      8.275142          0.387271     10.795378   \n",
       "min       16.000000     14.844926          0.000000    137.200000   \n",
       "25%       52.000000     23.641975          0.000000    162.500000   \n",
       "50%       65.000000     27.654655          0.000000    170.100000   \n",
       "75%       75.000000     32.930206          0.000000    177.800000   \n",
       "max       89.000000     67.814990          1.000000    195.590000   \n",
       "\n",
       "             icu_id  pre_icu_los_days  ...  apache_4a_hospital_death_prob  \\\n",
       "count  91713.000000      91713.000000  ...                   83766.000000   \n",
       "mean     508.357692          0.835766  ...                       0.086787   \n",
       "std      228.989661          2.487756  ...                       0.247569   \n",
       "min       82.000000        -24.947222  ...                      -1.000000   \n",
       "25%      369.000000          0.035417  ...                       0.020000   \n",
       "50%      504.000000          0.138889  ...                       0.050000   \n",
       "75%      679.000000          0.409028  ...                       0.130000   \n",
       "max      927.000000        159.090972  ...                       0.990000   \n",
       "\n",
       "       apache_4a_icu_death_prob          aids     cirrhosis  \\\n",
       "count              83766.000000  90998.000000  90998.000000   \n",
       "mean                   0.043955      0.000857      0.015693   \n",
       "std                    0.217341      0.029265      0.124284   \n",
       "min                   -1.000000      0.000000      0.000000   \n",
       "25%                    0.010000      0.000000      0.000000   \n",
       "50%                    0.020000      0.000000      0.000000   \n",
       "75%                    0.060000      0.000000      0.000000   \n",
       "max                    0.970000      1.000000      1.000000   \n",
       "\n",
       "       diabetes_mellitus  hepatic_failure  immunosuppression      leukemia  \\\n",
       "count       90998.000000     90998.000000       90998.000000  90998.000000   \n",
       "mean            0.225192         0.012989           0.026165      0.007066   \n",
       "std             0.417711         0.113229           0.159628      0.083763   \n",
       "min             0.000000         0.000000           0.000000      0.000000   \n",
       "25%             0.000000         0.000000           0.000000      0.000000   \n",
       "50%             0.000000         0.000000           0.000000      0.000000   \n",
       "75%             0.000000         0.000000           0.000000      0.000000   \n",
       "max             1.000000         1.000000           1.000000      1.000000   \n",
       "\n",
       "           lymphoma  solid_tumor_with_metastasis  \n",
       "count  90998.000000                 90998.000000  \n",
       "mean       0.004132                     0.020638  \n",
       "std        0.064148                     0.142169  \n",
       "min        0.000000                     0.000000  \n",
       "25%        0.000000                     0.000000  \n",
       "50%        0.000000                     0.000000  \n",
       "75%        0.000000                     0.000000  \n",
       "max        1.000000                     1.000000  \n",
       "\n",
       "[8 rows x 178 columns]"
      ]
     },
     "execution_count": 11,
     "metadata": {},
     "output_type": "execute_result"
    }
   ],
   "source": [
    "# statistical measures about the data\n",
    "patient_records.describe()"
   ]
  },
  {
   "cell_type": "code",
   "execution_count": 12,
   "metadata": {
    "colab": {
     "base_uri": "https://localhost:8080/"
    },
    "id": "OQSYIABAV3Ny",
    "outputId": "ea96ece7-4d6b-4b37-8705-4ff99aac3227"
   },
   "outputs": [
    {
     "data": {
      "text/plain": [
       "0    83798\n",
       "1     7915\n",
       "Name: hospital_death, dtype: int64"
      ]
     },
     "execution_count": 12,
     "metadata": {},
     "output_type": "execute_result"
    }
   ],
   "source": [
    "# checking the distribution of Target Varibale\n",
    "patient_records['hospital_death'].value_counts()"
   ]
  },
  {
   "cell_type": "code",
   "execution_count": 13,
   "metadata": {
    "colab": {
     "base_uri": "https://localhost:8080/",
     "height": 237
    },
    "id": "dkFI7cVKV5by",
    "outputId": "bc547039-8e4c-41f0-b1c8-b3b705eab106"
   },
   "outputs": [
    {
     "data": {
      "text/html": [
       "<div>\n",
       "<style scoped>\n",
       "    .dataframe tbody tr th:only-of-type {\n",
       "        vertical-align: middle;\n",
       "    }\n",
       "\n",
       "    .dataframe tbody tr th {\n",
       "        vertical-align: top;\n",
       "    }\n",
       "\n",
       "    .dataframe thead th {\n",
       "        text-align: right;\n",
       "    }\n",
       "</style>\n",
       "<table border=\"1\" class=\"dataframe\">\n",
       "  <thead>\n",
       "    <tr style=\"text-align: right;\">\n",
       "      <th></th>\n",
       "      <th>encounter_id</th>\n",
       "      <th>patient_id</th>\n",
       "      <th>hospital_id</th>\n",
       "      <th>age</th>\n",
       "      <th>bmi</th>\n",
       "      <th>elective_surgery</th>\n",
       "      <th>height</th>\n",
       "      <th>icu_id</th>\n",
       "      <th>pre_icu_los_days</th>\n",
       "      <th>readmission_status</th>\n",
       "      <th>...</th>\n",
       "      <th>apache_4a_hospital_death_prob</th>\n",
       "      <th>apache_4a_icu_death_prob</th>\n",
       "      <th>aids</th>\n",
       "      <th>cirrhosis</th>\n",
       "      <th>diabetes_mellitus</th>\n",
       "      <th>hepatic_failure</th>\n",
       "      <th>immunosuppression</th>\n",
       "      <th>leukemia</th>\n",
       "      <th>lymphoma</th>\n",
       "      <th>solid_tumor_with_metastasis</th>\n",
       "    </tr>\n",
       "    <tr>\n",
       "      <th>hospital_death</th>\n",
       "      <th></th>\n",
       "      <th></th>\n",
       "      <th></th>\n",
       "      <th></th>\n",
       "      <th></th>\n",
       "      <th></th>\n",
       "      <th></th>\n",
       "      <th></th>\n",
       "      <th></th>\n",
       "      <th></th>\n",
       "      <th></th>\n",
       "      <th></th>\n",
       "      <th></th>\n",
       "      <th></th>\n",
       "      <th></th>\n",
       "      <th></th>\n",
       "      <th></th>\n",
       "      <th></th>\n",
       "      <th></th>\n",
       "      <th></th>\n",
       "      <th></th>\n",
       "    </tr>\n",
       "  </thead>\n",
       "  <tbody>\n",
       "    <tr>\n",
       "      <th>0</th>\n",
       "      <td>65666.975501</td>\n",
       "      <td>65480.459629</td>\n",
       "      <td>105.693501</td>\n",
       "      <td>61.748741</td>\n",
       "      <td>29.264902</td>\n",
       "      <td>0.194873</td>\n",
       "      <td>169.706029</td>\n",
       "      <td>508.287716</td>\n",
       "      <td>0.787357</td>\n",
       "      <td>0.0</td>\n",
       "      <td>...</td>\n",
       "      <td>0.062882</td>\n",
       "      <td>0.024799</td>\n",
       "      <td>0.000818</td>\n",
       "      <td>0.014188</td>\n",
       "      <td>0.227215</td>\n",
       "      <td>0.011639</td>\n",
       "      <td>0.024012</td>\n",
       "      <td>0.006301</td>\n",
       "      <td>0.003763</td>\n",
       "      <td>0.018409</td>\n",
       "    </tr>\n",
       "    <tr>\n",
       "      <th>1</th>\n",
       "      <td>64961.356412</td>\n",
       "      <td>66137.129754</td>\n",
       "      <td>105.412634</td>\n",
       "      <td>68.494156</td>\n",
       "      <td>28.340398</td>\n",
       "      <td>0.065824</td>\n",
       "      <td>168.952094</td>\n",
       "      <td>509.098547</td>\n",
       "      <td>1.348287</td>\n",
       "      <td>0.0</td>\n",
       "      <td>...</td>\n",
       "      <td>0.334838</td>\n",
       "      <td>0.242726</td>\n",
       "      <td>0.001277</td>\n",
       "      <td>0.031673</td>\n",
       "      <td>0.203704</td>\n",
       "      <td>0.027331</td>\n",
       "      <td>0.049042</td>\n",
       "      <td>0.015198</td>\n",
       "      <td>0.008046</td>\n",
       "      <td>0.044317</td>\n",
       "    </tr>\n",
       "  </tbody>\n",
       "</table>\n",
       "<p>2 rows × 177 columns</p>\n",
       "</div>"
      ],
      "text/plain": [
       "                encounter_id    patient_id  hospital_id        age        bmi  \\\n",
       "hospital_death                                                                  \n",
       "0               65666.975501  65480.459629   105.693501  61.748741  29.264902   \n",
       "1               64961.356412  66137.129754   105.412634  68.494156  28.340398   \n",
       "\n",
       "                elective_surgery      height      icu_id  pre_icu_los_days  \\\n",
       "hospital_death                                                               \n",
       "0                       0.194873  169.706029  508.287716          0.787357   \n",
       "1                       0.065824  168.952094  509.098547          1.348287   \n",
       "\n",
       "                readmission_status  ...  apache_4a_hospital_death_prob  \\\n",
       "hospital_death                      ...                                  \n",
       "0                              0.0  ...                       0.062882   \n",
       "1                              0.0  ...                       0.334838   \n",
       "\n",
       "                apache_4a_icu_death_prob      aids  cirrhosis  \\\n",
       "hospital_death                                                  \n",
       "0                               0.024799  0.000818   0.014188   \n",
       "1                               0.242726  0.001277   0.031673   \n",
       "\n",
       "                diabetes_mellitus  hepatic_failure  immunosuppression  \\\n",
       "hospital_death                                                          \n",
       "0                        0.227215         0.011639           0.024012   \n",
       "1                        0.203704         0.027331           0.049042   \n",
       "\n",
       "                leukemia  lymphoma  solid_tumor_with_metastasis  \n",
       "hospital_death                                                   \n",
       "0               0.006301  0.003763                     0.018409  \n",
       "1               0.015198  0.008046                     0.044317  \n",
       "\n",
       "[2 rows x 177 columns]"
      ]
     },
     "execution_count": 13,
     "metadata": {},
     "output_type": "execute_result"
    }
   ],
   "source": [
    "patient_records.groupby('hospital_death').mean()"
   ]
  },
  {
   "cell_type": "code",
   "execution_count": 17,
   "metadata": {},
   "outputs": [
    {
     "name": "stdout",
     "output_type": "stream",
     "text": [
      "d1_lactate_min                   0.403614\n",
      "d1_lactate_max                   0.399029\n",
      "h1_lactate_min                   0.344046\n",
      "h1_lactate_max                   0.340951\n",
      "apache_4a_hospital_death_prob    0.311043\n",
      "apache_4a_icu_death_prob         0.283913\n",
      "gcs_motor_apache                 0.282449\n",
      "gcs_eyes_apache                  0.260373\n",
      "gcs_verbal_apache                0.241044\n",
      "d1_sysbp_invasive_min            0.234382\n",
      "Name: hospital_death, dtype: float64\n"
     ]
    }
   ],
   "source": [
    "import pandas as pd\n",
    "import numpy as np\n",
    "\n",
    "# 計算相關係數\n",
    "corr_matrix = patient_records.corr()\n",
    "\n",
    "# 從相關係數矩陣中找到所有與'hospital_death'相關係數絕對值最大的10個欄位\n",
    "related_cols = corr_matrix['hospital_death'].abs().sort_values(ascending=False)[1:11]\n",
    "\n",
    "print(related_cols)"
   ]
  },
  {
   "cell_type": "code",
   "execution_count": 16,
   "metadata": {},
   "outputs": [
    {
     "ename": "AttributeError",
     "evalue": "'tuple' object has no attribute 'spines'",
     "output_type": "error",
     "traceback": [
      "\u001b[0;31m---------------------------------------------------------------------------\u001b[0m",
      "\u001b[0;31mAttributeError\u001b[0m                            Traceback (most recent call last)",
      "\u001b[0;32m/var/folders/rm/dpjxptpx1jj__fvjkcmq6svc0000gn/T/ipykernel_11996/3815840273.py\u001b[0m in \u001b[0;36m<module>\u001b[0;34m\u001b[0m\n\u001b[1;32m      6\u001b[0m \u001b[0;31m# 绘制相关性热力图\u001b[0m\u001b[0;34m\u001b[0m\u001b[0;34m\u001b[0m\u001b[0m\n\u001b[1;32m      7\u001b[0m \u001b[0max\u001b[0m \u001b[0;34m=\u001b[0m \u001b[0mplt\u001b[0m\u001b[0;34m.\u001b[0m\u001b[0msubplots\u001b[0m\u001b[0;34m(\u001b[0m\u001b[0mfigsize\u001b[0m\u001b[0;34m=\u001b[0m\u001b[0;34m(\u001b[0m\u001b[0;36m20\u001b[0m\u001b[0;34m,\u001b[0m\u001b[0;36m20\u001b[0m\u001b[0;34m)\u001b[0m\u001b[0;34m)\u001b[0m\u001b[0;34m\u001b[0m\u001b[0;34m\u001b[0m\u001b[0m\n\u001b[0;32m----> 8\u001b[0;31m \u001b[0msns\u001b[0m\u001b[0;34m.\u001b[0m\u001b[0mheatmap\u001b[0m\u001b[0;34m(\u001b[0m\u001b[0mcorr_subset\u001b[0m\u001b[0;34m,\u001b[0m\u001b[0mannot\u001b[0m\u001b[0;34m=\u001b[0m\u001b[0;32mTrue\u001b[0m\u001b[0;34m,\u001b[0m\u001b[0mlinewidth\u001b[0m\u001b[0;34m=\u001b[0m\u001b[0;36m3.5\u001b[0m\u001b[0;34m,\u001b[0m\u001b[0max\u001b[0m\u001b[0;34m=\u001b[0m\u001b[0max\u001b[0m\u001b[0;34m)\u001b[0m\u001b[0;34m\u001b[0m\u001b[0;34m\u001b[0m\u001b[0m\n\u001b[0m",
      "\u001b[0;32m~/opt/anaconda3/lib/python3.9/site-packages/seaborn/_decorators.py\u001b[0m in \u001b[0;36minner_f\u001b[0;34m(*args, **kwargs)\u001b[0m\n\u001b[1;32m     44\u001b[0m             )\n\u001b[1;32m     45\u001b[0m         \u001b[0mkwargs\u001b[0m\u001b[0;34m.\u001b[0m\u001b[0mupdate\u001b[0m\u001b[0;34m(\u001b[0m\u001b[0;34m{\u001b[0m\u001b[0mk\u001b[0m\u001b[0;34m:\u001b[0m \u001b[0marg\u001b[0m \u001b[0;32mfor\u001b[0m \u001b[0mk\u001b[0m\u001b[0;34m,\u001b[0m \u001b[0marg\u001b[0m \u001b[0;32min\u001b[0m \u001b[0mzip\u001b[0m\u001b[0;34m(\u001b[0m\u001b[0msig\u001b[0m\u001b[0;34m.\u001b[0m\u001b[0mparameters\u001b[0m\u001b[0;34m,\u001b[0m \u001b[0margs\u001b[0m\u001b[0;34m)\u001b[0m\u001b[0;34m}\u001b[0m\u001b[0;34m)\u001b[0m\u001b[0;34m\u001b[0m\u001b[0;34m\u001b[0m\u001b[0m\n\u001b[0;32m---> 46\u001b[0;31m         \u001b[0;32mreturn\u001b[0m \u001b[0mf\u001b[0m\u001b[0;34m(\u001b[0m\u001b[0;34m**\u001b[0m\u001b[0mkwargs\u001b[0m\u001b[0;34m)\u001b[0m\u001b[0;34m\u001b[0m\u001b[0;34m\u001b[0m\u001b[0m\n\u001b[0m\u001b[1;32m     47\u001b[0m     \u001b[0;32mreturn\u001b[0m \u001b[0minner_f\u001b[0m\u001b[0;34m\u001b[0m\u001b[0;34m\u001b[0m\u001b[0m\n\u001b[1;32m     48\u001b[0m \u001b[0;34m\u001b[0m\u001b[0m\n",
      "\u001b[0;32m~/opt/anaconda3/lib/python3.9/site-packages/seaborn/matrix.py\u001b[0m in \u001b[0;36mheatmap\u001b[0;34m(data, vmin, vmax, cmap, center, robust, annot, fmt, annot_kws, linewidths, linecolor, cbar, cbar_kws, cbar_ax, square, xticklabels, yticklabels, mask, ax, **kwargs)\u001b[0m\n\u001b[1;32m    551\u001b[0m     \u001b[0;32mif\u001b[0m \u001b[0msquare\u001b[0m\u001b[0;34m:\u001b[0m\u001b[0;34m\u001b[0m\u001b[0;34m\u001b[0m\u001b[0m\n\u001b[1;32m    552\u001b[0m         \u001b[0max\u001b[0m\u001b[0;34m.\u001b[0m\u001b[0mset_aspect\u001b[0m\u001b[0;34m(\u001b[0m\u001b[0;34m\"equal\"\u001b[0m\u001b[0;34m)\u001b[0m\u001b[0;34m\u001b[0m\u001b[0;34m\u001b[0m\u001b[0m\n\u001b[0;32m--> 553\u001b[0;31m     \u001b[0mplotter\u001b[0m\u001b[0;34m.\u001b[0m\u001b[0mplot\u001b[0m\u001b[0;34m(\u001b[0m\u001b[0max\u001b[0m\u001b[0;34m,\u001b[0m \u001b[0mcbar_ax\u001b[0m\u001b[0;34m,\u001b[0m \u001b[0mkwargs\u001b[0m\u001b[0;34m)\u001b[0m\u001b[0;34m\u001b[0m\u001b[0;34m\u001b[0m\u001b[0m\n\u001b[0m\u001b[1;32m    554\u001b[0m     \u001b[0;32mreturn\u001b[0m \u001b[0max\u001b[0m\u001b[0;34m\u001b[0m\u001b[0;34m\u001b[0m\u001b[0m\n\u001b[1;32m    555\u001b[0m \u001b[0;34m\u001b[0m\u001b[0m\n",
      "\u001b[0;32m~/opt/anaconda3/lib/python3.9/site-packages/seaborn/matrix.py\u001b[0m in \u001b[0;36mplot\u001b[0;34m(self, ax, cax, kws)\u001b[0m\n\u001b[1;32m    291\u001b[0m         \u001b[0;34m\"\"\"Draw the heatmap on the provided Axes.\"\"\"\u001b[0m\u001b[0;34m\u001b[0m\u001b[0;34m\u001b[0m\u001b[0m\n\u001b[1;32m    292\u001b[0m         \u001b[0;31m# Remove all the Axes spines\u001b[0m\u001b[0;34m\u001b[0m\u001b[0;34m\u001b[0m\u001b[0m\n\u001b[0;32m--> 293\u001b[0;31m         \u001b[0mdespine\u001b[0m\u001b[0;34m(\u001b[0m\u001b[0max\u001b[0m\u001b[0;34m=\u001b[0m\u001b[0max\u001b[0m\u001b[0;34m,\u001b[0m \u001b[0mleft\u001b[0m\u001b[0;34m=\u001b[0m\u001b[0;32mTrue\u001b[0m\u001b[0;34m,\u001b[0m \u001b[0mbottom\u001b[0m\u001b[0;34m=\u001b[0m\u001b[0;32mTrue\u001b[0m\u001b[0;34m)\u001b[0m\u001b[0;34m\u001b[0m\u001b[0;34m\u001b[0m\u001b[0m\n\u001b[0m\u001b[1;32m    294\u001b[0m \u001b[0;34m\u001b[0m\u001b[0m\n\u001b[1;32m    295\u001b[0m         \u001b[0;31m# setting vmin/vmax in addition to norm is deprecated\u001b[0m\u001b[0;34m\u001b[0m\u001b[0;34m\u001b[0m\u001b[0m\n",
      "\u001b[0;32m~/opt/anaconda3/lib/python3.9/site-packages/seaborn/utils.py\u001b[0m in \u001b[0;36mdespine\u001b[0;34m(fig, ax, top, right, left, bottom, offset, trim)\u001b[0m\n\u001b[1;32m    263\u001b[0m             \u001b[0;31m# Toggle the spine objects\u001b[0m\u001b[0;34m\u001b[0m\u001b[0;34m\u001b[0m\u001b[0m\n\u001b[1;32m    264\u001b[0m             \u001b[0mis_visible\u001b[0m \u001b[0;34m=\u001b[0m \u001b[0;32mnot\u001b[0m \u001b[0mlocals\u001b[0m\u001b[0;34m(\u001b[0m\u001b[0;34m)\u001b[0m\u001b[0;34m[\u001b[0m\u001b[0mside\u001b[0m\u001b[0;34m]\u001b[0m\u001b[0;34m\u001b[0m\u001b[0;34m\u001b[0m\u001b[0m\n\u001b[0;32m--> 265\u001b[0;31m             \u001b[0max_i\u001b[0m\u001b[0;34m.\u001b[0m\u001b[0mspines\u001b[0m\u001b[0;34m[\u001b[0m\u001b[0mside\u001b[0m\u001b[0;34m]\u001b[0m\u001b[0;34m.\u001b[0m\u001b[0mset_visible\u001b[0m\u001b[0;34m(\u001b[0m\u001b[0mis_visible\u001b[0m\u001b[0;34m)\u001b[0m\u001b[0;34m\u001b[0m\u001b[0;34m\u001b[0m\u001b[0m\n\u001b[0m\u001b[1;32m    266\u001b[0m             \u001b[0;32mif\u001b[0m \u001b[0moffset\u001b[0m \u001b[0;32mis\u001b[0m \u001b[0;32mnot\u001b[0m \u001b[0;32mNone\u001b[0m \u001b[0;32mand\u001b[0m \u001b[0mis_visible\u001b[0m\u001b[0;34m:\u001b[0m\u001b[0;34m\u001b[0m\u001b[0;34m\u001b[0m\u001b[0m\n\u001b[1;32m    267\u001b[0m                 \u001b[0;32mtry\u001b[0m\u001b[0;34m:\u001b[0m\u001b[0;34m\u001b[0m\u001b[0;34m\u001b[0m\u001b[0m\n",
      "\u001b[0;31mAttributeError\u001b[0m: 'tuple' object has no attribute 'spines'"
     ]
    },
    {
     "data": {
      "image/png": "[encoded data removed]",
      "text/plain": [
       "<Figure size 2000x2000 with 1 Axes>"
      ]
     },
     "metadata": {},
     "output_type": "display_data"
    }
   ],
   "source": [
    "related_cols_20 = corr_matrix.nlargest(10, 'hospital_death')['hospital_death'].index\n",
    "\n",
    "# 创建相关性子集\n",
    "corr_subset = patient_records[related_cols_20].corr()\n",
    "\n",
    "# 绘制相关性热力图  \n",
    "sns.heatmap(corr_subset,annot=True,linewidth=3.5,ax=ax)"
   ]
  },
  {
   "cell_type": "code",
   "execution_count": null,
   "metadata": {},
   "outputs": [],
   "source": [
    "import numpy as np\n",
    "corr_matrix = np.corrcoef(patient_records['hospital_death'], patient_records['elective_surgery'])\n",
    "corr_matrix"
   ]
  },
  {
   "cell_type": "code",
   "execution_count": null,
   "metadata": {
    "colab": {
     "base_uri": "https://localhost:8080/",
     "height": 297
    },
    "id": "Q7aSyFIqV8JM",
    "outputId": "00a84059-61d2-49e8-ae78-c161f5ea15f0"
   },
   "outputs": [],
   "source": [
    "sns.set_style('whitegrid')\n",
    "sns.countplot(x='hospital_death',data=patient_records)"
   ]
  },
  {
   "cell_type": "code",
   "execution_count": null,
   "metadata": {
    "id": "BBeZl-nvV_Si"
   },
   "outputs": [],
   "source": [
    "object_columns = patient_records.select_dtypes(include=['object']).columns"
   ]
  },
  {
   "cell_type": "code",
   "execution_count": null,
   "metadata": {
    "colab": {
     "base_uri": "https://localhost:8080/"
    },
    "id": "w5pRFwG9WABq",
    "outputId": "22c37701-e8b5-4b13-b2ab-5944d6a04d6e"
   },
   "outputs": [],
   "source": [
    "object_columns"
   ]
  },
  {
   "cell_type": "code",
   "execution_count": null,
   "metadata": {
    "colab": {
     "base_uri": "https://localhost:8080/"
    },
    "id": "9lbfQHF5WA2u",
    "outputId": "9d271223-6fc1-4770-e243-282bd7f30519"
   },
   "outputs": [],
   "source": [
    "cols = patient_records.select_dtypes([np.number]).columns\n",
    "cols"
   ]
  },
  {
   "cell_type": "code",
   "execution_count": null,
   "metadata": {
    "colab": {
     "base_uri": "https://localhost:8080/",
     "height": 297
    },
    "id": "QqZwr3VBWEHW",
    "outputId": "85c422d0-9b36-43eb-db1c-a1d736d82059"
   },
   "outputs": [],
   "source": [
    "### Checking Outliers\n",
    "sns.distplot(patient_records['hospital_death']) "
   ]
  },
  {
   "cell_type": "code",
   "execution_count": null,
   "metadata": {
    "colab": {
     "base_uri": "https://localhost:8080/",
     "height": 297
    },
    "id": "f9U0aXIaWHNi",
    "outputId": "737a29be-5018-4e2d-ae54-cbd0e246ed0d"
   },
   "outputs": [],
   "source": [
    "sns.distplot(patient_records['hepatic_failure']) "
   ]
  },
  {
   "cell_type": "code",
   "execution_count": null,
   "metadata": {
    "colab": {
     "base_uri": "https://localhost:8080/",
     "height": 297
    },
    "id": "y5ScD29-WJXd",
    "outputId": "4a440ffb-e131-486b-847e-8dc6f421d56f"
   },
   "outputs": [],
   "source": [
    "sns.distplot(patient_records['solid_tumor_with_metastasis']) "
   ]
  },
  {
   "cell_type": "code",
   "execution_count": null,
   "metadata": {
    "colab": {
     "base_uri": "https://localhost:8080/",
     "height": 488
    },
    "id": "Dn5Yr7dUWLkY",
    "outputId": "09bd0413-f0e6-42dd-dc1e-087b01f2d246"
   },
   "outputs": [],
   "source": [
    "patient_records[cols] = patient_records[cols].fillna(patient_records[cols].mean())\n",
    "patient_records[cols]"
   ]
  },
  {
   "cell_type": "code",
   "execution_count": null,
   "metadata": {
    "colab": {
     "base_uri": "https://localhost:8080/"
    },
    "id": "QKdzOuyqWPSa",
    "outputId": "14a715af-582a-44c7-ed50-0b6af281cddc"
   },
   "outputs": [],
   "source": [
    "object_columns = ['ethnicity', 'gender', 'hospital_admit_source', 'icu_admit_source',\n",
    "       'icu_stay_type', 'icu_type', 'apache_3j_bodysystem',\n",
    "       'apache_2_bodysystem']\n",
    "for i in object_columns:\n",
    "    patient_records[i].fillna(patient_records[i].mode()[0], inplace=True)\n",
    "    print(i)"
   ]
  },
  {
   "cell_type": "code",
   "execution_count": null,
   "metadata": {
    "colab": {
     "base_uri": "https://localhost:8080/"
    },
    "id": "iS72uD0bWS-2",
    "outputId": "61297f43-562b-47dc-f706-3ba7383ad040"
   },
   "outputs": [],
   "source": [
    "patient_records.isnull().sum()"
   ]
  },
  {
   "cell_type": "code",
   "execution_count": null,
   "metadata": {
    "colab": {
     "base_uri": "https://localhost:8080/"
    },
    "id": "EuBYoSWVWU8g",
    "outputId": "ba640af3-ccbe-4a4a-ec01-0f39868c3b84"
   },
   "outputs": [],
   "source": [
    "patient_records.isnull().any().sum()"
   ]
  },
  {
   "cell_type": "code",
   "execution_count": null,
   "metadata": {
    "colab": {
     "base_uri": "https://localhost:8080/",
     "height": 300
    },
    "id": "ZQEg2dPdWWyC",
    "outputId": "e4df6664-e2f1-4eca-896c-86e42b9187aa"
   },
   "outputs": [],
   "source": [
    "from sklearn.preprocessing import LabelEncoder\n",
    "le = LabelEncoder()\n",
    "object_columns = ['ethnicity', 'gender', 'hospital_admit_source', 'icu_admit_source',\n",
    "       'icu_stay_type', 'icu_type', 'apache_3j_bodysystem',\n",
    "       'apache_2_bodysystem']\n",
    "\n",
    "# Encode labels of multiple columns at once\n",
    "\n",
    "patient_records[object_columns] = patient_records[object_columns].apply(le.fit_transform)\n",
    "\n",
    "patient_records.head()"
   ]
  },
  {
   "cell_type": "code",
   "execution_count": null,
   "metadata": {
    "colab": {
     "base_uri": "https://localhost:8080/"
    },
    "id": "P1gfr4_FWaIY",
    "outputId": "6439bbe4-b548-4f05-af0a-aae0e05da28f"
   },
   "outputs": [],
   "source": [
    "patient_records.info()"
   ]
  },
  {
   "cell_type": "code",
   "execution_count": null,
   "metadata": {
    "id": "WbT5eC_bWdVk"
   },
   "outputs": [],
   "source": [
    "X = patient_records.drop(columns='hospital_death', axis=1)\n",
    "Y = patient_records['hospital_death']"
   ]
  },
  {
   "cell_type": "code",
   "execution_count": null,
   "metadata": {
    "colab": {
     "base_uri": "https://localhost:8080/",
     "height": 488
    },
    "id": "NG2pKdQmWeR2",
    "outputId": "3ac48027-2f6d-402d-92b9-742b938bbc66"
   },
   "outputs": [],
   "source": [
    "X"
   ]
  },
  {
   "cell_type": "code",
   "execution_count": null,
   "metadata": {
    "colab": {
     "base_uri": "https://localhost:8080/"
    },
    "id": "L5ngXPzNWgoG",
    "outputId": "7ce61cb4-2b13-4fd4-fca8-c94c6638eabb"
   },
   "outputs": [],
   "source": [
    "Y"
   ]
  },
  {
   "cell_type": "code",
   "execution_count": null,
   "metadata": {
    "id": "bQSSWg2kWiiY"
   },
   "outputs": [],
   "source": [
    "from sklearn.model_selection import train_test_split\n",
    "X_train, X_test, Y_train, Y_test = train_test_split(X, Y, test_size=0.2, random_state=2)"
   ]
  },
  {
   "cell_type": "code",
   "execution_count": null,
   "metadata": {
    "colab": {
     "base_uri": "https://localhost:8080/"
    },
    "id": "NwFKGYk8WlGt",
    "outputId": "d9ac65d1-f526-4f9a-d587-5870fe83ec71"
   },
   "outputs": [],
   "source": [
    "print(X.shape, X_train.shape, X_test.shape)"
   ]
  },
  {
   "cell_type": "code",
   "execution_count": null,
   "metadata": {
    "colab": {
     "base_uri": "https://localhost:8080/"
    },
    "id": "JbOpWbOrWmLV",
    "outputId": "40f7914b-6742-45d1-a4b0-2ada7d19cf3e"
   },
   "outputs": [],
   "source": [
    "from sklearn.feature_selection import mutual_info_classif\n",
    "# determine the mutual information\n",
    "mutual_info = mutual_info_classif(X_train, Y_train)\n",
    "mutual_info"
   ]
  },
  {
   "cell_type": "code",
   "execution_count": null,
   "metadata": {
    "colab": {
     "base_uri": "https://localhost:8080/"
    },
    "id": "arRwEAk2WnbC",
    "outputId": "bea4d434-d7a1-4a12-8a3e-5c1dad1962fb"
   },
   "outputs": [],
   "source": [
    "mutual_info = pd.Series(mutual_info)\n",
    "mutual_info.index = X_train.columns\n",
    "mutual_info.sort_values(ascending=False)"
   ]
  },
  {
   "cell_type": "code",
   "execution_count": null,
   "metadata": {
    "colab": {
     "base_uri": "https://localhost:8080/",
     "height": 645
    },
    "id": "8Bj8FFMhWo-y",
    "outputId": "eb1dc5a7-63f0-4c6b-8484-15b73a6c10e0"
   },
   "outputs": [],
   "source": [
    "#let's plot the ordered mutual_info values per feature\n",
    "mutual_info.sort_values(ascending=False).plot.bar(figsize=(20, 8))"
   ]
  },
  {
   "cell_type": "code",
   "execution_count": null,
   "metadata": {},
   "outputs": [],
   "source": [
    "from xgboost import XGBClassifier\n",
    "\n",
    "# 建立 XGBClassifier 模型 --KAY\n",
    "xgboostModel = XGBClassifier(n_estimators=100, learning_rate= 0.3)\n",
    "# 使用訓練資料訓練模型\n",
    "xgboostModel.fit(X_train, Y_train)\n",
    "# 使用訓練資料預測分類\n",
    "predicted = xgboostModel.predict(X_train)"
   ]
  },
  {
   "cell_type": "code",
   "execution_count": null,
   "metadata": {},
   "outputs": [],
   "source": []
  },
  {
   "cell_type": "code",
   "execution_count": null,
   "metadata": {},
   "outputs": [],
   "source": [
    "print('訓練集: ',xgboostModel.score(X_train,Y_train))\n",
    "print('測試集: ',xgboostModel.score(X_test,Y_test))"
   ]
  },
  {
   "cell_type": "code",
   "execution_count": null,
   "metadata": {
    "id": "PCtu-G7pcidJ"
   },
   "outputs": [],
   "source": [
    "from sklearn.feature_selection import SelectKBest"
   ]
  },
  {
   "cell_type": "code",
   "execution_count": null,
   "metadata": {
    "colab": {
     "base_uri": "https://localhost:8080/"
    },
    "id": "tYA4E7CackJU",
    "outputId": "19b12f86-c98b-4c01-e842-6d99c23ace13"
   },
   "outputs": [],
   "source": [
    "#Now we Will select the top six important features\n",
    "sel_six_cols = SelectKBest(mutual_info_classif, k=6)\n",
    "sel_six_cols.fit(X_train, Y_train)\n",
    "X_train.columns[sel_six_cols.get_support()]"
   ]
  },
  {
   "cell_type": "code",
   "execution_count": null,
   "metadata": {
    "id": "SMlkhkkJclCq"
   },
   "outputs": [],
   "source": [
    "X_train_new = sel_six_cols.transform(X_train)\n",
    "X_test_new =  sel_six_cols.transform(X_test)"
   ]
  },
  {
   "cell_type": "code",
   "execution_count": null,
   "metadata": {
    "id": "Pc-ist6WcmrB"
   },
   "outputs": [],
   "source": [
    "from sklearn.preprocessing import StandardScaler"
   ]
  },
  {
   "cell_type": "code",
   "execution_count": null,
   "metadata": {
    "id": "MlGu4Mhicnvc"
   },
   "outputs": [],
   "source": [
    "scaler = StandardScaler()\n",
    "X_train_std = scaler.fit_transform(X_train_new)\n",
    "X_test_std = scaler.transform(X_test_new)"
   ]
  },
  {
   "cell_type": "code",
   "execution_count": null,
   "metadata": {
    "id": "NeNqDiPCco_8"
   },
   "outputs": [],
   "source": [
    "from keras import Sequential\n",
    "from keras.layers import Dense\n",
    "model = Sequential()\n",
    "model.add(Dense(12, input_dim=6, activation='relu'))\n",
    "model.add(Dense(8, activation='relu'))\n",
    "model.add(Dense(1, activation='sigmoid'))"
   ]
  },
  {
   "cell_type": "code",
   "execution_count": null,
   "metadata": {
    "id": "2N0LgJ6OcqI6"
   },
   "outputs": [],
   "source": [
    "import tensorflow as tf\n",
    "#Compile the model\n",
    "model.compile(\n",
    "    loss = tf.keras.losses.binary_crossentropy,\n",
    "    optimizer = tf.keras.optimizers.Adam(learning_rate = 0.02),\n",
    "    metrics = [\n",
    "        tf.keras.metrics.BinaryAccuracy(name='accuracy'),\n",
    "        tf.keras.metrics.Precision(name='precision'),\n",
    "        tf.keras.metrics.Recall(name='recall')\n",
    "    ]\n",
    ")"
   ]
  },
  {
   "cell_type": "code",
   "execution_count": null,
   "metadata": {
    "colab": {
     "base_uri": "https://localhost:8080/"
    },
    "id": "K7vJMuqmcsVV",
    "outputId": "bd5ce2c4-47a1-4ca3-fc11-4ed4d0acc80c"
   },
   "outputs": [],
   "source": [
    "# fit the keras model on the dataset\n",
    "history = model.fit(X_train_std, Y_train, epochs=20, validation_split=0.2,batch_size=10)\n"
   ]
  },
  {
   "cell_type": "code",
   "execution_count": null,
   "metadata": {
    "colab": {
     "base_uri": "https://localhost:8080/",
     "height": 792
    },
    "id": "7DrgFhpRW81L",
    "outputId": "054fe73c-ef60-4060-ef17-590b9dd26c54"
   },
   "outputs": [],
   "source": [
    "# evaluate the keras model\n",
    "print(X_test_std.shape)\n",
    "print(Y_test.shape)\n",
    "print(X_test_std)\n",
    "print(Y_test)\n",
    "# generate confusion matrix scores\n",
    "\n",
    "scores = model.evaluate(X_test_std, Y_test)  \n",
    "predictions = (model.predict(X_train_std) > 0.5).astype(\"int32\")\n",
    "recall = model.evaluate(X_test_std, Y_test)\n",
    "print (scores)\n",
    "#predictions = model.predict_classes(X_train_std)\n",
    "\n",
    "y_pred = model.predict(X_train_std)\n",
    "y_pred = [0 if val < 0.5 else 1 for val in y_hat]\n",
    "accuracy_score(y_test, y_pred)\n",
    "\n",
    "\n",
    "#_, accuracy = model.evaluate(X_test_std, Y_test)\n",
    "#recall= (model.predict\n",
    "#print('Accuracy: %.2f' % (accuracy*100))\n",
    "_,precision = model.evaluate(X_test_std, Y_test)\n",
    "#print('Precision: %f' % precision)\n",
    "_,recall = model.evaluate(X_test_std, Y_test)\n",
    "#print('Recall: %f' % recall)"
   ]
  },
  {
   "cell_type": "code",
   "execution_count": null,
   "metadata": {
    "colab": {
     "base_uri": "https://localhost:8080/",
     "height": 312
    },
    "id": "1WZbaeouW-xg",
    "outputId": "44adc1bc-d7a4-44a7-c4a4-bb48819de3d8"
   },
   "outputs": [],
   "source": [
    "plt.plot(history.history['accuracy'])\n",
    "plt.plot(history.history['val_accuracy'])\n",
    "\n",
    "plt.title('model accuracy')\n",
    "plt.ylabel('accuracy')\n",
    "plt.xlabel('epoch')\n",
    "\n",
    "plt.legend(['training data', 'validation data'], loc = 'lower right')"
   ]
  },
  {
   "cell_type": "code",
   "execution_count": null,
   "metadata": {
    "colab": {
     "base_uri": "https://localhost:8080/",
     "height": 312
    },
    "id": "znxXdRk3XCHm",
    "outputId": "8821b038-490e-4ba1-916a-da83253cbe87"
   },
   "outputs": [],
   "source": [
    "plt.plot(history.history['loss'])\n",
    "plt.plot(history.history['val_loss'])\n",
    "\n",
    "plt.title('model loss')\n",
    "plt.ylabel('loss')\n",
    "plt.xlabel('epoch')\n",
    "\n",
    "plt.legend(['training data', 'validation data'], loc = 'upper right')"
   ]
  },
  {
   "cell_type": "code",
   "execution_count": null,
   "metadata": {
    "colab": {
     "base_uri": "https://localhost:8080/"
    },
    "id": "XipCe3nC4UX3",
    "outputId": "92a2c162-fad4-466b-a26f-38366c59d5a3"
   },
   "outputs": [],
   "source": [
    "!pip3 install torch\n",
    "!pip3 install torch torchvision torchaudio"
   ]
  },
  {
   "cell_type": "code",
   "execution_count": null,
   "metadata": {
    "id": "2NTool5979Yz"
   },
   "outputs": [],
   "source": [
    "import torch\n",
    "from torch import nn\n",
    "from torch import optim\n",
    "import torch.nn.functional as F\n",
    "from torchvision import datasets, transforms"
   ]
  },
  {
   "cell_type": "code",
   "execution_count": null,
   "metadata": {
    "colab": {
     "base_uri": "https://localhost:8080/"
    },
    "id": "VWpvxZYUXDgz",
    "outputId": "36f26a7d-2567-407a-f405-6735527c3522"
   },
   "outputs": [],
   "source": [
    "#saving the model\n",
    "model.save(\"keras_model.h5\")\n",
    "model_save_name = \"keras_model.h5\"\n",
    "\n",
    "PATH = f\"/content/gdrive/MyDrive/PolyU/COMP5152_Advanced_Data_Analytics/2022/COMP5152 Project/Patient Survival Prediction model/{model_save_name}\"\n",
    "model.save(PATH) \n",
    "print(model)\n",
    "print(PATH)\n",
    "#torch.save(model.state_dict(), PATH)\n",
    "\n",
    "print(history)"
   ]
  },
  {
   "cell_type": "code",
   "execution_count": null,
   "metadata": {
    "id": "aORbkAUBXEXP"
   },
   "outputs": [],
   "source": [
    "#loading the model \n",
    "from keras.models import load_model\n",
    "\n",
    "\n",
    "#saving the model\n",
    "#model.save('keras_model.h5')\n",
    "\n",
    "model_save_name = 'keras_model.h5'\n",
    "path = F\"/content/gdrive/MyDrive/PolyU/COMP5152_Advanced_Data_Analytics/2022/COMP5152 Project/Patient Survival Prediction model/{model_save_name}\" \n",
    "model = load_model(path)"
   ]
  },
  {
   "cell_type": "code",
   "execution_count": null,
   "metadata": {
    "colab": {
     "base_uri": "https://localhost:8080/"
    },
    "id": "UEg_nG4LXFM0",
    "outputId": "11ea738e-cf0d-4dc6-b712-82d7469d9165"
   },
   "outputs": [],
   "source": [
    "print(sorted(X_test['apache_3j_diagnosis'].unique()))"
   ]
  },
  {
   "cell_type": "code",
   "execution_count": null,
   "metadata": {
    "colab": {
     "base_uri": "https://localhost:8080/"
    },
    "id": "MFlRWx-CXGaA",
    "outputId": "dcd2371e-b05c-4f26-ddd7-9c8ac8e80ce1"
   },
   "outputs": [],
   "source": [
    "print(sorted(X_test['gcs_motor_apache'].unique()))"
   ]
  },
  {
   "cell_type": "code",
   "execution_count": null,
   "metadata": {
    "colab": {
     "base_uri": "https://localhost:8080/"
    },
    "id": "Wj-bw4jUXHBB",
    "outputId": "1d1ff4cd-4bd6-464f-d0c1-360668d6f4ce"
   },
   "outputs": [],
   "source": [
    "print(sorted(X_test['d1_lactate_max'].unique()))"
   ]
  },
  {
   "cell_type": "code",
   "execution_count": null,
   "metadata": {
    "colab": {
     "base_uri": "https://localhost:8080/",
     "height": 443
    },
    "id": "zMRzSmoHXH9G",
    "outputId": "bc27301d-87be-43b5-e878-205a910a3fb4"
   },
   "outputs": [],
   "source": [
    "!pip install shap\n",
    "import shap\n",
    "shap.initjs()"
   ]
  },
  {
   "cell_type": "code",
   "execution_count": null,
   "metadata": {
    "id": "timWNn_QXI6Q"
   },
   "outputs": [],
   "source": [
    "X_sample =pd.DataFrame( X_train_new,columns = X_train.columns[sel_six_cols.get_support()]).sample(100)"
   ]
  },
  {
   "cell_type": "code",
   "execution_count": null,
   "metadata": {
    "colab": {
     "base_uri": "https://localhost:8080/",
     "height": 424
    },
    "id": "AIEk2Xc0XJvk",
    "outputId": "8aaf0882-9906-4090-f65e-0be22c740a53"
   },
   "outputs": [],
   "source": [
    "X_sample"
   ]
  },
  {
   "cell_type": "code",
   "execution_count": null,
   "metadata": {
    "colab": {
     "base_uri": "https://localhost:8080/"
    },
    "id": "CiuQmuMCXKq4",
    "outputId": "aae5a829-07ff-478c-c882-38f73f08246c"
   },
   "outputs": [],
   "source": [
    "explainer = shap.KernelExplainer(model.predict,X_train_new)"
   ]
  },
  {
   "cell_type": "code",
   "execution_count": null,
   "metadata": {
    "colab": {
     "base_uri": "https://localhost:8080/",
     "height": 1000,
     "referenced_widgets": [
      "333e53ee7cb24278ae006f8f05879334",
      "7f3af56955044521a47e7bb82a4ed05b",
      "20ef69e19bcb4f06bff1a46134da87cc",
      "01c643d8d908498bbb39e85bf900c79f",
      "2de7b5a8fbdf4f05b7ad433b6c7790b3",
      "842a4b7209c647e18ec1e91f4646dfb0",
      "b25a23c0997741d4b1ca9a0514e287c4",
      "c5b060e3ebe8495fabf7e535dc68a27c",
      "f7ccec92f5704738be769ca7679d16d3",
      "8bc9cc43376d4bfea8e0521c9ea6c458",
      "08c64f3c505e4eee9fb003707e8b36eb"
     ]
    },
    "id": "zB3qZDpuXLle",
    "outputId": "961c2fb1-d0d1-4dcd-f70b-c1054da1f2f2"
   },
   "outputs": [],
   "source": [
    "shap_values = explainer.shap_values(X_sample)"
   ]
  },
  {
   "cell_type": "code",
   "execution_count": null,
   "metadata": {
    "id": "x1TTJZgPXMXg"
   },
   "outputs": [],
   "source": [
    "shap.summary_plot(shap_values, X_sample, plot_type=\"bar\")"
   ]
  },
  {
   "cell_type": "code",
   "execution_count": null,
   "metadata": {
    "id": "FuKISoQ9XM_k"
   },
   "outputs": [],
   "source": [
    "###force plot\n",
    "shap.force_plot(explainer.expected_value[0], shap_values[0], features = X_sample)"
   ]
  },
  {
   "cell_type": "code",
   "execution_count": null,
   "metadata": {
    "id": "VQFVbrmlXNwA"
   },
   "outputs": [],
   "source": [
    "shap.summary_plot(shap_values[0], features = X_sample)"
   ]
  },
  {
   "cell_type": "markdown",
   "metadata": {
    "id": "00okbLo5UfKE"
   },
   "source": [
    "patient_records = df\n",
    "\n",
    "== End Machine Learning Testing =="
   ]
  },
  {
   "cell_type": "markdown",
   "metadata": {
    "id": "XMD0ovd-LxCO"
   },
   "source": [
    "======Testing======\n",
    "\n",
    "Reference.\n",
    "https://colab.research.google.com/github/adelnehme/cleaning-data-in-python-live-training/blob/master/Cleaning_Data_in_Python_live_session.ipynb#scrollTo=W5vfZi03RwwY"
   ]
  },
  {
   "cell_type": "code",
   "execution_count": null,
   "metadata": {
    "id": "xZq0gUK7KxJz"
   },
   "outputs": [],
   "source": [
    "# Import libraries\n",
    "import pandas as pd\n",
    "import matplotlib.pyplot as plt\n",
    "import numpy as np\n",
    "import seaborn as sns\n",
    "import missingno as msno\n",
    "import datetime as dt"
   ]
  },
  {
   "cell_type": "code",
   "execution_count": null,
   "metadata": {
    "colab": {
     "base_uri": "https://localhost:8080/",
     "height": 300
    },
    "id": "hVxR6LIrK11G",
    "outputId": "b5212f7c-af70-46b8-fa9f-421135feaf3d"
   },
   "outputs": [],
   "source": [
    "# Print the header of the DataFrame\n",
    "patient_records.head()"
   ]
  },
  {
   "cell_type": "code",
   "execution_count": null,
   "metadata": {
    "colab": {
     "base_uri": "https://localhost:8080/"
    },
    "id": "cScONMJL7_JV",
    "outputId": "ec976684-3080-4782-c95e-8bf31a3ee7f9"
   },
   "outputs": [],
   "source": [
    "# Print data types of DataFrame\n",
    "patient_records.dtypes"
   ]
  },
  {
   "cell_type": "code",
   "execution_count": null,
   "metadata": {
    "colab": {
     "base_uri": "https://localhost:8080/"
    },
    "id": "OX3Dtx7A8BP4",
    "outputId": "5a7eb2f7-cc79-4873-9774-d16964882785"
   },
   "outputs": [],
   "source": [
    "#Print info of DataFrame\n",
    "patient_records.info()"
   ]
  },
  {
   "cell_type": "code",
   "execution_count": null,
   "metadata": {
    "colab": {
     "base_uri": "https://localhost:8080/"
    },
    "id": "sbSZgjtd8DTi",
    "outputId": "66f8a444-67c9-432f-8410-0e89d67760f2"
   },
   "outputs": [],
   "source": [
    "# Print number of missing values\n",
    "patient_records.isna().sum()"
   ]
  },
  {
   "cell_type": "code",
   "execution_count": null,
   "metadata": {
    "colab": {
     "base_uri": "https://localhost:8080/",
     "height": 394
    },
    "id": "OL68N5m18HEa",
    "outputId": "72598e5b-afdf-412b-9d4d-52cc7855a8d3"
   },
   "outputs": [],
   "source": [
    "# Print description of DataFrame\n",
    "patient_records.describe()"
   ]
  },
  {
   "cell_type": "code",
   "execution_count": null,
   "metadata": {
    "colab": {
     "base_uri": "https://localhost:8080/",
     "height": 296
    },
    "id": "kgG617Ds8KZp",
    "outputId": "0ce81076-edb1-4950-c7ad-0e8abe662fde"
   },
   "outputs": [],
   "source": [
    "# Visualize the distribution of the rating column\n",
    "sns.distplot(patient_records['apache_4a_hospital_death_prob'], bins = 20)\n",
    "plt.title('Distribution of apache_4a_hospital_death_prob ratings')\n",
    "plt.show()"
   ]
  },
  {
   "cell_type": "code",
   "execution_count": null,
   "metadata": {
    "colab": {
     "base_uri": "https://localhost:8080/"
    },
    "id": "Ds7YVjbt8hm9",
    "outputId": "ef834765-c0da-4b35-f7c9-62c1a91ac97c"
   },
   "outputs": [],
   "source": [
    "# Find number of unique values in age column\n",
    "\n",
    "patient_records['age'].unique()\n"
   ]
  },
  {
   "cell_type": "code",
   "execution_count": null,
   "metadata": {
    "colab": {
     "base_uri": "https://localhost:8080/"
    },
    "id": "ISnJQnOy81Y0",
    "outputId": "802ba714-683f-41b3-c3b8-d03745cb74a5"
   },
   "outputs": [],
   "source": [
    "# Find number of unique values in height column\n",
    "\n",
    "patient_records['height'].unique()\n"
   ]
  },
  {
   "cell_type": "code",
   "execution_count": null,
   "metadata": {
    "colab": {
     "base_uri": "https://localhost:8080/"
    },
    "id": "4zHrN8jU81ti",
    "outputId": "fe59e4d6-cedc-4fde-95ea-6c05a17808ae"
   },
   "outputs": [],
   "source": [
    "# Find number of unique values in bmi column\n",
    "()\n",
    "patient_records['bmi'].unique()"
   ]
  },
  {
   "cell_type": "code",
   "execution_count": null,
   "metadata": {
    "colab": {
     "base_uri": "https://localhost:8080/"
    },
    "id": "fzVmgxaI8993",
    "outputId": "5b4a1fab-166a-4951-c166-d918d0405db8"
   },
   "outputs": [],
   "source": [
    "# How many values of different age do we have?\n",
    "patient_records['age'].value_counts()"
   ]
  },
  {
   "cell_type": "code",
   "execution_count": null,
   "metadata": {
    "colab": {
     "base_uri": "https://localhost:8080/"
    },
    "id": "SheWmTO_9MVQ",
    "outputId": "ce08d846-bd34-41db-b848-ff4043006e78"
   },
   "outputs": [],
   "source": [
    "# How many values of different height do we have?\n",
    "patient_records['height'].value_counts()"
   ]
  },
  {
   "cell_type": "code",
   "execution_count": null,
   "metadata": {
    "colab": {
     "base_uri": "https://localhost:8080/"
    },
    "id": "uNt273No9MwG",
    "outputId": "58252ac4-1070-4fad-c8e1-9629325eb9f8"
   },
   "outputs": [],
   "source": [
    "# How many values of different bmi do we have?\n",
    "patient_records['bmi'].value_counts()"
   ]
  },
  {
   "cell_type": "markdown",
   "metadata": {
    "id": "InnT50Kc9UDd"
   },
   "source": [
    "clearning data"
   ]
  },
  {
   "cell_type": "code",
   "execution_count": null,
   "metadata": {
    "colab": {
     "base_uri": "https://localhost:8080/",
     "height": 300
    },
    "id": "csDHP3yq9S7A",
    "outputId": "80013e41-3c44-49f4-d346-5a6ea3708762"
   },
   "outputs": [],
   "source": [
    "# Reminder of the DataFrame\n",
    "patient_records.head()"
   ]
  },
  {
   "cell_type": "code",
   "execution_count": null,
   "metadata": {
    "colab": {
     "base_uri": "https://localhost:8080/",
     "height": 593
    },
    "id": "NvBfQwWH9zru",
    "outputId": "e56e29fd-9ed2-46a9-c768-0b4d2c3342d5"
   },
   "outputs": [],
   "source": [
    "# Visualize the missingness \n",
    "msno.matrix(patient_records)\n",
    "plt.show()"
   ]
  },
  {
   "cell_type": "code",
   "execution_count": null,
   "metadata": {
    "colab": {
     "base_uri": "https://localhost:8080/",
     "height": 593
    },
    "id": "F5DidSmD_bNE",
    "outputId": "18cb64f6-26bb-4848-9bff-e742c66f7305"
   },
   "outputs": [],
   "source": [
    "# Visualize the missingness on sorted values\n",
    "msno.matrix(patient_records.sort_values(by = 'bmi'))\n",
    "plt.show()"
   ]
  },
  {
   "cell_type": "code",
   "execution_count": null,
   "metadata": {
    "colab": {
     "base_uri": "https://localhost:8080/",
     "height": 1000
    },
    "id": "9pAwRTVAAALd",
    "outputId": "a7c66466-6913-44fb-846e-57cacd36edd8"
   },
   "outputs": [],
   "source": [
    "# Missingness barplot\n",
    "msno.bar(patient_records)"
   ]
  },
  {
   "cell_type": "markdown",
   "metadata": {
    "id": "Ye-VY0ZdL1Rp"
   },
   "source": [
    "======Testing======"
   ]
  },
  {
   "cell_type": "code",
   "execution_count": null,
   "metadata": {
    "colab": {
     "base_uri": "https://localhost:8080/"
    },
    "id": "CBdiiDrDJ3Av",
    "outputId": "ee96fefd-4bc5-4b59-b4bf-95bf6b523db2"
   },
   "outputs": [],
   "source": [
    "#Exact all the column from dataset\n",
    "patient_records.columns"
   ]
  },
  {
   "cell_type": "code",
   "execution_count": null,
   "metadata": {
    "colab": {
     "base_uri": "https://localhost:8080/"
    },
    "id": "TkTpQBqZJ5Pr",
    "outputId": "6e88d26e-819c-4f31-f81f-14e43ec483fc"
   },
   "outputs": [],
   "source": [
    "#let's get in to the data information with datatypes\n",
    "patient_records.info(verbose=True, null_counts=True)"
   ]
  },
  {
   "cell_type": "code",
   "execution_count": null,
   "metadata": {
    "colab": {
     "base_uri": "https://localhost:8080/"
    },
    "id": "FeOmt5_RJ84m",
    "outputId": "4c02787a-01d8-4038-990b-827be94dc117"
   },
   "outputs": [],
   "source": [
    "#Let us check out the individual data types\n",
    "patient_records.dtypes"
   ]
  },
  {
   "cell_type": "code",
   "execution_count": null,
   "metadata": {
    "id": "IP3xIUElKA5T"
   },
   "outputs": [],
   "source": [
    "binary_variables = [\n",
    "    \"hospital_death\", \n",
    "    \"elective_surgery\", \n",
    "    \"readmission_status\", \n",
    "    \"apache_post_operative\", \n",
    "    \"arf_apache\", \n",
    "    \"gcs_unable_apache\", \n",
    "    \"intubated_apache\", \n",
    "    \"ventilated_apache\", \n",
    "    \"aids\", \n",
    "    \"cirrhosis\", \n",
    "    \"diabetes_mellitus\", \n",
    "    \"hepatic_failure\", \n",
    "    \"immunosuppression\", \n",
    "    \"leukemia\", \n",
    "    \"lymphoma\", \n",
    "    \"solid_tumor_with_metastasis\"\n",
    "]\n"
   ]
  },
  {
   "cell_type": "code",
   "execution_count": null,
   "metadata": {
    "colab": {
     "base_uri": "https://localhost:8080/"
    },
    "id": "A1feRG4jKEYD",
    "outputId": "e1ad1068-ed85-4f92-c8b5-946e52d251f2"
   },
   "outputs": [],
   "source": [
    "patient_records[binary_variables].info()"
   ]
  },
  {
   "cell_type": "code",
   "execution_count": null,
   "metadata": {
    "colab": {
     "base_uri": "https://localhost:8080/"
    },
    "id": "fWBkNXgUKF-l",
    "outputId": "e8f0b07c-0538-4f10-a886-0af1b366b028"
   },
   "outputs": [],
   "source": [
    "patient_records[binary_variables].nunique()"
   ]
  },
  {
   "cell_type": "code",
   "execution_count": null,
   "metadata": {
    "colab": {
     "base_uri": "https://localhost:8080/"
    },
    "id": "1oQFLotKKHZn",
    "outputId": "12ca8170-0f77-460f-cb2d-5a9ab360551f"
   },
   "outputs": [],
   "source": [
    "patient_records[binary_variables].isnull().sum() * 100 / patient_records[binary_variables].shape[0]"
   ]
  },
  {
   "cell_type": "code",
   "execution_count": null,
   "metadata": {
    "colab": {
     "base_uri": "https://localhost:8080/"
    },
    "id": "cRV4Ob2tKJrB",
    "outputId": "704833d2-009b-4efd-ce06-aa2cbd29b64f"
   },
   "outputs": [],
   "source": [
    "to_convert_variables = [ \n",
    "    \"arf_apache\", \n",
    "    \"gcs_unable_apache\", \n",
    "    \"intubated_apache\", \n",
    "    \"ventilated_apache\", \n",
    "    \"aids\", \n",
    "    \"cirrhosis\", \n",
    "    \"diabetes_mellitus\", \n",
    "    \"hepatic_failure\", \n",
    "    \"immunosuppression\", \n",
    "    \"leukemia\", \n",
    "    \"lymphoma\", \n",
    "    \"solid_tumor_with_metastasis\"\n",
    "]\n",
    "# patient_records[\"arf_apache\"] = patient_records[\"arf_apache\"].fillna(patient_records[\"arf_apache\"].mode())\n",
    "for var in to_convert_variables:\n",
    "    print(var)\n",
    "    print(patient_records[var].mode())"
   ]
  },
  {
   "cell_type": "code",
   "execution_count": null,
   "metadata": {
    "id": "ZblrzRQWKLPV"
   },
   "outputs": [],
   "source": [
    "patient_records[to_convert_variables] = patient_records[to_convert_variables].fillna(0.0)"
   ]
  },
  {
   "cell_type": "code",
   "execution_count": null,
   "metadata": {
    "colab": {
     "base_uri": "https://localhost:8080/"
    },
    "id": "SrWAPDLnKL_Q",
    "outputId": "9483ac01-0523-401f-a46d-6358fcb42131"
   },
   "outputs": [],
   "source": [
    "patient_records[to_convert_variables].info()"
   ]
  },
  {
   "cell_type": "code",
   "execution_count": null,
   "metadata": {
    "colab": {
     "base_uri": "https://localhost:8080/"
    },
    "id": "5YjL-G1IKNcw",
    "outputId": "4a9a198a-1108-45fe-b78e-752fbf68fea6"
   },
   "outputs": [],
   "source": [
    "# patient_records[\"arf_apache\"].astype(np.int64)\n",
    "patient_records['arf_apache'] = patient_records['arf_apache'].apply(np.int64)\n",
    "patient_records['gcs_unable_apache'] = patient_records['gcs_unable_apache'].apply(np.int64)\n",
    "patient_records['intubated_apache'] = patient_records['intubated_apache'].apply(np.int64)\n",
    "patient_records['ventilated_apache'] = patient_records['ventilated_apache'].apply(np.int64)\n",
    "patient_records['aids'] = patient_records['aids'].apply(np.int64)\n",
    "patient_records['cirrhosis'] = patient_records['cirrhosis'].apply(np.int64)\n",
    "patient_records['diabetes_mellitus'] = patient_records['diabetes_mellitus'].apply(np.int64)\n",
    "patient_records['hepatic_failure'] = patient_records['hepatic_failure'].apply(np.int64)\n",
    "patient_records['immunosuppression'] = patient_records['immunosuppression'].apply(np.int64)\n",
    "patient_records['leukemia'] = patient_records['leukemia'].apply(np.int64)\n",
    "patient_records['lymphoma'] = patient_records['lymphoma'].apply(np.int64)\n",
    "patient_records['solid_tumor_with_metastasis'] = patient_records['solid_tumor_with_metastasis'].apply(np.int64)\n",
    "patient_records[binary_variables].info()"
   ]
  },
  {
   "cell_type": "code",
   "execution_count": null,
   "metadata": {
    "id": "fdRs983WKPd5"
   },
   "outputs": [],
   "source": [
    "patient_records.drop([\"apache_post_operative\"], axis=1, inplace=True)"
   ]
  },
  {
   "cell_type": "code",
   "execution_count": null,
   "metadata": {
    "id": "RsP4QohnKTYj"
   },
   "outputs": [],
   "source": [
    "#as by default our target variable is a numerical data we will change our datatype to categorical \n",
    "patient_records['hospital_death']=patient_records['hospital_death'].astype('object')"
   ]
  },
  {
   "cell_type": "code",
   "execution_count": null,
   "metadata": {
    "id": "itI5RdaTKUiq"
   },
   "outputs": [],
   "source": [
    "patient_catgeorical = patient_records.select_dtypes(object)"
   ]
  },
  {
   "cell_type": "code",
   "execution_count": null,
   "metadata": {
    "colab": {
     "base_uri": "https://localhost:8080/"
    },
    "id": "FtzFDYukKVVb",
    "outputId": "55ed9567-470d-4068-fcc4-46cc066c8a9e"
   },
   "outputs": [],
   "source": [
    "patient_catgeorical.info()"
   ]
  },
  {
   "cell_type": "code",
   "execution_count": null,
   "metadata": {
    "colab": {
     "base_uri": "https://localhost:8080/"
    },
    "id": "q4adjpiXL6we",
    "outputId": "c15dac9f-cacf-4a7d-d28f-1163c6214ea3"
   },
   "outputs": [],
   "source": [
    "patient_catgeorical.nunique()"
   ]
  },
  {
   "cell_type": "code",
   "execution_count": null,
   "metadata": {
    "colab": {
     "base_uri": "https://localhost:8080/"
    },
    "id": "zSKlgz7EL77b",
    "outputId": "36e4aac7-c9c9-4f19-b34d-2c19c11a47ee"
   },
   "outputs": [],
   "source": [
    "patient_catgeorical.isnull().sum() * 100 / patient_catgeorical.shape[0]"
   ]
  },
  {
   "cell_type": "code",
   "execution_count": null,
   "metadata": {
    "colab": {
     "base_uri": "https://localhost:8080/"
    },
    "id": "0sLq0oqnL9JA",
    "outputId": "f18be25f-7012-45f1-e284-ec5c7c5cf2be"
   },
   "outputs": [],
   "source": [
    "for var in [\"gender\", \"apache_3j_bodysystem\", \"apache_2_bodysystem\",\"ethnicity\",\"hospital_admit_source\",\"icu_admit_source\"]:\n",
    "    print(var)\n",
    "    print(patient_records[var].mode())"
   ]
  },
  {
   "cell_type": "code",
   "execution_count": null,
   "metadata": {
    "id": "BOcLShZcL-LL"
   },
   "outputs": [],
   "source": [
    "patient_records[\"gender\"] = patient_records[\"gender\"].fillna(\"M\")\n",
    "patient_records[\"apache_3j_bodysystem\"] = patient_records[\"apache_3j_bodysystem\"].fillna(\"Cardiovascular\")\n",
    "patient_records[\"apache_2_bodysystem\"] = patient_records[\"apache_2_bodysystem\"].fillna(\"Cardiovascular\")\n",
    "patient_records[\"ethnicity\"] = patient_records[\"ethnicity\"].fillna(\"Caucasian\")\n",
    "patient_records[\"hospital_admit_source\"] = patient_records[\"hospital_admit_source\"].fillna(\"Floor\")\n",
    "patient_records[\"icu_admit_source\"] = patient_records[\"icu_admit_source\"].fillna(\"Floor\")"
   ]
  },
  {
   "cell_type": "code",
   "execution_count": null,
   "metadata": {
    "colab": {
     "base_uri": "https://localhost:8080/"
    },
    "id": "TFB8kACeL_DF",
    "outputId": "dd3a927e-4026-430b-bb82-9b968311f4b9"
   },
   "outputs": [],
   "source": [
    "for var in [\"gender\", \"icu_type\", \"apache_3j_bodysystem\", \"apache_2_bodysystem\",\"ethnicity\",\"hospital_admit_source\",\"icu_admit_source\"]:\n",
    "    print(patient_records[var].value_counts())"
   ]
  },
  {
   "cell_type": "code",
   "execution_count": null,
   "metadata": {
    "colab": {
     "base_uri": "https://localhost:8080/"
    },
    "id": "T6gKsfKDMAb6",
    "outputId": "72bd9af9-0879-4a4e-b1c0-40810a932a61"
   },
   "outputs": [],
   "source": [
    "patient_records.apache_2_bodysystem.replace({\"Undefined diagnoses\": \"Undefined Diagnoses\"}, inplace=True)\n",
    "for var in [\"gender\", \"icu_type\", \"apache_3j_bodysystem\", \"apache_2_bodysystem\"]:\n",
    "    print(patient_records[var].value_counts())"
   ]
  },
  {
   "cell_type": "code",
   "execution_count": null,
   "metadata": {
    "colab": {
     "base_uri": "https://localhost:8080/"
    },
    "id": "Wr3VNyItMBZN",
    "outputId": "6dd564b5-0dc5-4d49-f46e-1b22c094e1b5"
   },
   "outputs": [],
   "source": [
    "patient_catgeorical = patient_records.select_dtypes(object)\n",
    "patient_catgeorical.isnull().sum() * 100 / patient_catgeorical.shape[0]"
   ]
  },
  {
   "cell_type": "code",
   "execution_count": null,
   "metadata": {
    "colab": {
     "base_uri": "https://localhost:8080/"
    },
    "id": "cZIRcKimMCiA",
    "outputId": "a9206f18-e810-4235-f3b9-662ec11ec1c4"
   },
   "outputs": [],
   "source": [
    "patient_records.shape"
   ]
  },
  {
   "cell_type": "markdown",
   "metadata": {
    "id": "3tyu3nQXMEOm"
   },
   "source": [
    "Discrete variables containing columns"
   ]
  },
  {
   "cell_type": "code",
   "execution_count": null,
   "metadata": {
    "id": "TnUq_Cg1MEty"
   },
   "outputs": [],
   "source": [
    "integer_variables = [\n",
    "    \"encounter_id\", \n",
    "    \"hospital_id\", \n",
    "    \"patient_id\", \n",
    "    \"icu_id\", \n",
    "    \"gcs_eyes_apache\", \n",
    "    \"gcs_motor_apache\", \n",
    "    \"gcs_verbal_apache\", \n",
    "]"
   ]
  },
  {
   "cell_type": "code",
   "execution_count": null,
   "metadata": {
    "id": "6ObzlvR0MHPi"
   },
   "outputs": [],
   "source": [
    "patient_discrete = patient_records[integer_variables]"
   ]
  },
  {
   "cell_type": "code",
   "execution_count": null,
   "metadata": {
    "colab": {
     "base_uri": "https://localhost:8080/"
    },
    "id": "s-qIvGn3MH3J",
    "outputId": "2b7ead38-0408-4729-d492-0de9fbc19da9"
   },
   "outputs": [],
   "source": [
    "patient_discrete.info()"
   ]
  },
  {
   "cell_type": "code",
   "execution_count": null,
   "metadata": {
    "colab": {
     "base_uri": "https://localhost:8080/"
    },
    "id": "hCn1xjlMMIsa",
    "outputId": "ba8aa9a2-342e-4273-884a-be643c940c97"
   },
   "outputs": [],
   "source": [
    "patient_discrete.nunique()"
   ]
  },
  {
   "cell_type": "markdown",
   "metadata": {
    "id": "ep5ddVxRMJjg"
   },
   "source": [
    "Missing Values"
   ]
  },
  {
   "cell_type": "code",
   "execution_count": null,
   "metadata": {
    "colab": {
     "base_uri": "https://localhost:8080/"
    },
    "id": "QAGjp1lQMLHh",
    "outputId": "492abb7a-557c-43b9-a0ac-53a7ae69af7e"
   },
   "outputs": [],
   "source": [
    "patient_discrete.isnull().sum() * 100 / patient_discrete.shape[0]"
   ]
  },
  {
   "cell_type": "code",
   "execution_count": null,
   "metadata": {
    "colab": {
     "base_uri": "https://localhost:8080/"
    },
    "id": "b-_lMJk7MMjd",
    "outputId": "ffb6bfcc-a35f-47c3-cbac-72612b2188af"
   },
   "outputs": [],
   "source": [
    "patient_discrete[\"gcs_motor_apache\"].value_counts()"
   ]
  },
  {
   "cell_type": "code",
   "execution_count": null,
   "metadata": {
    "colab": {
     "base_uri": "https://localhost:8080/"
    },
    "id": "5n5aXhnvMdMq",
    "outputId": "ebbab182-64c7-48fb-fc89-3355a551e807"
   },
   "outputs": [],
   "source": [
    "patient_discrete[\"gcs_eyes_apache\"].value_counts()"
   ]
  },
  {
   "cell_type": "code",
   "execution_count": null,
   "metadata": {
    "colab": {
     "base_uri": "https://localhost:8080/"
    },
    "id": "EYO6gBX-Mfkn",
    "outputId": "a5490b34-3428-4dbd-99f8-ba08d201e106"
   },
   "outputs": [],
   "source": [
    "patient_discrete[\"gcs_verbal_apache\"].value_counts()"
   ]
  },
  {
   "cell_type": "code",
   "execution_count": null,
   "metadata": {
    "id": "CXllZLABMg0d"
   },
   "outputs": [],
   "source": [
    "patient_records.drop([\"encounter_id\", \"hospital_id\", \"icu_id\", \"patient_id\"], axis=1, inplace=True)"
   ]
  },
  {
   "cell_type": "code",
   "execution_count": null,
   "metadata": {
    "colab": {
     "base_uri": "https://localhost:8080/"
    },
    "id": "BP4ouPd9MiYI",
    "outputId": "71e05e57-bcfb-4839-f4f0-2adca52193eb"
   },
   "outputs": [],
   "source": [
    "for var in ['gcs_motor_apache', 'gcs_eyes_apache', 'gcs_verbal_apache']:\n",
    "    print(var)\n",
    "    print(patient_records[var].mode())"
   ]
  },
  {
   "cell_type": "code",
   "execution_count": null,
   "metadata": {
    "id": "I_FQaToYMjUm"
   },
   "outputs": [],
   "source": [
    "patient_records[\"gcs_motor_apache\"] = patient_records[\"gcs_motor_apache\"].fillna(6)\n",
    "patient_records[\"gcs_eyes_apache\"] = patient_records[\"gcs_eyes_apache\"].fillna(4)\n",
    "patient_records[\"gcs_verbal_apache\"] = patient_records[\"gcs_verbal_apache\"].fillna(5)"
   ]
  },
  {
   "cell_type": "code",
   "execution_count": null,
   "metadata": {
    "id": "Fh3HOukkMkJZ"
   },
   "outputs": [],
   "source": [
    "patient_records['gcs_motor_apache'] = patient_records['gcs_motor_apache'].apply(np.int64)\n",
    "patient_records['gcs_eyes_apache'] = patient_records['gcs_eyes_apache'].apply(np.int64)\n",
    "patient_records['gcs_verbal_apache'] = patient_records['gcs_verbal_apache'].apply(np.int64)"
   ]
  },
  {
   "cell_type": "code",
   "execution_count": null,
   "metadata": {
    "colab": {
     "base_uri": "https://localhost:8080/"
    },
    "id": "ZzUcp9gVMlvG",
    "outputId": "48678ab6-e42a-4ab4-af6f-39583870dafe"
   },
   "outputs": [],
   "source": [
    "patient_records[['gcs_motor_apache', 'gcs_eyes_apache', 'gcs_verbal_apache']].info()"
   ]
  },
  {
   "cell_type": "code",
   "execution_count": null,
   "metadata": {
    "colab": {
     "base_uri": "https://localhost:8080/"
    },
    "id": "SJwyV08XMohs",
    "outputId": "b8dc0b9b-cb92-4b73-ce7c-a4f6935de56f"
   },
   "outputs": [],
   "source": [
    "patient_records.shape"
   ]
  },
  {
   "cell_type": "code",
   "execution_count": null,
   "metadata": {
    "colab": {
     "base_uri": "https://localhost:8080/",
     "height": 300
    },
    "id": "zf5gXxNtMpOJ",
    "outputId": "7b286a3d-60d9-42b8-a3f2-eb7a85dd6d50"
   },
   "outputs": [],
   "source": [
    "patient_continuous = patient_records.select_dtypes(np.float64)\n",
    "patient_continuous.head()"
   ]
  },
  {
   "cell_type": "code",
   "execution_count": null,
   "metadata": {
    "colab": {
     "base_uri": "https://localhost:8080/"
    },
    "id": "gqKTv9IgMp-k",
    "outputId": "aece4b73-cdc9-4080-ebbe-5d97d15401ac"
   },
   "outputs": [],
   "source": [
    "patient_continuous.info()"
   ]
  },
  {
   "cell_type": "code",
   "execution_count": null,
   "metadata": {
    "colab": {
     "base_uri": "https://localhost:8080/"
    },
    "id": "_8NuE3yuMqwp",
    "outputId": "df4c47a8-90d0-46ce-ee3f-919640455377"
   },
   "outputs": [],
   "source": [
    "hour_basis_readings = [i for i in patient_continuous.columns.tolist() if i.startswith(\"h1\")]\n",
    "len(hour_basis_readings)"
   ]
  },
  {
   "cell_type": "code",
   "execution_count": null,
   "metadata": {
    "colab": {
     "base_uri": "https://localhost:8080/"
    },
    "id": "SkgWB0oOMrkq",
    "outputId": "9800e04d-4cce-435c-abea-60df81f35b62"
   },
   "outputs": [],
   "source": [
    "patient_continuous[hour_basis_readings].info()"
   ]
  },
  {
   "cell_type": "code",
   "execution_count": null,
   "metadata": {
    "colab": {
     "base_uri": "https://localhost:8080/"
    },
    "id": "-jtB3z1aMter",
    "outputId": "6865c9ff-8a26-4a11-94b8-a501f8d4dc00"
   },
   "outputs": [],
   "source": [
    "patient_continuous[hour_basis_readings].isnull().sum() * 100 / patient_continuous[hour_basis_readings].shape[0]"
   ]
  },
  {
   "cell_type": "code",
   "execution_count": null,
   "metadata": {
    "colab": {
     "base_uri": "https://localhost:8080/"
    },
    "id": "zzWApD3iMuga",
    "outputId": "22cb3334-e983-4997-fc57-79a609c1dcc5"
   },
   "outputs": [],
   "source": [
    "day_basis_readings = [i for i in patient_continuous.columns.tolist() if i.startswith(\"d1\")]\n",
    "len(day_basis_readings)"
   ]
  },
  {
   "cell_type": "code",
   "execution_count": null,
   "metadata": {
    "colab": {
     "base_uri": "https://localhost:8080/"
    },
    "id": "WLc0YsAbMvM8",
    "outputId": "4065b9f3-fb8f-488c-bc92-63c69c8def5b"
   },
   "outputs": [],
   "source": [
    "patient_continuous[day_basis_readings].info()"
   ]
  },
  {
   "cell_type": "code",
   "execution_count": null,
   "metadata": {
    "colab": {
     "base_uri": "https://localhost:8080/"
    },
    "id": "n7ojLEiVMw05",
    "outputId": "8efb29f8-0014-4b00-d214-74c99aced73d"
   },
   "outputs": [],
   "source": [
    "patient_continuous[day_basis_readings].isnull().sum() * 100 / patient_continuous[day_basis_readings].shape[0]"
   ]
  },
  {
   "cell_type": "code",
   "execution_count": null,
   "metadata": {
    "id": "xwB6sFjXMxzf"
   },
   "outputs": [],
   "source": [
    "patient_records.drop(hour_basis_readings, axis=1, inplace=True)"
   ]
  },
  {
   "cell_type": "code",
   "execution_count": null,
   "metadata": {
    "id": "RG6H5XawMy14"
   },
   "outputs": [],
   "source": [
    "patient_records.drop(day_basis_readings, axis=1, inplace=True)"
   ]
  },
  {
   "cell_type": "code",
   "execution_count": null,
   "metadata": {
    "colab": {
     "base_uri": "https://localhost:8080/",
     "height": 300
    },
    "id": "mAPLsbptMzsp",
    "outputId": "46bc0e86-2775-4392-cb7d-9239122272d1"
   },
   "outputs": [],
   "source": [
    "patient_continuous = patient_records.select_dtypes(np.float64)\n",
    "patient_continuous.head()"
   ]
  },
  {
   "cell_type": "code",
   "execution_count": null,
   "metadata": {
    "colab": {
     "base_uri": "https://localhost:8080/"
    },
    "id": "XdWQSrIZM0jG",
    "outputId": "3bea3324-dfd7-4b0f-be2b-d119af81b7d8"
   },
   "outputs": [],
   "source": [
    "patient_continuous.info()"
   ]
  },
  {
   "cell_type": "code",
   "execution_count": null,
   "metadata": {
    "colab": {
     "base_uri": "https://localhost:8080/"
    },
    "id": "_tsWRFtsM1x2",
    "outputId": "125623d5-998b-4a2e-e4f2-5f0199952074"
   },
   "outputs": [],
   "source": [
    "patient_continuous.isnull().sum() * 100 / patient_continuous.shape[0]"
   ]
  },
  {
   "cell_type": "code",
   "execution_count": null,
   "metadata": {
    "id": "alcJGrhsM3FI"
   },
   "outputs": [],
   "source": [
    "to_remove = [\"albumin_apache\", \"bilirubin_apache\", \"fio2_apache\", \"paco2_apache\", \"paco2_for_ph_apache\", \"pao2_apache\", \"ph_apache\", \"urineoutput_apache\"]\n",
    "patient_records.drop(to_remove, axis=1, inplace=True)"
   ]
  },
  {
   "cell_type": "code",
   "execution_count": null,
   "metadata": {
    "id": "fH8Hw4yGM33j"
   },
   "outputs": [],
   "source": [
    "patient_records.drop(\"pre_icu_los_days\", axis=1, inplace=True)"
   ]
  },
  {
   "cell_type": "code",
   "execution_count": null,
   "metadata": {
    "colab": {
     "base_uri": "https://localhost:8080/",
     "height": 270
    },
    "id": "Lge1kvqnM4qa",
    "outputId": "2b2cc1ea-24db-4c40-edae-4ff6998d1e2e"
   },
   "outputs": [],
   "source": [
    "patient_continuous = patient_records.select_dtypes(np.float64)\n",
    "patient_continuous.head()"
   ]
  },
  {
   "cell_type": "code",
   "execution_count": null,
   "metadata": {
    "colab": {
     "base_uri": "https://localhost:8080/",
     "height": 364
    },
    "id": "Or8ReP4VM5ze",
    "outputId": "fbacc7aa-ea78-4e89-a8dd-cfa30f7e8088"
   },
   "outputs": [],
   "source": [
    "patient_continuous.describe()"
   ]
  },
  {
   "cell_type": "code",
   "execution_count": null,
   "metadata": {
    "colab": {
     "base_uri": "https://localhost:8080/"
    },
    "id": "Ejk-bJtxM6sh",
    "outputId": "908ddf4d-6e3a-453a-b3ed-69cc398e47d4"
   },
   "outputs": [],
   "source": [
    "patient_continuous.skew()"
   ]
  },
  {
   "cell_type": "code",
   "execution_count": null,
   "metadata": {
    "colab": {
     "base_uri": "https://localhost:8080/"
    },
    "id": "EVzK2P0GM77y",
    "outputId": "ef1bcf0b-328f-4b72-82dd-e3858303dadf"
   },
   "outputs": [],
   "source": [
    "len(patient_continuous.columns)"
   ]
  },
  {
   "cell_type": "code",
   "execution_count": null,
   "metadata": {
    "colab": {
     "base_uri": "https://localhost:8080/"
    },
    "id": "qGlrdNLAM8mK",
    "outputId": "716d64f2-7349-4fef-8cef-4671adf2b57f"
   },
   "outputs": [],
   "source": [
    "patient_continuous.info()"
   ]
  },
  {
   "cell_type": "code",
   "execution_count": null,
   "metadata": {
    "colab": {
     "base_uri": "https://localhost:8080/"
    },
    "id": "eqDvtmfJM9xa",
    "outputId": "8761e361-2071-4580-9126-3d1739a1f7e1"
   },
   "outputs": [],
   "source": [
    "convert_median = [\"age\", \"bmi\", \"weight\", \"apache_2_diagnosis\", \"apache_3j_diagnosis\", \"bun_apache\", \n",
    "                  \"creatinine_apache\", \"glucose_apache\", \"map_apache\", \"temp_apache\", \"wbc_apache\", \n",
    "                  \"apache_4a_hospital_death_prob\", \"apache_4a_icu_death_prob\"]\n",
    "for con in convert_median:\n",
    "    print(con)\n",
    "    mode = patient_records[con]\n",
    "#     patient_records[con].map({np.nan: mode})\n",
    "    patient_records[con].fillna(patient_records[con].median(), inplace=True)"
   ]
  },
  {
   "cell_type": "code",
   "execution_count": null,
   "metadata": {
    "colab": {
     "base_uri": "https://localhost:8080/"
    },
    "id": "mI3IOVdcM_Eu",
    "outputId": "a16820a0-0be9-405a-c13b-269b331241a6"
   },
   "outputs": [],
   "source": [
    "convert_median = [\"height\", \"heart_rate_apache\", \"hematocrit_apache\", \"resprate_apache\", \"sodium_apache\"]\n",
    "for con in convert_median:\n",
    "    print(con)\n",
    "    mode = patient_records[con]\n",
    "#     patient_records[con].map({np.nan: mode})\n",
    "    patient_records[con].fillna(patient_records[con].mean(), inplace=True)"
   ]
  },
  {
   "cell_type": "code",
   "execution_count": null,
   "metadata": {
    "colab": {
     "base_uri": "https://localhost:8080/"
    },
    "id": "1EHFwABWM_6Z",
    "outputId": "9808a222-9b4e-4ba8-f77f-85230644e8e2"
   },
   "outputs": [],
   "source": [
    "patient_records.info()"
   ]
  },
  {
   "cell_type": "code",
   "execution_count": null,
   "metadata": {
    "colab": {
     "base_uri": "https://localhost:8080/",
     "height": 206
    },
    "id": "NZLPd9FFNBPM",
    "outputId": "2b62041b-8a04-4537-dbdc-0ed4de2ab4f8"
   },
   "outputs": [],
   "source": [
    "#Let's extract all the categorical and the numerical columns for the further Analysis\n",
    "df_categorical=patient_records.select_dtypes(object)\n",
    "df_categorical.head()"
   ]
  },
  {
   "cell_type": "code",
   "execution_count": null,
   "metadata": {
    "colab": {
     "base_uri": "https://localhost:8080/",
     "height": 300
    },
    "id": "gsNog05mNCEE",
    "outputId": "1a2081ef-b0be-4d57-ab7c-0d0d10a2d31f"
   },
   "outputs": [],
   "source": [
    "df_numerical=patient_records.select_dtypes(include=np.number)\n",
    "df_numerical.head()"
   ]
  },
  {
   "cell_type": "code",
   "execution_count": null,
   "metadata": {
    "id": "D38iOQoiNDUR"
   },
   "outputs": [],
   "source": [
    "categorical_columns=df_categorical.columns\n",
    "numerical_columns=df_numerical.columns"
   ]
  },
  {
   "cell_type": "code",
   "execution_count": null,
   "metadata": {
    "colab": {
     "base_uri": "https://localhost:8080/"
    },
    "id": "Af8u3Cr0NEH4",
    "outputId": "f9a8fa88-098c-4155-a2d1-c127ac55e425"
   },
   "outputs": [],
   "source": [
    "print(\"The number of categorical columns is: \",len(categorical_columns))\n",
    "print(\"The columns are:\",list(categorical_columns))"
   ]
  },
  {
   "cell_type": "code",
   "execution_count": null,
   "metadata": {
    "colab": {
     "base_uri": "https://localhost:8080/"
    },
    "id": "tumSz_sXNE8D",
    "outputId": "9724195e-ecd5-455f-a334-e2f8997b4fb8"
   },
   "outputs": [],
   "source": [
    "print(\"The number of numerical columns is: \",len(numerical_columns))\n",
    "print(\"The columns are:\",list(numerical_columns))"
   ]
  },
  {
   "cell_type": "markdown",
   "metadata": {
    "id": "eBrRkwYgNGOH"
   },
   "source": [
    "Data Pre Processing Exploratory Data Analysis :"
   ]
  },
  {
   "cell_type": "code",
   "execution_count": null,
   "metadata": {
    "colab": {
     "base_uri": "https://localhost:8080/"
    },
    "id": "8Ou51FH1NGdR",
    "outputId": "fba49810-a9dc-4d60-d3b1-78d5be06b7ce"
   },
   "outputs": [],
   "source": [
    "#Let's check the null values \n",
    "number_of_missing_values = patient_records.isna().sum().sort_values(ascending=False)          \n",
    "percentage_of_missing_values = (patient_records.isna().sum()*100/patient_records.isna().count()).sort_values(ascending=False)   \n",
    "missing_data = pd.concat([number_of_missing_values,percentage_of_missing_values], axis =0 , keys = ['Total', 'Percentage of Missing Values'])    \n",
    "missing_data"
   ]
  },
  {
   "cell_type": "code",
   "execution_count": null,
   "metadata": {
    "colab": {
     "base_uri": "https://localhost:8080/"
    },
    "id": "74wEA9abNIUV",
    "outputId": "48db1caf-6a2e-4431-86a4-e99585c4128f"
   },
   "outputs": [],
   "source": [
    "print(\"Number of rows with missing values:\", patient_records.isnull().any(axis=1).sum())"
   ]
  },
  {
   "cell_type": "code",
   "execution_count": null,
   "metadata": {
    "colab": {
     "base_uri": "https://localhost:8080/"
    },
    "id": "OErnbo1XNJEk",
    "outputId": "32723000-1556-4bd3-db88-43278681fb4b"
   },
   "outputs": [],
   "source": [
    "missing_values = patient_records.isna().sum().sort_values(ascending=False)\n",
    "missing_values"
   ]
  },
  {
   "cell_type": "markdown",
   "metadata": {
    "id": "s4lOyannNK7l"
   },
   "source": [
    "OBSERVATION :"
   ]
  },
  {
   "cell_type": "code",
   "execution_count": null,
   "metadata": {
    "colab": {
     "base_uri": "https://localhost:8080/",
     "height": 394
    },
    "id": "48O-gjqVNLoM",
    "outputId": "f9fc8065-5ce4-43a2-f902-ed4bf3fb39f2"
   },
   "outputs": [],
   "source": [
    "patient_records.describe()"
   ]
  },
  {
   "cell_type": "markdown",
   "metadata": {
    "id": "oYsBK4YyNNLT"
   },
   "source": [
    "Summerize the categorical column percentages"
   ]
  },
  {
   "cell_type": "code",
   "execution_count": null,
   "metadata": {
    "colab": {
     "base_uri": "https://localhost:8080/"
    },
    "id": "9qmCf_GFNNmL",
    "outputId": "06450f79-ec0a-43b4-b549-c2e3035865c6"
   },
   "outputs": [],
   "source": [
    "print('% Values in each categorical columns in the dataset')\n",
    "for k in categorical_columns:\n",
    "    print('\\n% Values in columns : ',k)\n",
    "    print((patient_records[k].value_counts()/len(patient_records[k])*100))"
   ]
  },
  {
   "cell_type": "code",
   "execution_count": null,
   "metadata": {
    "id": "z-sqhjQpNRHv"
   },
   "outputs": [],
   "source": [
    "df_categorical=['hospital_death', 'ethnicity', 'gender', 'hospital_admit_source', 'icu_admit_source', 'icu_stay_type', 'icu_type', 'apache_3j_bodysystem', 'apache_2_bodysystem']"
   ]
  },
  {
   "cell_type": "code",
   "execution_count": null,
   "metadata": {
    "colab": {
     "base_uri": "https://localhost:8080/",
     "height": 564
    },
    "id": "3eJF6WxxNSEX",
    "outputId": "0af699c0-8633-4b9e-db2d-0283fa5e2415"
   },
   "outputs": [],
   "source": [
    "print('univariate analysis of hospital_death')\n",
    "print('-----------------------------------')\n",
    "print(patient_records['hospital_death'].value_counts())\n",
    "plt.rcParams['figure.figsize']=(12,6)\n",
    "patient_records['hospital_death'].value_counts().plot(kind='pie',autopct='%1.2f%%',figsize=(8,10))\n",
    "plt.show()"
   ]
  },
  {
   "cell_type": "code",
   "execution_count": null,
   "metadata": {
    "colab": {
     "base_uri": "https://localhost:8080/",
     "height": 745
    },
    "id": "gUpKQOMLNTOL",
    "outputId": "c4f09f65-b4f7-415e-e747-eb775a386e60"
   },
   "outputs": [],
   "source": [
    "print('univariate analysis of ethnicity')\n",
    "print('-----------------------------------------')\n",
    "print(patient_records['ethnicity'].value_counts())\n",
    "plt.figure(figsize=(10,15))\n",
    "patient_records['ethnicity'].value_counts().plot(kind='pie',autopct='%1.2f%%')\n",
    "plt.show()"
   ]
  },
  {
   "cell_type": "code",
   "execution_count": null,
   "metadata": {
    "colab": {
     "base_uri": "https://localhost:8080/",
     "height": 676
    },
    "id": "Ax1A00dKNUao",
    "outputId": "b4f603f3-3b0b-4351-8716-3d0a4c62e560"
   },
   "outputs": [],
   "source": [
    "print('univariate analysis of gender')\n",
    "print('-----------------------------------------')\n",
    "print(patient_records['gender'].value_counts())\n",
    "plt.figure(figsize=(10,15))\n",
    "patient_records['gender'].value_counts().plot(kind='pie',autopct='%1.2f%%')\n",
    "plt.show()"
   ]
  },
  {
   "cell_type": "code",
   "execution_count": null,
   "metadata": {
    "colab": {
     "base_uri": "https://localhost:8080/",
     "height": 1000
    },
    "id": "j-yMM64lNVnl",
    "outputId": "8394f537-2c72-43f8-d10a-f0ecdee3fbc2"
   },
   "outputs": [],
   "source": [
    "print('univariate analysis of hospital_admit_source')\n",
    "print('-----------------------------------------')\n",
    "print(patient_records['hospital_admit_source'].value_counts())\n",
    "plt.figure(figsize=(10,10))\n",
    "patient_records['hospital_admit_source'].value_counts().plot(kind='bar')\n",
    "plt.show()"
   ]
  },
  {
   "cell_type": "code",
   "execution_count": null,
   "metadata": {
    "colab": {
     "base_uri": "https://localhost:8080/",
     "height": 728
    },
    "id": "X4lCpsywNW3f",
    "outputId": "c76cc312-84bb-4a66-aff9-8056040c1afa"
   },
   "outputs": [],
   "source": [
    "print('univariate analysis of icu_admit_source')\n",
    "print('-----------------------------------------')\n",
    "print(patient_records['icu_admit_source'].value_counts())\n",
    "plt.figure(figsize=(10,15))\n",
    "patient_records['icu_admit_source'].value_counts().plot(kind='pie',autopct='%1.2f%%')\n",
    "plt.show()"
   ]
  },
  {
   "cell_type": "code",
   "execution_count": null,
   "metadata": {
    "colab": {
     "base_uri": "https://localhost:8080/",
     "height": 679
    },
    "id": "554bYtOKNYBY",
    "outputId": "55f00d04-7dc2-4fdd-8966-fccf2b6bfbbf"
   },
   "outputs": [],
   "source": [
    "print('univariate analysis of icu_stay_type')\n",
    "print('-----------------------------------------')\n",
    "print(patient_records['icu_stay_type'].value_counts())\n",
    "plt.figure(figsize=(15,10))\n",
    "patient_records['icu_stay_type'].value_counts().plot(kind='pie',autopct='%1.2f%%')\n",
    "plt.show()"
   ]
  },
  {
   "cell_type": "code",
   "execution_count": null,
   "metadata": {
    "colab": {
     "base_uri": "https://localhost:8080/",
     "height": 780
    },
    "id": "3mKU69uQNZMD",
    "outputId": "eda5ddfd-69b9-4eeb-d4e3-4323fd0991ca"
   },
   "outputs": [],
   "source": [
    "print('univariate analysis of icu_type')\n",
    "print('-----------------------------------------')\n",
    "print(patient_records['icu_type'].value_counts())\n",
    "plt.figure(figsize=(10,15))\n",
    "patient_records['icu_type'].value_counts().plot(kind='pie',autopct='%1.2f%%')\n",
    "plt.show()"
   ]
  },
  {
   "cell_type": "code",
   "execution_count": null,
   "metadata": {
    "colab": {
     "base_uri": "https://localhost:8080/",
     "height": 1000
    },
    "id": "IffYrLWTNaLh",
    "outputId": "7b90dbde-330e-47e5-9952-2ffa7fd5afb9"
   },
   "outputs": [],
   "source": [
    "print('univariate analysis of apache_3j_bodysystem')\n",
    "print('-----------------------------------------')\n",
    "print(patient_records['apache_3j_bodysystem'].value_counts())\n",
    "plt.figure(figsize=(25,15))\n",
    "patient_records['apache_3j_bodysystem'].value_counts().plot(kind='pie',autopct='%1.2f%%')\n",
    "plt.show()"
   ]
  },
  {
   "cell_type": "code",
   "execution_count": null,
   "metadata": {
    "colab": {
     "base_uri": "https://localhost:8080/",
     "height": 1000
    },
    "id": "48d1NGNSNbOd",
    "outputId": "b2ec474a-5b93-4070-eaf9-e7b9fb65571f"
   },
   "outputs": [],
   "source": [
    "print('univariate analysis of apache_2_bodysystem')\n",
    "print('-----------------------------------------')\n",
    "print(patient_records['apache_2_bodysystem'].value_counts())\n",
    "plt.figure(figsize=(25,15))\n",
    "patient_records['apache_2_bodysystem'].value_counts().plot(kind='pie',autopct='%1.2f%%')\n",
    "plt.show()"
   ]
  },
  {
   "cell_type": "code",
   "execution_count": null,
   "metadata": {
    "colab": {
     "base_uri": "https://localhost:8080/"
    },
    "id": "v2A4gTvbNcV-",
    "outputId": "df7ae0ee-2534-4f88-8a08-78d2c2859de1"
   },
   "outputs": [],
   "source": [
    "patient_records['hospital_death'].value_counts(normalize=True)*100"
   ]
  },
  {
   "cell_type": "code",
   "execution_count": null,
   "metadata": {
    "colab": {
     "base_uri": "https://localhost:8080/",
     "height": 536
    },
    "id": "pk5iYCAJNdWr",
    "outputId": "b1277a03-ba51-45f9-bcda-5f8947327016"
   },
   "outputs": [],
   "source": [
    "#Let's analyse our responsive variable 'hospital_death'\n",
    "plt.figure(figsize=(12,8))\n",
    "sns.countplot(patient_records['hospital_death'])\n",
    "plt.text(x=1,y=patient_records['hospital_death'].value_counts()[1]+1,\n",
    "        s='8.63%');\n",
    "plt.text(x=0,y=patient_records['hospital_death'].value_counts()[0]+1,\n",
    "        s='91.36%');\n",
    "\n",
    "plt.title('Countplot for the Target Variable (hospital_death)',fontsize=16)\n",
    "plt.xlabel('Target Variable',fontsize=14)\n",
    "plt.ylabel('Count',fontsize=14)"
   ]
  },
  {
   "cell_type": "markdown",
   "metadata": {
    "id": "kL2PLwbMNf6k"
   },
   "source": [
    "get into the Bivariate Analysis:"
   ]
  },
  {
   "cell_type": "code",
   "execution_count": null,
   "metadata": {
    "id": "_CSjTCYQNhuX"
   },
   "outputs": [],
   "source": []
  },
  {
   "cell_type": "code",
   "execution_count": null,
   "metadata": {
    "id": "0PQ8eI-ZNiYS"
   },
   "outputs": [],
   "source": [
    "#starting with the pair plot\n",
    "##sns.set_style('whitegrid')\n",
    "##sns.pairplot(data=patient_records)"
   ]
  },
  {
   "cell_type": "code",
   "execution_count": null,
   "metadata": {
    "id": "dtg06dvINjGu"
   },
   "outputs": [],
   "source": [
    "##plt.figure(figsize=(50,30))\n",
    "##sns.heatmap(patient_records.corr())"
   ]
  },
  {
   "cell_type": "markdown",
   "metadata": {
    "id": "gY1SEx8PNmuU"
   },
   "source": [
    "Categorical-Continuous Analysis"
   ]
  },
  {
   "cell_type": "code",
   "execution_count": null,
   "metadata": {
    "colab": {
     "base_uri": "https://localhost:8080/",
     "height": 859
    },
    "id": "FSwqKtXHNn4w",
    "outputId": "c7b3b8c0-6792-416f-e25c-7dfc2ae6dcf8"
   },
   "outputs": [],
   "source": [
    "plt.figure(figsize=(35,15))\n",
    "\n",
    "plt.subplot(1,2,1)\n",
    "sns.boxplot(x='hospital_death',y='age',data=patient_records)\n",
    "plt.title('Visualize the hospital_death and age column',fontsize=16)\n",
    "plt.xlabel('hospital_death',fontsize=14)\n",
    "plt.ylabel('Age',fontsize=14)\n",
    "\n",
    "plt.subplot(1,2,2)\n",
    "sns.boxplot(x='hospital_death',y='height',data=patient_records)\n",
    "plt.title('Visualize the hospital_death and height',fontsize=16)\n",
    "plt.xlabel('hospital_death',fontsize=14)\n",
    "plt.ylabel('height',fontsize=14)\n",
    "\n",
    "plt.show()"
   ]
  },
  {
   "cell_type": "code",
   "execution_count": null,
   "metadata": {
    "colab": {
     "base_uri": "https://localhost:8080/",
     "height": 859
    },
    "id": "Pd9gljrHNpyn",
    "outputId": "53c1bf4b-ca90-4025-909c-9eb90cdd5215"
   },
   "outputs": [],
   "source": [
    "plt.figure(figsize=(35,15))\n",
    "\n",
    "plt.subplot(1,2,1)\n",
    "sns.boxplot(x='hospital_death',y='bmi',data=patient_records)\n",
    "plt.title('Visualize the hospital_death and bmi column',fontsize=16)\n",
    "plt.xlabel('hospital_death',fontsize=14)\n",
    "plt.ylabel('bmi',fontsize=14)\n",
    "\n",
    "plt.subplot(1,2,2)\n",
    "sns.boxplot(x='hospital_death',y='weight',data=patient_records)\n",
    "plt.title('Visualize the hospital_death and weight',fontsize=16)\n",
    "plt.xlabel('hospital_death',fontsize=14)\n",
    "plt.ylabel('weight',fontsize=14)\n",
    "\n",
    "plt.show()"
   ]
  },
  {
   "cell_type": "code",
   "execution_count": null,
   "metadata": {
    "colab": {
     "base_uri": "https://localhost:8080/",
     "height": 857
    },
    "id": "KQlczqO5Nrtw",
    "outputId": "a1f646bd-8745-4c30-eea7-e080691eadf7"
   },
   "outputs": [],
   "source": [
    "plt.figure(figsize=(35,15))\n",
    "\n",
    "plt.subplot(1,2,1)\n",
    "sns.boxplot(x='hospital_death',y='apache_2_diagnosis',data=patient_records)\n",
    "plt.title('Visualize the hospital_death and apache_2_diagnosis',fontsize=16)\n",
    "plt.xlabel('hospital_death',fontsize=14)\n",
    "plt.ylabel('apache_2_diagnosis',fontsize=14)\n",
    "\n",
    "plt.subplot(1,2,2)\n",
    "sns.boxplot(x='hospital_death',y='apache_3j_diagnosis',data=patient_records)\n",
    "plt.title('Visualize the hospital_death and apache_3j_diagnosis',fontsize=16)\n",
    "plt.xlabel('hospital_death',fontsize=14)\n",
    "plt.ylabel('apache_3j_diagnosis',fontsize=14)\n",
    "\n",
    "plt.show()"
   ]
  },
  {
   "cell_type": "code",
   "execution_count": null,
   "metadata": {
    "colab": {
     "base_uri": "https://localhost:8080/",
     "height": 858
    },
    "id": "eSXH45K4NtNl",
    "outputId": "a8ee931d-ab43-4234-8676-fe3f96bc0b7b"
   },
   "outputs": [],
   "source": [
    "plt.figure(figsize=(35,15))\n",
    "\n",
    "plt.subplot(1,2,1)\n",
    "sns.violinplot(x='hospital_death',y='arf_apache',data=patient_records)\n",
    "plt.title('Visualize the hospital_death and arf_apache',fontsize=16)\n",
    "plt.xlabel('hospital_death',fontsize=14)\n",
    "plt.ylabel('arf_apache',fontsize=14)\n",
    "\n",
    "plt.subplot(1,2,2)\n",
    "sns.boxplot(x='hospital_death',y='bun_apache',data=patient_records)\n",
    "plt.title('Visualize the hospital_death and bun_apache',fontsize=16)\n",
    "plt.xlabel('hospital_death',fontsize=14)\n",
    "plt.ylabel('bun_apache',fontsize=14)\n",
    "\n",
    "plt.show()"
   ]
  },
  {
   "cell_type": "code",
   "execution_count": null,
   "metadata": {
    "colab": {
     "base_uri": "https://localhost:8080/",
     "height": 858
    },
    "id": "U6Qa1fLWNu_r",
    "outputId": "8a8027f8-c15e-4728-8fdf-c04fbe787c15"
   },
   "outputs": [],
   "source": [
    "plt.figure(figsize=(35,15))\n",
    "\n",
    "plt.subplot(1,2,1)\n",
    "sns.violinplot(x='hospital_death',y='arf_apache',data=patient_records)\n",
    "plt.title('Visualize the hospital_death and arf_apache',fontsize=16)\n",
    "plt.xlabel('hospital_death',fontsize=14)\n",
    "plt.ylabel('arf_apache',fontsize=14)\n",
    "\n",
    "plt.subplot(1,2,2)\n",
    "sns.boxplot(x='hospital_death',y='bun_apache',data=patient_records)\n",
    "plt.title('Visualize the hospital_death and bun_apache',fontsize=16)\n",
    "plt.xlabel('hospital_death',fontsize=14)\n",
    "plt.ylabel('bun_apache',fontsize=14)\n",
    "\n",
    "plt.show()"
   ]
  },
  {
   "cell_type": "code",
   "execution_count": null,
   "metadata": {
    "colab": {
     "base_uri": "https://localhost:8080/",
     "height": 857
    },
    "id": "wq_LWQMlNwbU",
    "outputId": "1a40d650-cfc2-4255-ece0-da14040852b8"
   },
   "outputs": [],
   "source": [
    "plt.figure(figsize=(35,15))\n",
    "\n",
    "plt.subplot(1,3,1)\n",
    "sns.violinplot(x='hospital_death',y='glucose_apache',data=patient_records)\n",
    "plt.title('Visualize the hospital_death and glucose_apache',fontsize=16)\n",
    "plt.xlabel('hospital_death',fontsize=14)\n",
    "plt.ylabel('glucose_apache',fontsize=14)\n",
    "\n",
    "plt.subplot(1,3,2)\n",
    "sns.violinplot(x='hospital_death',y='heart_rate_apache',data=patient_records)\n",
    "plt.title('Visualize the hospital_death and heart_rate_apache',fontsize=16)\n",
    "plt.xlabel('hospital_death',fontsize=14)\n",
    "plt.ylabel('heart_rate_apache',fontsize=14)\n",
    "\n",
    "plt.subplot(1,3,3)\n",
    "sns.violinplot(x='hospital_death',y='hematocrit_apache',data=patient_records)\n",
    "plt.title('Visualize the hospital_death and hematocrit_apache',fontsize=16)\n",
    "plt.xlabel('hospital_death',fontsize=14)\n",
    "plt.ylabel('hematocrit_apache',fontsize=14)\n",
    "\n",
    "plt.show()"
   ]
  },
  {
   "cell_type": "code",
   "execution_count": null,
   "metadata": {
    "colab": {
     "base_uri": "https://localhost:8080/",
     "height": 858
    },
    "id": "H5OVEwGkNx9P",
    "outputId": "8281d605-acad-4240-e8ad-856419780463"
   },
   "outputs": [],
   "source": [
    "plt.figure(figsize=(35,15))\n",
    "\n",
    "plt.subplot(1,3,1)\n",
    "sns.violinplot(x='hospital_death',y='gcs_eyes_apache',data=patient_records)\n",
    "plt.title('Visualize the hospital_death and gcs_eyes_apache',fontsize=16)\n",
    "plt.xlabel('hospital_death',fontsize=14)\n",
    "plt.ylabel('gcs_eyes_apache',fontsize=14)\n",
    "\n",
    "plt.subplot(1,3,2)\n",
    "sns.violinplot(x='hospital_death',y='gcs_motor_apache',data=patient_records)\n",
    "plt.title('Visualize the hospital_death and gcs_motor_apache',fontsize=16)\n",
    "plt.xlabel('hospital_death',fontsize=14)\n",
    "plt.ylabel('gcs_motor_apache',fontsize=14)\n",
    "\n",
    "plt.subplot(1,3,3)\n",
    "sns.violinplot(x='hospital_death',y='gcs_unable_apache',data=patient_records)\n",
    "plt.title('Visualize the hospital_death and gcs_unable_apache',fontsize=16)\n",
    "plt.xlabel('hospital_death',fontsize=14)\n",
    "plt.ylabel('gcs_unable_apache',fontsize=14)\n",
    "\n",
    "plt.show()"
   ]
  },
  {
   "cell_type": "code",
   "execution_count": null,
   "metadata": {
    "colab": {
     "base_uri": "https://localhost:8080/",
     "height": 858
    },
    "id": "-NfW46FoNzhr",
    "outputId": "006303e3-243d-4cd6-9642-fa91342b56a7"
   },
   "outputs": [],
   "source": [
    "plt.figure(figsize=(35,15))\n",
    "\n",
    "plt.subplot(1,3,1)\n",
    "sns.violinplot(x='hospital_death',y='aids',data=patient_records)\n",
    "plt.title('Visualize the hospital_death and aids',fontsize=16)\n",
    "plt.xlabel('hospital_death',fontsize=14)\n",
    "plt.ylabel('aids',fontsize=14)\n",
    "\n",
    "plt.subplot(1,3,2)\n",
    "sns.violinplot(x='hospital_death',y='cirrhosis',data=patient_records)\n",
    "plt.title('Visualize the hospital_death and cirrhosis',fontsize=16)\n",
    "plt.xlabel('hospital_death',fontsize=14)\n",
    "plt.ylabel('cirrhosis',fontsize=14)\n",
    "\n",
    "plt.subplot(1,3,3)\n",
    "sns.violinplot(x='hospital_death',y='diabetes_mellitus',data=patient_records)\n",
    "plt.title('Visualize the hospital_death and diabetes_mellitus',fontsize=16)\n",
    "plt.xlabel('hospital_death',fontsize=14)\n",
    "plt.ylabel('diabetes_mellitus',fontsize=14)\n",
    "\n",
    "plt.show()"
   ]
  },
  {
   "cell_type": "code",
   "execution_count": null,
   "metadata": {
    "colab": {
     "base_uri": "https://localhost:8080/",
     "height": 857
    },
    "id": "TPfV1DctN0wl",
    "outputId": "b343760d-d63e-4624-e536-1b88f0f16ef8"
   },
   "outputs": [],
   "source": [
    "plt.figure(figsize=(35,15))\n",
    "\n",
    "plt.subplot(1,3,1)\n",
    "sns.violinplot(x='hospital_death',y='sodium_apache',data=patient_records)\n",
    "plt.title('Visualize the hospital_death and sodium_apache',fontsize=16)\n",
    "plt.xlabel('hospital_death',fontsize=14)\n",
    "plt.ylabel('sodium_apache',fontsize=14)\n",
    "\n",
    "plt.subplot(1,3,2)\n",
    "sns.violinplot(x='hospital_death',y='temp_apache',data=patient_records)\n",
    "plt.title('Visualize the hospital_death and temp_apache',fontsize=16)\n",
    "plt.xlabel('hospital_death',fontsize=14)\n",
    "plt.ylabel('temp_apache',fontsize=14)\n",
    "\n",
    "plt.subplot(1,3,3)\n",
    "sns.violinplot(x='hospital_death',y='solid_tumor_with_metastasis',data=patient_records)\n",
    "plt.title('Visualize the hospital_death and solid_tumor_with_metastasis',fontsize=16)\n",
    "plt.xlabel('hospital_death',fontsize=14)\n",
    "plt.ylabel('solid_tumor_with_metastasis',fontsize=14)\n",
    "\n",
    "plt.show()"
   ]
  },
  {
   "cell_type": "code",
   "execution_count": null,
   "metadata": {
    "colab": {
     "base_uri": "https://localhost:8080/",
     "height": 859
    },
    "id": "SavfZ-bFN1-e",
    "outputId": "8b28926d-683b-45d4-fdf6-f45b93ee5025"
   },
   "outputs": [],
   "source": [
    "plt.figure(figsize=(35,15))\n",
    "\n",
    "plt.subplot(1,3,1)\n",
    "sns.violinplot(x='hospital_death',y='wbc_apache',data=patient_records)\n",
    "plt.title('Visualize the hospital_death and wbc_apache',fontsize=16)\n",
    "plt.xlabel('hospital_death',fontsize=14)\n",
    "plt.ylabel('wbc_apache',fontsize=14)\n",
    "\n",
    "plt.subplot(1,3,2)\n",
    "sns.violinplot(x='hospital_death',y='apache_4a_hospital_death_prob',data=patient_records)\n",
    "plt.title('Visualize the hospital_death and apache_4a_hospital_death_prob',fontsize=16)\n",
    "plt.xlabel('hospital_death',fontsize=14)\n",
    "plt.ylabel('apache_4a_hospital_death_prob',fontsize=14)\n",
    "\n",
    "plt.subplot(1,3,3)\n",
    "sns.violinplot(x='hospital_death',y='apache_4a_icu_death_prob',data=patient_records)\n",
    "plt.title('Visualize the hospital_death and apache_4a_icu_death_prob',fontsize=16)\n",
    "plt.xlabel('hospital_death',fontsize=14)\n",
    "plt.ylabel('apache_4a_icu_death_prob',fontsize=14)\n",
    "\n",
    "plt.show()"
   ]
  },
  {
   "cell_type": "code",
   "execution_count": null,
   "metadata": {
    "colab": {
     "base_uri": "https://localhost:8080/",
     "height": 859
    },
    "id": "RbBg-qvvN3B6",
    "outputId": "7fad1813-2f32-43d8-ba88-9082bd03d762"
   },
   "outputs": [],
   "source": [
    "plt.figure(figsize=(35,15))\n",
    "\n",
    "plt.subplot(1,2,1)\n",
    "sns.boxplot(x='ethnicity',y='age',data=patient_records)\n",
    "plt.title('Visualize the ethnicity and age column',fontsize=16)\n",
    "plt.xlabel('ethnicity',fontsize=14)\n",
    "plt.ylabel('Age',fontsize=14)\n",
    "\n",
    "plt.subplot(1,2,2)\n",
    "sns.boxplot(x='ethnicity',y='height',data=patient_records)\n",
    "plt.title('Visualize the ethnicity and height',fontsize=16)\n",
    "plt.xlabel('ethnicity',fontsize=14)\n",
    "plt.ylabel('height',fontsize=14)\n",
    "\n",
    "plt.show()"
   ]
  },
  {
   "cell_type": "code",
   "execution_count": null,
   "metadata": {
    "colab": {
     "base_uri": "https://localhost:8080/",
     "height": 859
    },
    "id": "yul7cTmcN4Xh",
    "outputId": "6e9fdf54-c674-4e04-a1f2-19ff7c7b8927"
   },
   "outputs": [],
   "source": [
    "plt.figure(figsize=(35,15))\n",
    "\n",
    "plt.subplot(1,2,1)\n",
    "sns.boxplot(x='ethnicity',y='bmi',data=patient_records)\n",
    "plt.title('Visualize the ethnicity and bmi column',fontsize=16)\n",
    "plt.xlabel('ethnicity',fontsize=14)\n",
    "plt.ylabel('bmi',fontsize=14)\n",
    "\n",
    "plt.subplot(1,2,2)\n",
    "sns.boxplot(x='ethnicity',y='weight',data=patient_records)\n",
    "plt.title('Visualize the ethnicity and weight',fontsize=16)\n",
    "plt.xlabel('ethnicity',fontsize=14)\n",
    "plt.ylabel('weight',fontsize=14)\n",
    "\n",
    "plt.show()"
   ]
  },
  {
   "cell_type": "code",
   "execution_count": null,
   "metadata": {
    "colab": {
     "base_uri": "https://localhost:8080/",
     "height": 857
    },
    "id": "x9vJV4xIN5qt",
    "outputId": "53034817-87ed-4189-bfc5-7324701425b4"
   },
   "outputs": [],
   "source": [
    "plt.figure(figsize=(35,15))\n",
    "\n",
    "plt.subplot(1,2,1)\n",
    "sns.boxplot(x='gender',y='heart_rate_apache',data=patient_records)\n",
    "plt.title('Visualize the ethnicity and bmi column',fontsize=16)\n",
    "plt.xlabel('ethnicity',fontsize=14)\n",
    "plt.ylabel('bmi',fontsize=14)\n",
    "\n",
    "plt.subplot(1,2,2)\n",
    "sns.boxplot(x='gender',y='apache_3j_diagnosis',data=patient_records)\n",
    "plt.title('Visualize the ethnicity and weight',fontsize=16)\n",
    "plt.xlabel('ethnicity',fontsize=14)\n",
    "plt.ylabel('weight',fontsize=14)\n",
    "\n",
    "plt.show()"
   ]
  },
  {
   "cell_type": "markdown",
   "metadata": {
    "id": "ePbiQX3xN7Vk"
   },
   "source": [
    "Categorical data"
   ]
  },
  {
   "cell_type": "code",
   "execution_count": null,
   "metadata": {
    "colab": {
     "base_uri": "https://localhost:8080/"
    },
    "id": "gWF0lXPvN7qP",
    "outputId": "176ca3e9-5a81-4d17-ea61-23f99fdfa402"
   },
   "outputs": [],
   "source": [
    "pr_categorical = patient_records.select_dtypes(object)\n",
    "pr_categorical.shape"
   ]
  },
  {
   "cell_type": "code",
   "execution_count": null,
   "metadata": {
    "colab": {
     "base_uri": "https://localhost:8080/"
    },
    "id": "Uoy8g29umhon",
    "outputId": "20b4cf74-eadf-4d92-c8eb-60cecf208666"
   },
   "outputs": [],
   "source": [
    "variables = pr_categorical.columns\n",
    "\n",
    "patient_lists = [variables[i:i+1] for i in range(0, len(variables), 1)]\n",
    "patient_lists"
   ]
  },
  {
   "cell_type": "code",
   "execution_count": null,
   "metadata": {
    "colab": {
     "base_uri": "https://localhost:8080/",
     "height": 1000
    },
    "id": "QNqO08vAmiz-",
    "outputId": "c5edacab-c729-4a9d-f95b-61ec5fb4fbaa"
   },
   "outputs": [],
   "source": [
    "fig, axes = plt.subplots(9, 1, figsize=(15, 30))\n",
    "# fig.tight_layout()\n",
    "fig.subplots_adjust(hspace=1.5)\n",
    "for i_index, patient_list in enumerate(patient_lists):\n",
    "    for j_index, variable in enumerate(patient_list):\n",
    "#         patient_records[variable].value_counts().plot(kind='pie',autopct='%1.2f%%', ax=axes[i_index, j_index], subplots='true', radius=1.5, figsize=(50, 120))\n",
    "        axes[i_index].set_xlabel(variable)\n",
    "        axes[i_index].tick_params(axis='x', labelrotation=20)\n",
    "        sns.countplot(data=patient_records, x=variable, ax=axes[i_index])\n",
    "plt.show()"
   ]
  },
  {
   "cell_type": "markdown",
   "metadata": {
    "id": "NNijzHBOmkll"
   },
   "source": [
    "\n",
    "Observations\n",
    "1. Hospital Death\n",
    "a. The target variable hospital death has an imbalnaced proportion as there are more survivals than deaths.\n",
    "2. Ethinicity\n",
    "a. From the graph it is seen than more number of caucasions have been admitted. And the least admitted ones are native americans.\n",
    "3. Gender\n",
    "a. There isnt much of a difference between male and female patients.\n",
    "4. Hospital Admit Source\n",
    "a. Emergency Room and Floor are maximum.\n",
    "5. ICU Admit Source\n",
    "a. Similar to hospital admit source, emergency room is maximum.\n",
    "6. ICU Stay Type\n",
    "a. Admission is the most popular one in icu stay type.\n",
    "7. ICU Type\n",
    "a. Med-Surg type is maximum.\n",
    "8. APACHE 3j Bodysystem & APACHE 2 Bodysystem\n",
    "a. Almost all of them have significant number of cases except for gynaec and haemo"
   ]
  },
  {
   "cell_type": "code",
   "execution_count": null,
   "metadata": {
    "colab": {
     "base_uri": "https://localhost:8080/"
    },
    "id": "ORiWPKwwml2Y",
    "outputId": "b89e778f-26f8-41ac-ec33-1c397bff8172"
   },
   "outputs": [],
   "source": [
    "pr_continuous = patient_records.select_dtypes(np.float)\n",
    "pr_continuous.shape"
   ]
  },
  {
   "cell_type": "code",
   "execution_count": null,
   "metadata": {
    "colab": {
     "base_uri": "https://localhost:8080/"
    },
    "id": "03SaelZpmnDG",
    "outputId": "7b8f87f0-ac8f-4e27-d9da-d97e4e101341"
   },
   "outputs": [],
   "source": [
    "variables = pr_continuous.columns\n",
    "patient_lists = [variables[i:i+3] for i in range(0, len(variables), 3)]\n",
    "patient_lists"
   ]
  },
  {
   "cell_type": "code",
   "execution_count": null,
   "metadata": {
    "colab": {
     "base_uri": "https://localhost:8080/",
     "height": 1000
    },
    "id": "ImLZxhODmoFo",
    "outputId": "2a10094b-78e9-4433-ec27-a23f116a7d2e"
   },
   "outputs": [],
   "source": [
    "fig, axes = plt.subplots(6, 3, figsize=(15, 30))\n",
    "# fig.tight_layout()\n",
    "fig.subplots_adjust(hspace=1.5)\n",
    "for i_index, patient_list in enumerate(patient_lists):\n",
    "    for j_index, variable in enumerate(patient_list):\n",
    "        ax = axes[i_index, j_index]\n",
    "#         patient_records[variable].value_counts().plot(kind='pie',autopct='%1.2f%%', ax=axes[i_index, j_index], subplots='true', radius=1.5, figsize=(50, 120))\n",
    "        ax.set_xlabel(variable)\n",
    "#         ax.tick_params(axis='x', labelrotation=20)\n",
    "        sns.distplot(patient_records[variable], ax=ax)\n",
    "plt.show()"
   ]
  },
  {
   "cell_type": "markdown",
   "metadata": {
    "id": "5aXYaRqZmpof"
   },
   "source": [
    "Observations\n",
    "Electivce surgery\n",
    "It is seen that most of the patients admitted were not scheduled for a surgery beforehand.\n",
    "APACHE\n",
    "From the graphs, we can determine which score was the highest in each reading.\n",
    "Comorbidity\n",
    "We can infer that most of the patients were not diagnosed with the above diseases. The additional diseases are: AIDS, Cirrhosis, Diabetes Melitus, Hepatic Failure, Immunosuppression, Leukimia, Lymphoma, Solid Tumor with Metastasis"
   ]
  },
  {
   "cell_type": "code",
   "execution_count": null,
   "metadata": {
    "id": "Q72ZCzwymq98"
   },
   "outputs": [],
   "source": [
    "patient_yes = patient_records[patient_records['hospital_death']==1]"
   ]
  },
  {
   "cell_type": "code",
   "execution_count": null,
   "metadata": {
    "colab": {
     "base_uri": "https://localhost:8080/",
     "height": 575
    },
    "id": "DlHXkGGbmr4k",
    "outputId": "1b168f9f-db88-4d38-d995-c1fba67b4533"
   },
   "outputs": [],
   "source": [
    "patient_yes"
   ]
  },
  {
   "cell_type": "code",
   "execution_count": null,
   "metadata": {
    "colab": {
     "base_uri": "https://localhost:8080/",
     "height": 1000
    },
    "id": "fbAlWzHamtLW",
    "outputId": "e5f78d1c-c5dd-4a91-a72b-d8bc7e7f2af6"
   },
   "outputs": [],
   "source": [
    "df1 = pd.crosstab(index = patient_yes[\"ethnicity\"],columns=\"count\")    \n",
    "df2 = pd.crosstab(index = patient_yes[\"gender\"],columns=\"count\")  \n",
    "df3 = pd.crosstab(index = patient_yes[\"hospital_admit_source\"],columns=\"count\") \n",
    "df4 = pd.crosstab(index = patient_yes[\"icu_admit_source\"],columns=\"count\")\n",
    "\n",
    "plt.figure(figsize=(35,15))\n",
    "fig, axes = plt.subplots(nrows=2, ncols=2,figsize=(35,25))\n",
    "df1.plot.bar(ax=axes[0,0])\n",
    "df2.plot.bar(ax=axes[0,1])\n",
    "df3.plot.bar(ax=axes[1,0])\n",
    "df4.plot.bar(ax=axes[1,1])"
   ]
  },
  {
   "cell_type": "code",
   "execution_count": null,
   "metadata": {
    "colab": {
     "base_uri": "https://localhost:8080/",
     "height": 1000
    },
    "id": "XVsys5wJmucr",
    "outputId": "8c460d93-c88f-4c8d-aec7-c2f89f65f097"
   },
   "outputs": [],
   "source": [
    "df5 = pd.crosstab(index = patient_yes[\"icu_stay_type\"],columns=\"count\")\n",
    "df6 = pd.crosstab(index = patient_yes[\"icu_type\"],columns=\"count\")\n",
    "df7 = pd.crosstab(index = patient_yes[\"apache_3j_bodysystem\"],columns=\"count\")\n",
    "df8 = pd.crosstab(index = patient_yes[\"apache_2_bodysystem\"],columns=\"count\")\n",
    "\n",
    "plt.figure(figsize=(35,15))\n",
    "fig, axes = plt.subplots(nrows=2, ncols=2,figsize=(35,25))\n",
    "\n",
    "\n",
    "df5.plot.bar(ax=axes[0,0])\n",
    "df6.plot.bar(ax=axes[0,1])\n",
    "df7.plot.bar(ax=axes[1,0])\n",
    "df8.plot.bar(ax=axes[1,1])"
   ]
  },
  {
   "cell_type": "markdown",
   "metadata": {
    "id": "3yiMLC70mwdc"
   },
   "source": [
    "Positive and Negative Target Analysis with attributes:"
   ]
  },
  {
   "cell_type": "code",
   "execution_count": null,
   "metadata": {
    "id": "IRnnqJ3omxns"
   },
   "outputs": [],
   "source": [
    "def barPerc(df,xVar,ax):\n",
    "    \n",
    "    # 1. how many X categories\n",
    "    ##   check for NaN and remove\n",
    "    numX=len([x for x in df[xVar].unique() if x==x])\n",
    "\n",
    "    # 2. The bars are created in hue order, organize them\n",
    "    bars = ax.patches\n",
    "    ## 2a. For each X variable\n",
    "    for ind in range(numX):\n",
    "        ## 2b. Get every hue bar\n",
    "        ##     ex. 8 X categories, 4 hues =>\n",
    "        ##    [0, 8, 16, 24] are hue bars for 1st X category\n",
    "        hueBars=bars[ind:][::numX]\n",
    "        ## 2c. Get the total height (for percentages)\n",
    "        total = sum([x.get_height() for x in hueBars])\n",
    "\n",
    "        # 3. Print the percentage on the bars\n",
    "        for bar in hueBars:\n",
    "            ax.text(bar.get_x() + bar.get_width()/2.,\n",
    "                    bar.get_height(),\n",
    "                    f'{bar.get_height()/total:.0%}',\n",
    "                    ha=\"center\",va=\"bottom\")"
   ]
  },
  {
   "cell_type": "code",
   "execution_count": null,
   "metadata": {
    "colab": {
     "base_uri": "https://localhost:8080/",
     "height": 497
    },
    "id": "2_s-gHEemy4A",
    "outputId": "19b5da34-3546-4132-e5b0-abc616aad1db"
   },
   "outputs": [],
   "source": [
    "plt.figure(figsize=(12,8))\n",
    "ax=sns.countplot(x=\"ethnicity\",hue='hospital_death',data=patient_records)\n",
    "barPerc(patient_records,'ethnicity',ax)"
   ]
  },
  {
   "cell_type": "code",
   "execution_count": null,
   "metadata": {
    "colab": {
     "base_uri": "https://localhost:8080/",
     "height": 497
    },
    "id": "b2c2eJwqm0Fe",
    "outputId": "1d359972-057f-4c8d-ce8b-9fc3111c06a5"
   },
   "outputs": [],
   "source": [
    "plt.figure(figsize=(12,8))\n",
    "ax=sns.countplot(x=\"gender\",hue='hospital_death',data=patient_records)\n",
    "barPerc(patient_records,'gender',ax)"
   ]
  },
  {
   "cell_type": "code",
   "execution_count": null,
   "metadata": {
    "colab": {
     "base_uri": "https://localhost:8080/",
     "height": 498
    },
    "id": "Alzm3VDvm1Ee",
    "outputId": "37384b9d-6295-42d6-923f-1b5198bd7aac"
   },
   "outputs": [],
   "source": [
    "plt.figure(figsize=(12,8))\n",
    "ax=sns.countplot(x=\"icu_admit_source\",hue='hospital_death',data=patient_records)\n",
    "barPerc(patient_records,'icu_admit_source',ax)"
   ]
  },
  {
   "cell_type": "code",
   "execution_count": null,
   "metadata": {
    "colab": {
     "base_uri": "https://localhost:8080/",
     "height": 498
    },
    "id": "8lCDdAARm2Qi",
    "outputId": "f0a05773-73e6-4334-d5e2-013a92fa9bdc"
   },
   "outputs": [],
   "source": [
    "plt.figure(figsize=(12,8))\n",
    "ax=sns.countplot(x=\"icu_stay_type\",hue='hospital_death',data=patient_records)\n",
    "barPerc(patient_records,'icu_stay_type',ax)"
   ]
  },
  {
   "cell_type": "code",
   "execution_count": null,
   "metadata": {
    "colab": {
     "base_uri": "https://localhost:8080/",
     "height": 498
    },
    "id": "g_14bq_Lm3WA",
    "outputId": "65aed35b-ac32-446b-d4e7-f636d74725e6"
   },
   "outputs": [],
   "source": [
    "plt.figure(figsize=(12,8))\n",
    "ax=sns.countplot(x=\"icu_type\",hue='hospital_death',data=patient_records)\n",
    "barPerc(patient_records,'icu_type',ax)"
   ]
  },
  {
   "cell_type": "code",
   "execution_count": null,
   "metadata": {
    "colab": {
     "base_uri": "https://localhost:8080/",
     "height": 1000
    },
    "id": "rGywmxDcm4bM",
    "outputId": "8320acab-f444-4662-fac8-5b00ed92d86d"
   },
   "outputs": [],
   "source": [
    "plt.figure(figsize=(30,20))\n",
    "ax=sns.countplot(x=\"apache_3j_bodysystem\",hue='hospital_death',data=patient_records)\n",
    "barPerc(patient_records,'apache_3j_bodysystem',ax)"
   ]
  },
  {
   "cell_type": "code",
   "execution_count": null,
   "metadata": {
    "colab": {
     "base_uri": "https://localhost:8080/",
     "height": 1000
    },
    "id": "UtkGQ17vm5j6",
    "outputId": "9be6d808-46a2-4250-94de-f7ece43d6490"
   },
   "outputs": [],
   "source": [
    "plt.figure(figsize=(30,20))\n",
    "ax=sns.countplot(x=\"apache_2_bodysystem\",hue='hospital_death',data=patient_records)\n",
    "barPerc(patient_records,'apache_2_bodysystem',ax)"
   ]
  },
  {
   "cell_type": "markdown",
   "metadata": {
    "id": "dEA9EnAjm7qG"
   },
   "source": [
    "Categorical-Categorical Analysis :"
   ]
  },
  {
   "cell_type": "code",
   "execution_count": null,
   "metadata": {
    "colab": {
     "base_uri": "https://localhost:8080/",
     "height": 654
    },
    "id": "KGlAoCTNm9GT",
    "outputId": "5fb75d10-4765-421f-846d-5c132080ce5c"
   },
   "outputs": [],
   "source": [
    "print('bivariate analysis of ethnicity and gender')\n",
    "print('-----------------------------------------------')\n",
    "print(pd.crosstab(patient_records['ethnicity'],patient_records['gender']))\n",
    "pd.crosstab(patient_records['ethnicity'],patient_records['gender']).plot(kind='bar')\n",
    "plt.title('visualize ethnicity status of gender')\n",
    "plt.xlabel('gender')\n",
    "plt.ylabel('Count of gender according to the ethnicity status')\n",
    "plt.show()"
   ]
  },
  {
   "cell_type": "code",
   "execution_count": null,
   "metadata": {
    "colab": {
     "base_uri": "https://localhost:8080/",
     "height": 1000
    },
    "id": "K89fYSrum-rG",
    "outputId": "81e2b7bd-95b3-4db9-fbae-46b0c4c4c878"
   },
   "outputs": [],
   "source": [
    "print('bivariate analysis of ethnicity and hospital_admit_source')\n",
    "print('-----------------------------------------------')\n",
    "print(pd.crosstab(patient_records['ethnicity'],patient_records['hospital_admit_source']))\n",
    "pd.crosstab(patient_records['ethnicity'],patient_records['hospital_admit_source']).plot(kind='bar')\n",
    "plt.title('visualize ethnicity status of hospital_admit_source')\n",
    "plt.xlabel('hospital_admit_source')\n",
    "plt.ylabel('Count of hospital_admit_source according to the ethnicity status')\n",
    "plt.show()"
   ]
  },
  {
   "cell_type": "code",
   "execution_count": null,
   "metadata": {
    "colab": {
     "base_uri": "https://localhost:8080/",
     "height": 811
    },
    "id": "JBvMsS0YnASy",
    "outputId": "278799b2-2463-4310-c4a9-362beda04aba"
   },
   "outputs": [],
   "source": [
    "print('bivariate analysis of ethnicity and icu_admit_source')\n",
    "print('-----------------------------------------------')\n",
    "print(pd.crosstab(patient_records['ethnicity'],patient_records['icu_admit_source']))\n",
    "pd.crosstab(patient_records['ethnicity'],patient_records['icu_admit_source']).plot(kind='bar')\n",
    "plt.title('visualize ethnicity status of icu_admit_source')\n",
    "plt.xlabel('icu_admit_source')\n",
    "plt.ylabel('Count of icu_admit_source according to the ethnicity status')\n",
    "plt.show()"
   ]
  },
  {
   "cell_type": "code",
   "execution_count": null,
   "metadata": {
    "colab": {
     "base_uri": "https://localhost:8080/",
     "height": 655
    },
    "id": "PTbSrE7onByW",
    "outputId": "20d11963-8277-4b76-f8e1-2dfff3a53e0a"
   },
   "outputs": [],
   "source": [
    "print('bivariate analysis of ethnicity and icu_stay_type')\n",
    "print('-----------------------------------------------')\n",
    "print(pd.crosstab(patient_records['ethnicity'],patient_records['icu_stay_type']))\n",
    "pd.crosstab(patient_records['ethnicity'],patient_records['icu_stay_type']).plot(kind='bar')\n",
    "plt.title('visualize ethnicity status of icu_stay_type')\n",
    "plt.xlabel('icu_stay_type')\n",
    "plt.ylabel('Count of icu_stay_type according to the ethnicity status')\n",
    "plt.show()"
   ]
  },
  {
   "cell_type": "code",
   "execution_count": null,
   "metadata": {
    "colab": {
     "base_uri": "https://localhost:8080/",
     "height": 811
    },
    "id": "8J2mQn3pnC8-",
    "outputId": "fd83578d-a902-4b39-bb5b-0017ebe93e7a"
   },
   "outputs": [],
   "source": [
    "print('bivariate analysis of ethnicity and icu_type')\n",
    "print('-----------------------------------------------')\n",
    "print(pd.crosstab(patient_records['ethnicity'],patient_records['icu_type']))\n",
    "pd.crosstab(patient_records['ethnicity'],patient_records['icu_type']).plot(kind='bar')\n",
    "plt.title('visualize ethnicity status of icu_type')\n",
    "plt.xlabel('icu_type')\n",
    "plt.ylabel('Count of icu_type according to the ethnicity status')\n",
    "plt.show()"
   ]
  },
  {
   "cell_type": "code",
   "execution_count": null,
   "metadata": {
    "colab": {
     "base_uri": "https://localhost:8080/",
     "height": 1000
    },
    "id": "pk1CEI9pnEVy",
    "outputId": "74a9caab-2fd8-4833-f235-ef9e2a1d14bd"
   },
   "outputs": [],
   "source": [
    "print('bivariate analysis of ethnicity and apache_3j_bodysystem')\n",
    "print('-----------------------------------------------')\n",
    "print(pd.crosstab(patient_records['ethnicity'],patient_records['apache_3j_bodysystem']))\n",
    "pd.crosstab(patient_records['ethnicity'],patient_records['apache_3j_bodysystem']).plot(kind='bar')\n",
    "plt.title('visualize ethnicity status of apache_3j_bodysystem')\n",
    "plt.xlabel('apache_3j_bodysystem')\n",
    "plt.ylabel('Count of apache_3j_bodysystem according to the ethnicity status')\n",
    "plt.show()"
   ]
  },
  {
   "cell_type": "code",
   "execution_count": null,
   "metadata": {
    "colab": {
     "base_uri": "https://localhost:8080/",
     "height": 967
    },
    "id": "aL2LPtn9nF5P",
    "outputId": "ed6f6471-587a-435d-a46e-4318acc99d35"
   },
   "outputs": [],
   "source": [
    "print('bivariate analysis of ethnicity and apache_2_bodysystem')\n",
    "print('-----------------------------------------------')\n",
    "print(pd.crosstab(patient_records['ethnicity'],patient_records['apache_2_bodysystem']))\n",
    "pd.crosstab(patient_records['ethnicity'],patient_records['apache_2_bodysystem']).plot(kind='bar')\n",
    "plt.title('visualize ethnicity status of apache_2_bodysystem')\n",
    "plt.xlabel('apache_2_bodysystem')\n",
    "plt.ylabel('Count of apache_2_bodysystem according to the ethnicity status')\n",
    "plt.show()"
   ]
  },
  {
   "cell_type": "code",
   "execution_count": null,
   "metadata": {
    "colab": {
     "base_uri": "https://localhost:8080/",
     "height": 769
    },
    "id": "y2lJeYSenH8Q",
    "outputId": "2fa209d1-d452-44cf-ad20-072e69781c7d"
   },
   "outputs": [],
   "source": [
    "print('bivariate analysis of gender and hospital_admit_source')\n",
    "print('-----------------------------------------------')\n",
    "print(pd.crosstab(patient_records['gender'],patient_records['hospital_admit_source']))\n",
    "pd.crosstab(patient_records['gender'],patient_records['hospital_admit_source']).plot(kind='bar')\n",
    "plt.title('visualize gender status of hospital_admit_source')\n",
    "plt.xlabel('hospital_admit_source')\n",
    "plt.ylabel('Count of hospital_admit_source according to the gender status')\n",
    "plt.show()"
   ]
  },
  {
   "cell_type": "code",
   "execution_count": null,
   "metadata": {
    "colab": {
     "base_uri": "https://localhost:8080/",
     "height": 595
    },
    "id": "JVpKU_emnJQx",
    "outputId": "73e330aa-c916-49f9-f3fd-fab9ae8a631a"
   },
   "outputs": [],
   "source": [
    "print('bivariate analysis of gender and icu_admit_source')\n",
    "print('-----------------------------------------------')\n",
    "print(pd.crosstab(patient_records['gender'],patient_records['icu_admit_source']))\n",
    "pd.crosstab(patient_records['gender'],patient_records['icu_admit_source']).plot(kind='bar')\n",
    "plt.title('visualize gender status of icu_admit_source')\n",
    "plt.xlabel('icu_admit_source')\n",
    "plt.ylabel('Count of icu_admit_source according to the gender status')\n",
    "plt.show()"
   ]
  },
  {
   "cell_type": "code",
   "execution_count": null,
   "metadata": {
    "colab": {
     "base_uri": "https://localhost:8080/",
     "height": 508
    },
    "id": "mT6tWmdinKbg",
    "outputId": "b3a441aa-bb57-45af-906a-d53b028f6d71"
   },
   "outputs": [],
   "source": [
    "print('bivariate analysis of gender and icu_stay_type')\n",
    "print('-----------------------------------------------')\n",
    "print(pd.crosstab(patient_records['gender'],patient_records['icu_stay_type']))\n",
    "pd.crosstab(patient_records['gender'],patient_records['icu_stay_type']).plot(kind='bar')\n",
    "plt.title('visualize gender status of icu_stay_type')\n",
    "plt.xlabel('icu_stay_type')\n",
    "plt.ylabel('Count of icu_stay_type according to the gender status')\n",
    "plt.show()"
   ]
  },
  {
   "cell_type": "code",
   "execution_count": null,
   "metadata": {
    "colab": {
     "base_uri": "https://localhost:8080/",
     "height": 595
    },
    "id": "sAc_yrCrnLtV",
    "outputId": "68bd68b8-aa86-4924-fe36-432931a9e28d"
   },
   "outputs": [],
   "source": [
    "print('bivariate analysis of gender and icu_type')\n",
    "print('-----------------------------------------------')\n",
    "print(pd.crosstab(patient_records['gender'],patient_records['icu_type']))\n",
    "pd.crosstab(patient_records['gender'],patient_records['icu_type']).plot(kind='bar')\n",
    "plt.title('visualize gender status of icu_type')\n",
    "plt.xlabel('icu_type')\n",
    "plt.ylabel('Count of icu_type according to the gender status')\n",
    "plt.show()"
   ]
  },
  {
   "cell_type": "code",
   "execution_count": null,
   "metadata": {
    "colab": {
     "base_uri": "https://localhost:8080/",
     "height": 769
    },
    "id": "A4BBJswvnM2v",
    "outputId": "8f163e4a-99b6-4f37-e430-819d55111138"
   },
   "outputs": [],
   "source": [
    "print('bivariate analysis of gender and apache_3j_bodysystem')\n",
    "print('-----------------------------------------------')\n",
    "print(pd.crosstab(patient_records['gender'],patient_records['apache_3j_bodysystem']))\n",
    "pd.crosstab(patient_records['gender'],patient_records['apache_3j_bodysystem']).plot(kind='bar')\n",
    "plt.title('visualize gender status of apache_3j_bodysystem')\n",
    "plt.xlabel('apache_3j_bodysystem')\n",
    "plt.ylabel('Count of apache_3j_bodysystem according to the gender status')\n",
    "plt.show()"
   ]
  },
  {
   "cell_type": "code",
   "execution_count": null,
   "metadata": {
    "colab": {
     "base_uri": "https://localhost:8080/",
     "height": 682
    },
    "id": "_NvSReFrnOAd",
    "outputId": "fd61c090-7917-4af8-8be2-d8c0ad428c35"
   },
   "outputs": [],
   "source": [
    "print('bivariate analysis of gender and apache_2_bodysystem')\n",
    "print('-----------------------------------------------')\n",
    "print(pd.crosstab(patient_records['gender'],patient_records['apache_2_bodysystem']))\n",
    "pd.crosstab(patient_records['gender'],patient_records['apache_2_bodysystem']).plot(kind='bar')\n",
    "plt.title('visualize gender status of apache_2_bodysystem')\n",
    "plt.xlabel('apache_2_bodysystem')\n",
    "plt.ylabel('Count of apache_2_bodysystem according to the gender status')\n",
    "plt.show()"
   ]
  },
  {
   "cell_type": "code",
   "execution_count": null,
   "metadata": {
    "colab": {
     "base_uri": "https://localhost:8080/",
     "height": 1000
    },
    "id": "XP1faFWwnoLM",
    "outputId": "fdbda992-e4ed-460d-d478-533e5339b5d3"
   },
   "outputs": [],
   "source": [
    "print('bivariate analysis of hospital_admit_source and icu_admit_source')\n",
    "print('-----------------------------------------------')\n",
    "print(pd.crosstab(patient_records['hospital_admit_source'],patient_records['icu_admit_source']))\n",
    "pd.crosstab(patient_records['hospital_admit_source'],patient_records['icu_admit_source']).plot(kind='bar')\n",
    "plt.title('visualize hospital_admit_source status of icu_admit_source')\n",
    "plt.xlabel('icu_admit_source')\n",
    "plt.ylabel('Count of icu_admit_source according to the hospital_admit_source status')\n",
    "plt.show()"
   ]
  },
  {
   "cell_type": "code",
   "execution_count": null,
   "metadata": {
    "colab": {
     "base_uri": "https://localhost:8080/",
     "height": 845
    },
    "id": "HYQsnB2Inphi",
    "outputId": "0fef33d8-3adb-49dd-90ef-5eeb58d8617a"
   },
   "outputs": [],
   "source": [
    "print('bivariate analysis of hospital_admit_source and icu_stay_type')\n",
    "print('-----------------------------------------------')\n",
    "print(pd.crosstab(patient_records['hospital_admit_source'],patient_records['icu_stay_type']))\n",
    "pd.crosstab(patient_records['hospital_admit_source'],patient_records['icu_stay_type']).plot(kind='bar')\n",
    "plt.title('visualize hospital_admit_source status of icu_stay_type')\n",
    "plt.xlabel('icu_stay_type')\n",
    "plt.ylabel('Count of icu_stay_type according to the hospital_admit_source status')\n",
    "plt.show()"
   ]
  },
  {
   "cell_type": "code",
   "execution_count": null,
   "metadata": {
    "colab": {
     "base_uri": "https://localhost:8080/",
     "height": 1000
    },
    "id": "C17_3od9nq0h",
    "outputId": "cf00fcb8-5f41-4d06-cf94-16002476bfc5"
   },
   "outputs": [],
   "source": [
    "print('bivariate analysis of hospital_admit_source and icu_type')\n",
    "print('-----------------------------------------------')\n",
    "print(pd.crosstab(patient_records['hospital_admit_source'],patient_records['icu_type']))\n",
    "pd.crosstab(patient_records['hospital_admit_source'],patient_records['icu_type']).plot(kind='bar')\n",
    "plt.title('visualize hospital_admit_source status of icu_type')\n",
    "plt.xlabel('icu_type')\n",
    "plt.ylabel('Count of icu_type according to the hospital_admit_source status')\n",
    "plt.show()"
   ]
  },
  {
   "cell_type": "code",
   "execution_count": null,
   "metadata": {
    "colab": {
     "base_uri": "https://localhost:8080/",
     "height": 1000
    },
    "id": "hzXDZMIdnsWs",
    "outputId": "80cd493b-f39d-4ce4-9d57-27f92ec3f2c7"
   },
   "outputs": [],
   "source": [
    "print('bivariate analysis of hospital_admit_source and apache_3j_bodysystem')\n",
    "print('-----------------------------------------------')\n",
    "print(pd.crosstab(patient_records['hospital_admit_source'],patient_records['apache_3j_bodysystem']))\n",
    "pd.crosstab(patient_records['hospital_admit_source'],patient_records['apache_3j_bodysystem']).plot(kind='bar')\n",
    "plt.title('visualize hospital_admit_source status of apache_3j_bodysystem')\n",
    "plt.xlabel('apache_3j_bodysystem')\n",
    "plt.ylabel('Count of apache_3j_bodysystem according to the hospital_admit_source status')\n",
    "plt.show()"
   ]
  },
  {
   "cell_type": "code",
   "execution_count": null,
   "metadata": {
    "colab": {
     "base_uri": "https://localhost:8080/",
     "height": 1000
    },
    "id": "-wiCPRebnuT8",
    "outputId": "ae206470-cb80-49be-8f71-ca0b5e2fac17"
   },
   "outputs": [],
   "source": [
    "print('bivariate analysis of hospital_admit_source and apache_2_bodysystem')\n",
    "print('-----------------------------------------------')\n",
    "print(pd.crosstab(patient_records['hospital_admit_source'],patient_records['apache_2_bodysystem']))\n",
    "pd.crosstab(patient_records['hospital_admit_source'],patient_records['apache_2_bodysystem']).plot(kind='bar')\n",
    "plt.title('visualize hospital_admit_source status of apache_2_bodysystem')\n",
    "plt.xlabel('apache_2_bodysystem')\n",
    "plt.ylabel('Count of apache_2_bodysystem according to the hospital_admit_source status')\n",
    "plt.show()"
   ]
  },
  {
   "cell_type": "code",
   "execution_count": null,
   "metadata": {
    "colab": {
     "base_uri": "https://localhost:8080/",
     "height": 841
    },
    "id": "v3-Pefu8nv9a",
    "outputId": "18e57f2b-0867-499a-9284-0233fbae6c80"
   },
   "outputs": [],
   "source": [
    "plt.figure(figsize=(35,15))\n",
    "\n",
    "plt.subplot(1,3,1)\n",
    "sns.boxplot(x='hospital_death',y='age',data=patient_records)\n",
    "\n",
    "plt.subplot(1,3,2)\n",
    "sns.boxplot(x='hospital_death',y='glucose_apache',data=patient_records)\n",
    "\n",
    "plt.subplot(1,3,3)\n",
    "sns.boxplot(x='hospital_death',y='heart_rate_apache',data=patient_records)\n",
    "\n",
    "plt.show()"
   ]
  },
  {
   "cell_type": "code",
   "execution_count": null,
   "metadata": {
    "colab": {
     "base_uri": "https://localhost:8080/",
     "height": 390
    },
    "id": "6wqkhpdznw3f",
    "outputId": "5523882a-f993-45ec-a450-882e8db240d3"
   },
   "outputs": [],
   "source": [
    "plt.subplot(1,3,1)\n",
    "sns.boxplot(x='hospital_death',y='bmi',data=patient_records)\n",
    "\n",
    "plt.subplot(1,3,2)\n",
    "sns.boxplot(x='hospital_death',y='height',data=patient_records)\n",
    "\n",
    "plt.subplot(1,3,3)\n",
    "sns.boxplot(x='hospital_death',y='weight',data=patient_records)\n",
    "\n",
    "plt.show()"
   ]
  },
  {
   "cell_type": "code",
   "execution_count": null,
   "metadata": {
    "colab": {
     "base_uri": "https://localhost:8080/",
     "height": 389
    },
    "id": "iX03gM6Tny6M",
    "outputId": "69f4d066-d1cc-4e40-db64-4b1afd6599f4"
   },
   "outputs": [],
   "source": [
    "plt.subplot(1,3,1)\n",
    "sns.boxplot(x='hospital_death',y='gcs_eyes_apache',data=patient_records)\n",
    "\n",
    "plt.subplot(1,3,2)\n",
    "sns.boxplot(x='hospital_death',y='gcs_motor_apache',data=patient_records)\n",
    "\n",
    "plt.subplot(1,3,3)\n",
    "sns.boxplot(x='hospital_death',y='gcs_unable_apache',data=patient_records)\n",
    "\n",
    "plt.show()"
   ]
  },
  {
   "cell_type": "code",
   "execution_count": null,
   "metadata": {
    "colab": {
     "base_uri": "https://localhost:8080/",
     "height": 389
    },
    "id": "WDaQjx96nz0X",
    "outputId": "5f21a5ba-31f0-4316-96df-2d258ece2658"
   },
   "outputs": [],
   "source": [
    "plt.subplot(1,3,1)\n",
    "sns.boxplot(x='hospital_death',y='arf_apache',data=patient_records)\n",
    "\n",
    "plt.subplot(1,3,2)\n",
    "sns.boxplot(x='hospital_death',y='bun_apache',data=patient_records)\n",
    "\n",
    "plt.subplot(1,3,3)\n",
    "sns.boxplot(x='hospital_death',y='creatinine_apache',data=patient_records)\n",
    "\n",
    "plt.show()"
   ]
  },
  {
   "cell_type": "code",
   "execution_count": null,
   "metadata": {
    "colab": {
     "base_uri": "https://localhost:8080/",
     "height": 393
    },
    "id": "UG55tr5jn0_B",
    "outputId": "68caa8cc-d79a-479d-fbb1-70a94b41ddc1"
   },
   "outputs": [],
   "source": [
    "plt.subplot(1,3,1)\n",
    "sns.boxplot(x='hospital_death',y='sodium_apache',data=patient_records)\n",
    "\n",
    "plt.subplot(1,3,2)\n",
    "sns.boxplot(x='hospital_death',y='temp_apache',data=patient_records)\n",
    "\n",
    "plt.subplot(1,3,3)\n",
    "sns.boxplot(x='hospital_death',y='wbc_apache',data=patient_records)\n",
    "\n",
    "plt.show()"
   ]
  },
  {
   "cell_type": "code",
   "execution_count": null,
   "metadata": {
    "colab": {
     "base_uri": "https://localhost:8080/",
     "height": 389
    },
    "id": "AZ4rkgmAn2n9",
    "outputId": "3564868d-0c6b-4d0f-b927-d7c374396a5b"
   },
   "outputs": [],
   "source": [
    "plt.subplot(1,3,1)\n",
    "sns.boxplot(x='hospital_death',y='hematocrit_apache',data=patient_records)\n",
    "\n",
    "plt.subplot(1,3,2)\n",
    "sns.boxplot(x='hospital_death',y='intubated_apache',data=patient_records)\n",
    "\n",
    "plt.subplot(1,3,3)\n",
    "sns.boxplot(x='hospital_death',y='map_apache',data=patient_records)\n",
    "\n",
    "plt.show()"
   ]
  },
  {
   "cell_type": "code",
   "execution_count": null,
   "metadata": {
    "colab": {
     "base_uri": "https://localhost:8080/",
     "height": 389
    },
    "id": "Bt5nJW0Wn3sr",
    "outputId": "91a5c748-b2d1-4029-b17c-7053f4b79b99"
   },
   "outputs": [],
   "source": [
    "plt.subplot(1,3,1)\n",
    "sns.boxplot(x='hospital_death',y='apache_4a_hospital_death_prob',data=patient_records)\n",
    "\n",
    "plt.subplot(1,3,2)\n",
    "sns.boxplot(x='hospital_death',y='apache_4a_icu_death_prob',data=patient_records)\n",
    "\n",
    "plt.subplot(1,3,3)\n",
    "sns.boxplot(x='hospital_death',y='gcs_verbal_apache',data=patient_records)\n",
    "\n",
    "plt.show()"
   ]
  },
  {
   "cell_type": "code",
   "execution_count": null,
   "metadata": {
    "colab": {
     "base_uri": "https://localhost:8080/",
     "height": 406
    },
    "id": "q-EkTAcWn45R",
    "outputId": "f621ee55-38ed-49e7-d575-e3e4c7288a23"
   },
   "outputs": [],
   "source": [
    "sns.boxplot(data=patient_records, x=\"hospital_death\", y=\"age\")"
   ]
  },
  {
   "cell_type": "code",
   "execution_count": null,
   "metadata": {
    "colab": {
     "base_uri": "https://localhost:8080/",
     "height": 407
    },
    "id": "lbzum2hOoHiN",
    "outputId": "912e81c1-7104-4642-e2ea-647e1ccd54cb"
   },
   "outputs": [],
   "source": [
    "sns.boxplot(data=patient_records, x=\"hospital_death\", y=\"bmi\")"
   ]
  },
  {
   "cell_type": "markdown",
   "metadata": {
    "id": "kdIG5EXUoKCT"
   },
   "source": [
    "=====testing====="
   ]
  },
  {
   "cell_type": "code",
   "execution_count": null,
   "metadata": {
    "colab": {
     "base_uri": "https://localhost:8080/",
     "height": 405
    },
    "id": "UlgNK1RboMW5",
    "outputId": "6f081965-dddb-4be9-af54-010210e6f99f"
   },
   "outputs": [],
   "source": [
    "sns.boxplot(data=patient_records, x=\"bmi\", y=\"age\")"
   ]
  },
  {
   "cell_type": "markdown",
   "metadata": {
    "id": "Ac4su1MSoSgh"
   },
   "source": [
    "=====testing====="
   ]
  },
  {
   "cell_type": "code",
   "execution_count": null,
   "metadata": {
    "colab": {
     "base_uri": "https://localhost:8080/",
     "height": 406
    },
    "id": "hg2A1iMxoTs5",
    "outputId": "5488db2a-43ed-40e1-b72d-da33b808504e"
   },
   "outputs": [],
   "source": [
    "sns.boxplot(data=patient_records, x=\"hospital_death\", y=\"heart_rate_apache\")"
   ]
  },
  {
   "cell_type": "code",
   "execution_count": null,
   "metadata": {
    "colab": {
     "base_uri": "https://localhost:8080/",
     "height": 534
    },
    "id": "YkKEUNRBoUwV",
    "outputId": "faa602e1-29a4-4051-a5bd-f8e5d587d64a"
   },
   "outputs": [],
   "source": [
    "sns.boxplot(data=patient_records, x=\"hospital_admit_source\", y=\"apache_4a_hospital_death_prob\")\n",
    "plt.xticks(rotation=90)"
   ]
  },
  {
   "cell_type": "code",
   "execution_count": null,
   "metadata": {
    "colab": {
     "base_uri": "https://localhost:8080/",
     "height": 533
    },
    "id": "zwoJ2zcCoVvv",
    "outputId": "81c1b254-0f4b-465f-d1c8-1ac808d2b930"
   },
   "outputs": [],
   "source": [
    "sns.boxplot(data=patient_records, x=\"icu_admit_source\", y=\"apache_4a_icu_death_prob\")\n",
    "plt.xticks(rotation=90)"
   ]
  },
  {
   "cell_type": "markdown",
   "metadata": {
    "id": "sIsWWXq0oXSJ"
   },
   "source": [
    "Multivariate Analysis :"
   ]
  },
  {
   "cell_type": "code",
   "execution_count": null,
   "metadata": {
    "colab": {
     "base_uri": "https://localhost:8080/",
     "height": 623
    },
    "id": "q8aMncCUoYPR",
    "outputId": "bab4ea5e-eba2-41c1-8ccd-786ca92ffbbc"
   },
   "outputs": [],
   "source": [
    "plt.figure(figsize=(14,10))\n",
    "sns.boxplot(x='ethnicity',y='age',data=patient_records,hue='hospital_death')"
   ]
  },
  {
   "cell_type": "code",
   "execution_count": null,
   "metadata": {
    "colab": {
     "base_uri": "https://localhost:8080/",
     "height": 623
    },
    "id": "CedxAmGdoZLB",
    "outputId": "3c3f0a15-9143-4335-b1f8-debea8c161cf"
   },
   "outputs": [],
   "source": [
    "plt.figure(figsize=(14,10))\n",
    "sns.violinplot(x='gender',y='age',data=patient_records,hue='hospital_death')"
   ]
  },
  {
   "cell_type": "code",
   "execution_count": null,
   "metadata": {
    "colab": {
     "base_uri": "https://localhost:8080/",
     "height": 623
    },
    "id": "njpwOMsMoaHl",
    "outputId": "5b30f099-14ab-4bef-c8ca-9e754b28f05a"
   },
   "outputs": [],
   "source": [
    "plt.figure(figsize=(14,10))\n",
    "sns.boxplot(x='hospital_admit_source',y='age',data=patient_records,hue='hospital_death')"
   ]
  },
  {
   "cell_type": "code",
   "execution_count": null,
   "metadata": {
    "colab": {
     "base_uri": "https://localhost:8080/",
     "height": 623
    },
    "id": "La7gAzbIobDJ",
    "outputId": "6322f46c-2079-4860-cb2a-7bb268202403"
   },
   "outputs": [],
   "source": [
    "plt.figure(figsize=(14,10))\n",
    "sns.boxplot(x='icu_admit_source',y='age',data=patient_records,hue='hospital_death')"
   ]
  },
  {
   "cell_type": "code",
   "execution_count": null,
   "metadata": {
    "colab": {
     "base_uri": "https://localhost:8080/",
     "height": 623
    },
    "id": "jVbvkbbPocDe",
    "outputId": "43d2e58c-35d0-4919-9457-3fddd1d2774d"
   },
   "outputs": [],
   "source": [
    "plt.figure(figsize=(14,10))\n",
    "sns.boxplot(x='icu_stay_type',y='age',data=patient_records,hue='hospital_death')"
   ]
  },
  {
   "cell_type": "code",
   "execution_count": null,
   "metadata": {
    "colab": {
     "base_uri": "https://localhost:8080/",
     "height": 623
    },
    "id": "KHFo9I7Noc4y",
    "outputId": "d23950ea-1349-41ff-d0b5-fd955b3a6ad5"
   },
   "outputs": [],
   "source": [
    "plt.figure(figsize=(14,10))\n",
    "sns.boxplot(x='icu_type',y='age',data=patient_records,hue='hospital_death')"
   ]
  },
  {
   "cell_type": "code",
   "execution_count": null,
   "metadata": {
    "colab": {
     "base_uri": "https://localhost:8080/",
     "height": 1000
    },
    "id": "YAdLMwE7odu8",
    "outputId": "55dd7444-4bcf-4000-a2c6-6ea585e82dee"
   },
   "outputs": [],
   "source": [
    "plt.figure(figsize=(30,30))\n",
    "sns.boxplot(x='apache_3j_bodysystem',y='age',data=patient_records,hue='hospital_death')"
   ]
  },
  {
   "cell_type": "code",
   "execution_count": null,
   "metadata": {
    "colab": {
     "base_uri": "https://localhost:8080/",
     "height": 1000
    },
    "id": "iZArYgitogFR",
    "outputId": "43fe485f-3e78-427b-8b76-1c5f43cdff1a"
   },
   "outputs": [],
   "source": [
    "plt.figure(figsize=(20,20))\n",
    "sns.boxplot(x='apache_2_bodysystem',y='age',data=patient_records,hue='hospital_death')"
   ]
  },
  {
   "cell_type": "code",
   "execution_count": null,
   "metadata": {
    "id": "I20uzo7kohUj"
   },
   "outputs": [],
   "source": [
    "patient_records.drop(['readmission_status'],axis=1,inplace=True)"
   ]
  },
  {
   "cell_type": "code",
   "execution_count": null,
   "metadata": {
    "colab": {
     "base_uri": "https://localhost:8080/"
    },
    "id": "2NI9CU5KoiC-",
    "outputId": "ba47921e-f97e-47f6-988d-86cc446d225d"
   },
   "outputs": [],
   "source": [
    "patient_records.info()"
   ]
  },
  {
   "cell_type": "markdown",
   "metadata": {
    "id": "EdpbfsHaojmg"
   },
   "source": [
    "Outliers Detection And Treatment :"
   ]
  },
  {
   "cell_type": "code",
   "execution_count": null,
   "metadata": {
    "id": "mC_WUY-Eok6m"
   },
   "outputs": [],
   "source": [
    "df_numerical = patient_records.select_dtypes(include=np.number)"
   ]
  },
  {
   "cell_type": "code",
   "execution_count": null,
   "metadata": {
    "colab": {
     "base_uri": "https://localhost:8080/"
    },
    "id": "EDNy_Gltolyv",
    "outputId": "c52471aa-c5ab-4e80-c861-c9d85f5f15ee"
   },
   "outputs": [],
   "source": [
    "print(df_numerical)"
   ]
  },
  {
   "cell_type": "code",
   "execution_count": null,
   "metadata": {
    "colab": {
     "base_uri": "https://localhost:8080/"
    },
    "id": "ywu_o_4hoohx",
    "outputId": "9063fedc-b073-445b-d06d-5aa2871070ac"
   },
   "outputs": [],
   "source": [
    "df_numerical.skew()"
   ]
  },
  {
   "cell_type": "code",
   "execution_count": null,
   "metadata": {
    "colab": {
     "base_uri": "https://localhost:8080/",
     "height": 1000
    },
    "id": "SbQArNWDorbB",
    "outputId": "42034dda-5e7e-41a5-ff4e-24f3bc662555"
   },
   "outputs": [],
   "source": [
    "plt.figure(figsize=(25,30))\n",
    "sns.heatmap(df_numerical.corr(),annot=True)"
   ]
  },
  {
   "cell_type": "markdown",
   "metadata": {
    "id": "PXl4m483osrd"
   },
   "source": [
    "Graphical Representation of Outliers"
   ]
  },
  {
   "cell_type": "code",
   "execution_count": null,
   "metadata": {
    "colab": {
     "base_uri": "https://localhost:8080/",
     "height": 1000
    },
    "id": "b7tCMWN7otbx",
    "outputId": "43594d4f-8ba5-46fe-b9fa-3b560728d865"
   },
   "outputs": [],
   "source": [
    "outlier_columns=[]\n",
    "\n",
    "plt.figure(figsize=(30,20))\n",
    "s=1\n",
    "for p in pr_continuous:\n",
    "    plt.subplot(6,3,s)\n",
    "    sns.distplot(pr_continuous[p])  \n",
    "    s+=1"
   ]
  },
  {
   "cell_type": "markdown",
   "metadata": {
    "id": "uCwhAnAuowhG"
   },
   "source": [
    "Treatment of Outliers by Powertransform :"
   ]
  },
  {
   "cell_type": "code",
   "execution_count": null,
   "metadata": {
    "id": "FFrYyTo5oxnv"
   },
   "outputs": [],
   "source": [
    "from sklearn.preprocessing import PowerTransformer"
   ]
  },
  {
   "cell_type": "code",
   "execution_count": null,
   "metadata": {
    "id": "eSZ_fi1RoyVZ"
   },
   "outputs": [],
   "source": [
    "pt=PowerTransformer()"
   ]
  },
  {
   "cell_type": "code",
   "execution_count": null,
   "metadata": {
    "id": "seSKz4P1ozLg"
   },
   "outputs": [],
   "source": [
    "patient_pwrtransformed_data_num=pd.DataFrame(pt.fit_transform(df_numerical),columns=df_numerical.columns)"
   ]
  },
  {
   "cell_type": "code",
   "execution_count": null,
   "metadata": {
    "colab": {
     "base_uri": "https://localhost:8080/",
     "height": 300
    },
    "id": "DSiz9Lxmoz4h",
    "outputId": "50a2f3de-d052-4c03-8591-b63a9077a5d8"
   },
   "outputs": [],
   "source": [
    "patient_pwrtransformed_data_num.head()"
   ]
  },
  {
   "cell_type": "markdown",
   "metadata": {
    "id": "paLflcLFo1GU"
   },
   "source": [
    "Encoding the categorical variables:"
   ]
  },
  {
   "cell_type": "code",
   "execution_count": null,
   "metadata": {
    "id": "G722wdcUo2J4"
   },
   "outputs": [],
   "source": [
    "df_categorical = patient_records.select_dtypes(object)\n",
    "df_categorical=df_categorical.drop('hospital_death',axis=1)\n",
    "Encode=pd.get_dummies(data=df_categorical,drop_first=True)"
   ]
  },
  {
   "cell_type": "code",
   "execution_count": null,
   "metadata": {
    "colab": {
     "base_uri": "https://localhost:8080/"
    },
    "id": "LED1dh4bo25c",
    "outputId": "7427ae7b-642e-420c-94d5-e99b1f6b9309"
   },
   "outputs": [],
   "source": [
    "print(df_categorical)"
   ]
  },
  {
   "cell_type": "code",
   "execution_count": null,
   "metadata": {
    "id": "oIU-xB1So7wb"
   },
   "outputs": [],
   "source": [
    "Encode=pd.get_dummies(patient_records,columns = ['hospital_death'],drop_first=True)  "
   ]
  },
  {
   "cell_type": "code",
   "execution_count": null,
   "metadata": {
    "id": "ZOeuccYro8Xe"
   },
   "outputs": [],
   "source": [
    "patient_records['hospital_death']=patient_records['hospital_death'].astype(int)"
   ]
  },
  {
   "cell_type": "markdown",
   "metadata": {
    "id": "aZAj0MGFo93s"
   },
   "source": [
    "Seperating the target variable and the dependent variables:"
   ]
  },
  {
   "cell_type": "code",
   "execution_count": null,
   "metadata": {
    "id": "2SwKajSno-_s"
   },
   "outputs": [],
   "source": [
    "# Dependent variables:\n",
    "X=patient_pwrtransformed_data_num\n",
    "\n",
    "# Target variable:\n",
    "y=patient_records[['hospital_death']].reset_index(drop=True)"
   ]
  },
  {
   "cell_type": "code",
   "execution_count": null,
   "metadata": {
    "colab": {
     "base_uri": "https://localhost:8080/"
    },
    "id": "OMPMnkhio_3N",
    "outputId": "7bc5f048-49ff-4cef-9f7f-044f1c33a296"
   },
   "outputs": [],
   "source": [
    "y.info()"
   ]
  },
  {
   "cell_type": "code",
   "execution_count": null,
   "metadata": {
    "id": "xBrIY1oWpAz5"
   },
   "outputs": [],
   "source": [
    "Encode=pd.get_dummies(data=patient_records,drop_first=True)\n",
    "\n",
    "# Concatenating the Encoded categorical attributes to the powertransformed numerical attributes:\n",
    "X=pd.concat([pd.DataFrame(X),Encode],axis=1)"
   ]
  },
  {
   "cell_type": "code",
   "execution_count": null,
   "metadata": {
    "colab": {
     "base_uri": "https://localhost:8080/",
     "height": 651
    },
    "id": "sgVTm0JLpB-Q",
    "outputId": "6e9b9e23-bc9b-4140-f5dd-16049c04f159"
   },
   "outputs": [],
   "source": [
    "#plot color scaled correlation matrix\n",
    "plt.figure(figsize=(30,20))\n",
    "corr=pr_continuous.corr()\n",
    "corr.style.background_gradient(cmap='coolwarm')"
   ]
  },
  {
   "cell_type": "markdown",
   "metadata": {
    "id": "tvx_GKU8pDWW"
   },
   "source": [
    "Removing features involved in multicollinearity uisng Variance Inflation Factor:"
   ]
  },
  {
   "cell_type": "code",
   "execution_count": null,
   "metadata": {
    "id": "G3zxM4mMpEKA"
   },
   "outputs": [],
   "source": [
    "# Import library for VIF\n",
    "from statsmodels.stats.outliers_influence import variance_inflation_factor\n",
    "\n",
    "def calc_vif(X):\n",
    "\n",
    "    # Calculating VIF\n",
    "    vif = pd.DataFrame()\n",
    "    vif[\"variables\"] = X.columns\n",
    "    vif[\"VIF\"] = [variance_inflation_factor(X.values, i) for i in range(X.shape[1])]\n",
    "\n",
    "    return(vif)"
   ]
  },
  {
   "cell_type": "code",
   "execution_count": null,
   "metadata": {
    "colab": {
     "base_uri": "https://localhost:8080/",
     "height": 583
    },
    "id": "93hsjlZ8pFPm",
    "outputId": "fb7b47f3-32fa-48b1-a804-9f7297957c9e"
   },
   "outputs": [],
   "source": [
    "X =pr_continuous.iloc[:,:-1]\n",
    "calc_vif(X)"
   ]
  },
  {
   "cell_type": "code",
   "execution_count": null,
   "metadata": {
    "colab": {
     "base_uri": "https://localhost:8080/"
    },
    "id": "5fRmh7jLpGha",
    "outputId": "fe1ddb02-d1a8-4e53-cb6d-1cff81291619"
   },
   "outputs": [],
   "source": [
    "for i in range(len(X.columns)):\n",
    "    vif=pd.DataFrame()\n",
    "    vif['VIF Factor']=[variance_inflation_factor(X.values,i) for i in range(X.shape[1])]\n",
    "    vif['Features']=X.columns\n",
    "    multi=vif[vif['VIF Factor']>10]\n",
    "    if (multi.empty==False):\n",
    "        df_numerical_sorted=multi.sort_values(by='VIF Factor',ascending=False)\n",
    "    else:\n",
    "        print(vif)\n",
    "        break\n",
    "    if (df_numerical_sorted.empty==False):\n",
    "        X=X.drop(df_numerical_sorted['Features'].iloc[0],axis=1)\n",
    "    else:\n",
    "        print(vif)"
   ]
  },
  {
   "cell_type": "code",
   "execution_count": null,
   "metadata": {
    "colab": {
     "base_uri": "https://localhost:8080/"
    },
    "id": "iGBxZ_u4pHeB",
    "outputId": "b81a4643-0cb9-4e29-dc10-0bcd37c17aed"
   },
   "outputs": [],
   "source": [
    "# Checking the shape of the dependent dataset\n",
    "X.shape"
   ]
  },
  {
   "cell_type": "markdown",
   "metadata": {
    "id": "qHa53P48pI5y"
   },
   "source": [
    "Splitting the data into training and testing set in the ratio (80:20):"
   ]
  },
  {
   "cell_type": "code",
   "execution_count": null,
   "metadata": {
    "id": "NTmgU1oqpJkS"
   },
   "outputs": [],
   "source": [
    "rc=10    # Initialising the random state at 10.\n",
    "X=sm.add_constant(X)        # Adding the constant.\n",
    "X_train,X_test,y_train,y_test=train_test_split(X,y,test_size=0.2,random_state=rc)"
   ]
  },
  {
   "cell_type": "markdown",
   "metadata": {
    "id": "F8VHIRGYpKiG"
   },
   "source": [
    "Predictive Modeling:\n",
    "Logit model summary for full model:"
   ]
  },
  {
   "cell_type": "code",
   "execution_count": null,
   "metadata": {
    "colab": {
     "base_uri": "https://localhost:8080/",
     "height": 501
    },
    "id": "CjMuUYO8pLtQ",
    "outputId": "2a873ab1-c942-4491-dded-c66c2a43ac76"
   },
   "outputs": [],
   "source": [
    "# using statsmodels:\n",
    "logit_model=sm.Logit(y_train,X_train).fit()\n",
    "logit_model.summary()"
   ]
  },
  {
   "cell_type": "markdown",
   "metadata": {
    "id": "51ZeJ3jTpNyo"
   },
   "source": [
    "Statistical Analysis of the features:\n",
    "Significant features affecting the model:"
   ]
  },
  {
   "cell_type": "code",
   "execution_count": null,
   "metadata": {
    "colab": {
     "base_uri": "https://localhost:8080/",
     "height": 332
    },
    "id": "-qPsARVqpO3s",
    "outputId": "9b7d37d6-d56b-4516-8f67-bc6c12960d05"
   },
   "outputs": [],
   "source": [
    "# If the p value for Wald test statistic is less than 0.05, we are considering the feature to \n",
    "# be significant.\n",
    "\n",
    "significant=logit_model.pvalues[logit_model.pvalues<0.05]\n",
    "significant_features=pd.DataFrame(data=significant,columns=['p-value'])\n",
    "significant_features.drop('const',axis=0)"
   ]
  },
  {
   "cell_type": "markdown",
   "metadata": {
    "id": "HaGWvvzMpQWK"
   },
   "source": [
    "The following dependent variables contribute significantly to the overall model performance:\n",
    "\n",
    "weight\n",
    "apache_2_diagnosis\n",
    "bun_apache\n",
    "heart_rate_apache\n",
    "map_apache\n",
    "resprate_apache\n",
    "wbc_apache\n",
    "apache_4a_hospital_death_prob\n",
    "Log odds value for each feature:"
   ]
  },
  {
   "cell_type": "code",
   "execution_count": null,
   "metadata": {
    "colab": {
     "base_uri": "https://localhost:8080/",
     "height": 394
    },
    "id": "rL3ZX_OBpRM2",
    "outputId": "e5f2cddb-efce-4fab-b823-88f11197d32e"
   },
   "outputs": [],
   "source": [
    "log_odds=round(logit_model.params,2)\n",
    "log_odds_data=pd.DataFrame(log_odds,columns=['Log odds'])\n",
    "log_odds_data.drop('const',axis=0)"
   ]
  },
  {
   "cell_type": "markdown",
   "metadata": {
    "id": "lHN-CzlvpTzG"
   },
   "source": [
    "Odds Value for each feature:"
   ]
  },
  {
   "cell_type": "code",
   "execution_count": null,
   "metadata": {
    "colab": {
     "base_uri": "https://localhost:8080/",
     "height": 394
    },
    "id": "20WHbQzYpUgw",
    "outputId": "4ece728f-6a1c-486f-f759-8e8e6d84e681"
   },
   "outputs": [],
   "source": [
    "odds=round(np.exp(logit_model.params),2)\n",
    "odds_data=pd.DataFrame(odds,columns=['Odds value'])\n",
    "odds_data.sort_values(by='Odds value',ascending=False).drop('const',axis=0)"
   ]
  },
  {
   "cell_type": "markdown",
   "metadata": {
    "id": "skispkwzpVyv"
   },
   "source": [
    "Higher the odds value, greater is the relation of the feature with the target variable.\n",
    "\n",
    "Model Evaluation : McFadden's R^2 value(Pseudo R^2)"
   ]
  },
  {
   "cell_type": "code",
   "execution_count": null,
   "metadata": {
    "colab": {
     "base_uri": "https://localhost:8080/"
    },
    "id": "rnVfYtnNpW7M",
    "outputId": "1d4e8d9e-f750-45d6-c15c-5f6c8bfe1fe6"
   },
   "outputs": [],
   "source": [
    "accuracy=logit_model.prsquared\n",
    "print('Logit model accuracy : ',accuracy)"
   ]
  },
  {
   "cell_type": "markdown",
   "metadata": {
    "id": "HdNhjgcTpYHO"
   },
   "source": [
    "Model Performance:\n",
    "Accuracy using Confusion Matrix:\n",
    "Considering the probability threshold to be 0.5:"
   ]
  },
  {
   "cell_type": "code",
   "execution_count": null,
   "metadata": {
    "colab": {
     "base_uri": "https://localhost:8080/"
    },
    "id": "by-aC2oBpo_y",
    "outputId": "0c9da0fa-8d9e-4d76-d482-c757d9b6a33d"
   },
   "outputs": [],
   "source": [
    "# Initializing the probability threshold:\n",
    "th=0.5\n",
    "ypred_prob=logit_model.predict(X_test)\n",
    "ypred=[0 if p<th else 1 for p in ypred_prob]\n",
    "\n",
    "# Computing the Confusion matrix:\n",
    "confusion_mat=confusion_matrix(y_test,ypred)\n",
    "tn = confusion_mat[0,0]\n",
    "tp = confusion_mat[1,1]\n",
    "fp = confusion_mat[0,1]\n",
    "fn = confusion_mat[1,0]\n",
    "print('Confusion Matrix for Logit Model : ')\n",
    "print('---------------------------------','\\n')\n",
    "print(confusion_mat)"
   ]
  },
  {
   "cell_type": "code",
   "execution_count": null,
   "metadata": {
    "colab": {
     "base_uri": "https://localhost:8080/",
     "height": 428
    },
    "id": "iXmyAtkcpp4W",
    "outputId": "cf7be49e-de78-4b82-b157-aed1a45849ad"
   },
   "outputs": [],
   "source": [
    "plt.figure(figsize=(10,7))\n",
    "sns.heatmap(confusion_mat,annot=True,linewidth=3.5,linecolor='blue')\n",
    "plt.show()"
   ]
  },
  {
   "cell_type": "markdown",
   "metadata": {
    "id": "aciwpES9prJc"
   },
   "source": [
    "Calculating optimal value threshold for full model using the Youden's index:"
   ]
  },
  {
   "cell_type": "code",
   "execution_count": null,
   "metadata": {
    "colab": {
     "base_uri": "https://localhost:8080/"
    },
    "id": "NO6kwdfkpsBn",
    "outputId": "51777f6c-d73d-413a-c7e6-e78fdc7bd34d"
   },
   "outputs": [],
   "source": [
    "# Computing the True Positive rate(TPR),False Positive rate(FPR) and probability threshold:\n",
    "fpr, tpr, th= roc_curve(y_test, ypred_prob)\n",
    "\n",
    "# Creating a Dataframe of the data:\n",
    "youden= pd.DataFrame({'TPR': tpr,\n",
    "                       'FPR': fpr,\n",
    "                        'thres':th})\n",
    "\n",
    "# Calculating the Younden's index:\n",
    "youden['YI']= youden.TPR-youden.FPR\n",
    "youden= youden.sort_values(by='YI',ascending=False).reset_index(drop=True)\n",
    "print(youden.head(5))\n",
    "print('-----------------------------------------','\\n')\n",
    "# or\n",
    "print('Optimal threshold for probability: ',round(youden['YI'].max(),2))"
   ]
  },
  {
   "cell_type": "markdown",
   "metadata": {
    "id": "oU0OS8orptbi"
   },
   "source": [
    "Considering the Optimal probability threshold:"
   ]
  },
  {
   "cell_type": "code",
   "execution_count": null,
   "metadata": {
    "colab": {
     "base_uri": "https://localhost:8080/"
    },
    "id": "1sCrtqZ3puJ0",
    "outputId": "d87571cb-9d75-47a3-fcb6-397743361781"
   },
   "outputs": [],
   "source": [
    "# Initialising the optimal probability threshold:\n",
    "opt_th=0.51\n",
    "ypred_prob=logit_model.predict(X_test)\n",
    "ypred_optimal=[0 if p<opt_th else 1 for p in ypred_prob]\n",
    "\n",
    "# Computing the Confusion matrix:\n",
    "confusion_mat_optimal=confusion_matrix(y_test,ypred_optimal)\n",
    "tn = confusion_mat_optimal[0,0]\n",
    "tp = confusion_mat_optimal[1,1]\n",
    "fp = confusion_mat_optimal[0,1]\n",
    "fn = confusion_mat_optimal[1,0]\n",
    "print('Confusion Matrix from Logit Model : ')\n",
    "print('------------------------------------','\\n')\n",
    "print(confusion_mat_optimal)"
   ]
  },
  {
   "cell_type": "markdown",
   "metadata": {
    "id": "wgxo143HpwyH"
   },
   "source": [
    "Graphical Representation of Confusion Matrix:"
   ]
  },
  {
   "cell_type": "code",
   "execution_count": null,
   "metadata": {
    "colab": {
     "base_uri": "https://localhost:8080/",
     "height": 428
    },
    "id": "MRgm7r88pxrX",
    "outputId": "a5b5da32-b54a-477f-8ae1-6199a686c82d"
   },
   "outputs": [],
   "source": [
    "plt.figure(figsize=(10,7))\n",
    "sns.heatmap(confusion_mat_optimal,annot=True,linewidth=3.5,linecolor='blue')\n",
    "plt.show()"
   ]
  },
  {
   "cell_type": "markdown",
   "metadata": {
    "id": "lP876C2PpyoP"
   },
   "source": [
    "Logit model accuracy from confusion matrix :"
   ]
  },
  {
   "cell_type": "code",
   "execution_count": null,
   "metadata": {
    "colab": {
     "base_uri": "https://localhost:8080/"
    },
    "id": "Z9zDT4fwpzmC",
    "outputId": "cda2077d-3afa-4d96-8feb-4839749b6e57"
   },
   "outputs": [],
   "source": [
    "# For probability threshold as 0.5:\n",
    "logit_model_accuracy_test=accuracy_score(y_test,ypred)\n",
    "print('Logit model accuracy for test data using confusion matrix : ',logit_model_accuracy_test)"
   ]
  },
  {
   "cell_type": "code",
   "execution_count": null,
   "metadata": {
    "colab": {
     "base_uri": "https://localhost:8080/"
    },
    "id": "fcN6E4XFp0gE",
    "outputId": "36f5453e-cf9d-4a16-c78d-c8e63b8361a0"
   },
   "outputs": [],
   "source": [
    "# For optimal probability threshold as 0.51:\n",
    "logit_model_optimal_accuracy=accuracy_score(y_test,ypred_optimal)\n",
    "print('Logit model accuracy using confusion matrix : ',logit_model_optimal_accuracy)"
   ]
  },
  {
   "cell_type": "markdown",
   "metadata": {
    "id": "M9c1gNm_p1pn"
   },
   "source": [
    "Logit model classification report:"
   ]
  },
  {
   "cell_type": "code",
   "execution_count": null,
   "metadata": {
    "colab": {
     "base_uri": "https://localhost:8080/"
    },
    "id": "35vSu7xkp2dI",
    "outputId": "d0914a28-3add-4021-cbd3-ff63f5e8aecc"
   },
   "outputs": [],
   "source": [
    "# Computing the classification report:\n",
    "\n",
    "logit_classification=classification_report(y_test,ypred)\n",
    "print('Logit model classification report: ')\n",
    "print('------------------------------------','\\n')\n",
    "print(logit_classification)"
   ]
  },
  {
   "cell_type": "markdown",
   "metadata": {
    "id": "sgzFp4z5p4a2"
   },
   "source": [
    "1. Logistic Regression Model using Scikit-learn:"
   ]
  },
  {
   "cell_type": "code",
   "execution_count": null,
   "metadata": {
    "id": "Znq0TvHpp3sB"
   },
   "outputs": [],
   "source": [
    "# Logistic Regression Model using sklearn:\n",
    "log_reg=LogisticRegression()\n",
    "log_model=log_reg.fit(X_train,y_train)\n",
    "ypred_lr_test=log_model.predict(X_test)\n",
    "ypred_lr_train=log_model.predict(X_train)\n",
    "ypred_lr_probability=log_model.predict_proba(X_test)[:,1]"
   ]
  },
  {
   "cell_type": "markdown",
   "metadata": {
    "id": "fSE2kDOxp7nE"
   },
   "source": [
    "1.a) Model Performance Evaluation:\n",
    "1.a).1. Confusion Matrix for Logistic Regression Model:"
   ]
  },
  {
   "cell_type": "code",
   "execution_count": null,
   "metadata": {
    "colab": {
     "base_uri": "https://localhost:8080/"
    },
    "id": "CFs0Pqp2p80M",
    "outputId": "9d907c01-b756-4671-a9a5-66c6a3324b5f"
   },
   "outputs": [],
   "source": [
    "# Computing the Confusion matrix: \n",
    "\n",
    "confusion_mat=confusion_matrix(y_test,ypred_lr_test)\n",
    "tn = confusion_mat[0,0]\n",
    "tp = confusion_mat[1,1]\n",
    "fp = confusion_mat[0,1]\n",
    "fn = confusion_mat[1,0]\n",
    "print('Confusion Matrix form Logistic Regression Model : ')\n",
    "print('------------------------------------------------','\\n')\n",
    "print(confusion_mat)"
   ]
  },
  {
   "cell_type": "markdown",
   "metadata": {
    "id": "Fj2I2l7kqCbb"
   },
   "source": [
    "1.a).2. Graphical Representation of Confusion Matrix:"
   ]
  },
  {
   "cell_type": "code",
   "execution_count": null,
   "metadata": {
    "colab": {
     "base_uri": "https://localhost:8080/",
     "height": 428
    },
    "id": "YEd4uLTCqBll",
    "outputId": "75d562ff-5e55-4d55-8971-3e9b6dac3b51"
   },
   "outputs": [],
   "source": [
    "plt.figure(figsize=(10,7))\n",
    "sns.heatmap(confusion_mat,annot=True,linewidth=3.5,linecolor='blue')\n",
    "plt.show()"
   ]
  },
  {
   "cell_type": "markdown",
   "metadata": {
    "id": "opwG0eJcqDtF"
   },
   "source": [
    "1.a).3. Sensitivity and Specificity:"
   ]
  },
  {
   "cell_type": "code",
   "execution_count": null,
   "metadata": {
    "colab": {
     "base_uri": "https://localhost:8080/"
    },
    "id": "0YjrrvD7qFJT",
    "outputId": "e1682c5a-49da-4c41-8541-7b9defcf6d5c"
   },
   "outputs": [],
   "source": [
    "Sensitivity_Logistic=(tp/(tp+fn))\n",
    "print('Sensitivity of the Logistic Regression Model: ')\n",
    "print('---------------------------------------------','\\n')\n",
    "print(Sensitivity_Logistic)\n",
    "print('\\n')\n",
    "Specificity_Logistic=(tn/(tn+fp))\n",
    "print('Specificity of the Logistic Regression Model: ')\n",
    "print('---------------------------------------------','\\n')\n",
    "print(Specificity_Logistic)"
   ]
  },
  {
   "cell_type": "code",
   "execution_count": null,
   "metadata": {
    "colab": {
     "base_uri": "https://localhost:8080/"
    },
    "id": "Wxg-I_J4qGeE",
    "outputId": "a6ef8f3f-b308-4db9-8869-063236de6433"
   },
   "outputs": [],
   "source": [
    "print('The Accuracy score of the test data for Logistic Regression model : ')\n",
    "print(accuracy_score(y_test,ypred_lr_test),'\\n')\n",
    "print('The Accuracy score of the train data for Logistic Regression model : ')\n",
    "print(accuracy_score(y_train,ypred_lr_train))"
   ]
  },
  {
   "cell_type": "code",
   "execution_count": null,
   "metadata": {
    "colab": {
     "base_uri": "https://localhost:8080/"
    },
    "id": "CGuwCaQVqHfx",
    "outputId": "6f77a8e6-bf43-4c63-89cb-693b224970ef"
   },
   "outputs": [],
   "source": [
    "# Computing the classification report:\n",
    "\n",
    "logistic_report=classification_report(y_test,ypred_lr_test)\n",
    "print('Logit model classification report: ')\n",
    "print('------------------------------------','\\n')\n",
    "print(logistic_report)"
   ]
  },
  {
   "cell_type": "markdown",
   "metadata": {
    "id": "d4rWqdwFqI_n"
   },
   "source": [
    "1.a).6. ROC Curve for Logistic Regression Model:"
   ]
  },
  {
   "cell_type": "code",
   "execution_count": null,
   "metadata": {
    "colab": {
     "base_uri": "https://localhost:8080/",
     "height": 513
    },
    "id": "WpeeThMAqJqw",
    "outputId": "b4c08c57-42e1-4fd9-e50f-bc9d5631e399"
   },
   "outputs": [],
   "source": [
    "fpr,tpr,th=roc_curve(y_test,ypred_lr_probability)\n",
    "plt.figure(figsize=(10,8))\n",
    "plt.plot(fpr,tpr,color='green')\n",
    "plt.xlim([-0.05,1.05])\n",
    "plt.ylim([-0.05,1.05])\n",
    "plt.xlabel('FPR (1-Specificity)')\n",
    "plt.ylabel('TPR (Sensitivity)')\n",
    "plt.title('ROC curve for Logistic Regression Model')\n",
    "plt.grid()\n",
    "plt.plot([-0.05,1.05],[-0.05,1.05],'r--',linewidth=2)\n",
    "plt.show()"
   ]
  },
  {
   "cell_type": "markdown",
   "metadata": {
    "id": "3aMn6NIsqLS-"
   },
   "source": [
    "1.a).7. ROC AUC Score:"
   ]
  },
  {
   "cell_type": "code",
   "execution_count": null,
   "metadata": {
    "colab": {
     "base_uri": "https://localhost:8080/"
    },
    "id": "0rElGjerqMHA",
    "outputId": "bd72d251-ef84-4dd4-f21f-ebb7558f32b0"
   },
   "outputs": [],
   "source": [
    "print('The ROC AUC score of the Logistic Regression model: ')\n",
    "print('--------------------------------------------------- ','\\n')\n",
    "print('ROC AUC : ',roc_auc_score(y_test,ypred_lr_probability))"
   ]
  },
  {
   "cell_type": "markdown",
   "metadata": {
    "id": "J8mfABmFqNMj"
   },
   "source": [
    "1.a).8. Cross Entropy:"
   ]
  },
  {
   "cell_type": "code",
   "execution_count": null,
   "metadata": {
    "colab": {
     "base_uri": "https://localhost:8080/"
    },
    "id": "v1aGLo7KqN7r",
    "outputId": "bfd5aa7d-20a6-450d-872a-db4155dad597"
   },
   "outputs": [],
   "source": [
    "cross_entropy=log_loss(y_test,ypred_lr_test)\n",
    "print('The Cross Entropy score of the Logistic Regression model ')\n",
    "print('--------------------------------------------------- ','\\n')\n",
    "print('Cross Entropy : ',cross_entropy)"
   ]
  },
  {
   "cell_type": "markdown",
   "metadata": {
    "id": "AFEyoxbsqRjo"
   },
   "source": [
    "1.b) Inferences for Logistic Regression Model:\n",
    "Cross Entropy for the Logistic Regression Model is 3.06\n",
    "ROC AUC Score for the Logistic Regression Model is 73.32\n",
    "The Model Accuracy for the Logistic Regression Model is coming out to be around 92%.\n",
    "f1 weighted avg for the Logistic Regression Model is around 91%.\n",
    "Specificity : 99.16%\n",
    "Sensitivity : 40.07%\n",
    "2. K-Nearest Neighbors Classification Model using Scikit-learn:"
   ]
  },
  {
   "cell_type": "code",
   "execution_count": null,
   "metadata": {
    "id": "6aWmFl0YqS2-"
   },
   "outputs": [],
   "source": [
    "# Classification Model using sklearn:\n",
    "knn_algorithm=KNeighborsClassifier()\n",
    "knn_model=knn_algorithm.fit(X_train,y_train)\n",
    "ypred_knn_test=knn_model.predict(X_test)\n",
    "ypred_knn_train=knn_model.predict(X_train)\n",
    "ypred_probability_knn=knn_model.predict_proba(X_test)[:,1]"
   ]
  },
  {
   "cell_type": "markdown",
   "metadata": {
    "id": "IndMWUbbqUSu"
   },
   "source": [
    "2.a) Model Performance Evaluation:\n",
    "2.a).1. Confusion Matrix for K-Nearest Neighbors Model:"
   ]
  },
  {
   "cell_type": "code",
   "execution_count": null,
   "metadata": {
    "colab": {
     "base_uri": "https://localhost:8080/"
    },
    "id": "BdCyzdD5qVMe",
    "outputId": "0a54b0d1-5053-48e9-855d-8417ac6ea525"
   },
   "outputs": [],
   "source": [
    "# Computing the Confusion matrix:\n",
    "\n",
    "knn_confusion_mat=confusion_matrix(y_test,ypred_knn_test)\n",
    "tn = knn_confusion_mat[0,0]\n",
    "tp = knn_confusion_mat[1,1]\n",
    "fp = knn_confusion_mat[0,1]\n",
    "fn = knn_confusion_mat[1,0]\n",
    "print('Confusion Matrix for K-Nearest Neighbors Model : ')\n",
    "print('------------------------------------------------','\\n')\n",
    "print(knn_confusion_mat)"
   ]
  },
  {
   "cell_type": "markdown",
   "metadata": {
    "id": "_0wlKuMRqoMg"
   },
   "source": [
    "2.a).2. Graphical Representation of Confusion Matrix:"
   ]
  },
  {
   "cell_type": "code",
   "execution_count": null,
   "metadata": {
    "colab": {
     "base_uri": "https://localhost:8080/",
     "height": 428
    },
    "id": "NNTsA4Jgqo92",
    "outputId": "2c3eb7e1-4c8e-4a26-af7e-ad9067a7cd6c"
   },
   "outputs": [],
   "source": [
    "plt.figure(figsize=(10,7))\n",
    "sns.heatmap(knn_confusion_mat,annot=True,linewidth=3.5,linecolor='blue')\n",
    "plt.show()"
   ]
  },
  {
   "cell_type": "markdown",
   "metadata": {
    "id": "F8r2PeybqvKy"
   },
   "source": [
    "2.a).3. Sensitivity and Specificity:"
   ]
  },
  {
   "cell_type": "code",
   "execution_count": null,
   "metadata": {
    "colab": {
     "base_uri": "https://localhost:8080/"
    },
    "id": "CkpyPXTcqwIa",
    "outputId": "0a580b5d-fd3b-42f0-903a-4f2370469f2d"
   },
   "outputs": [],
   "source": [
    "Sensitivity_KNN=(tp/(tp+fn))\n",
    "print('Sensitivity of the KNN Model: ')\n",
    "print('---------------------------------------------','\\n')\n",
    "print(Sensitivity_KNN)\n",
    "print('\\n')\n",
    "Specificity_KNN=(tn/(tn+fp))\n",
    "print('Specificity of the KNN Model: ')\n",
    "print('---------------------------------------------','\\n')\n",
    "print(Specificity_KNN)"
   ]
  },
  {
   "cell_type": "markdown",
   "metadata": {
    "id": "13IpuUj5qz6b"
   },
   "source": [
    "2.a).4. Accuracy Analysis"
   ]
  },
  {
   "cell_type": "code",
   "execution_count": null,
   "metadata": {
    "colab": {
     "base_uri": "https://localhost:8080/"
    },
    "id": "y-EI9E25q1X7",
    "outputId": "b732757f-e64d-4b1c-be44-a0a6019212ea"
   },
   "outputs": [],
   "source": [
    "print('The Accuracy score of the test data for K-Nearest Neighbors Model : ')\n",
    "print(accuracy_score(y_test,ypred_knn_test),'\\n')\n",
    "print('The Accuracy score of the train data for K-Nearest Neighbors Model : ')\n",
    "print(accuracy_score(y_train,ypred_knn_train))"
   ]
  },
  {
   "cell_type": "markdown",
   "metadata": {
    "id": "2PonnyVJq2nD"
   },
   "source": [
    "2.a).5. K-Nearest Neighbors Model classification report:"
   ]
  },
  {
   "cell_type": "code",
   "execution_count": null,
   "metadata": {
    "colab": {
     "base_uri": "https://localhost:8080/"
    },
    "id": "HNyWddonq3bP",
    "outputId": "30a9c1ab-8053-4976-86f3-3459fda3bc1a"
   },
   "outputs": [],
   "source": [
    "# Computing the classification report:\n",
    "\n",
    "knn_report=classification_report(y_test,ypred_knn_test)\n",
    "print('K-Nearest Neighbors Model classification report: ')\n",
    "print('------------------------------------------------','\\n')\n",
    "print(knn_report)"
   ]
  },
  {
   "cell_type": "markdown",
   "metadata": {
    "id": "graz2rRfq5AW"
   },
   "source": [
    "2.a).6. ROC Curve for K-Nearest Neighbors Model:¶"
   ]
  },
  {
   "cell_type": "code",
   "execution_count": null,
   "metadata": {
    "colab": {
     "base_uri": "https://localhost:8080/",
     "height": 513
    },
    "id": "BsTvByuPq5-8",
    "outputId": "d9734665-8bd2-40b3-af39-918bd3e66fdf"
   },
   "outputs": [],
   "source": [
    "fpr,tpr,th=roc_curve(y_test,ypred_probability_knn)\n",
    "plt.figure(figsize=(10,8))\n",
    "plt.plot(fpr,tpr,color='blue')\n",
    "plt.xlim([-0.05,1.05])\n",
    "plt.ylim([-0.05,1.05])\n",
    "plt.xlabel('FPR (1-Specificity)')\n",
    "plt.ylabel('TPR (Sensitivity)')\n",
    "plt.title('ROC curve for K-Nearest Neighbors Model')\n",
    "plt.grid()\n",
    "plt.plot([-0.05,1.05],[-0.05,1.05],'r--',linewidth=2)\n",
    "plt.show()"
   ]
  },
  {
   "cell_type": "markdown",
   "metadata": {
    "id": "Jm6pZoy8q7Fw"
   },
   "source": [
    "2.a).7. ROC AUC Score:¶"
   ]
  },
  {
   "cell_type": "code",
   "execution_count": null,
   "metadata": {
    "colab": {
     "base_uri": "https://localhost:8080/"
    },
    "id": "YssADdiuq7_1",
    "outputId": "710fd3b3-2293-4ab1-e97b-1d834b62f928"
   },
   "outputs": [],
   "source": [
    "print('The ROC AUC score of the K-Nearest Neighbors Model ')\n",
    "print('--------------------------------------------------','\\n')\n",
    "print('ROC AUC : ',roc_auc_score(y_test,ypred_probability_knn))"
   ]
  },
  {
   "cell_type": "markdown",
   "metadata": {
    "id": "843ga-SEq-IK"
   },
   "source": [
    "2.a).8. Cross Entropy:"
   ]
  },
  {
   "cell_type": "code",
   "execution_count": null,
   "metadata": {
    "colab": {
     "base_uri": "https://localhost:8080/"
    },
    "id": "2okydoNaq-3F",
    "outputId": "d2a5abac-94eb-4779-f47a-b8019fc09c0b"
   },
   "outputs": [],
   "source": [
    "cross_entropy=log_loss(y_test,ypred_knn_test)\n",
    "print('The Cross Entropy score of K-Nearest Neighbors Model ')\n",
    "print('----------------------------------------------------','\\n')\n",
    "print('Cross Entropy : ',cross_entropy)"
   ]
  },
  {
   "cell_type": "markdown",
   "metadata": {
    "id": "LEklyq37rBDY"
   },
   "source": [
    "2.b) Inferences for K-Nearest Neighbors Classification Model:\n",
    "Cross Entropy for K-Nearest Neighbors Model is 3.13\n",
    "ROC AUC Score for the K-Nearest Neighbors Model is 65.92\n",
    "The Model Accuracy for the K-Nearest Neighbors Model is coming out to be around 91%.\n",
    "f1 weighted avg for the K-Nearest Neighbors Model is around 91%.\n",
    "Specificity : 98%\n",
    "Sensitivity : 34.19%\n"
   ]
  },
  {
   "cell_type": "markdown",
   "metadata": {
    "id": "uwgVKvsErA5N"
   },
   "source": [
    "3. Decision Tree Classification Model using Scikit-learn:"
   ]
  },
  {
   "cell_type": "code",
   "execution_count": null,
   "metadata": {
    "id": "9LDteuXFq-9Z"
   },
   "outputs": [],
   "source": [
    "# Classification Model using sklearn:\n",
    "dt=DecisionTreeClassifier()\n",
    "dt.fit(X_train,y_train)\n",
    "y_pred_test_dt=dt.predict(X_test)\n",
    "y_pred_train_dt=dt.predict(X_train)\n",
    "y_test_prob_dt=dt.predict_proba(X_test)[:,1]"
   ]
  },
  {
   "cell_type": "markdown",
   "metadata": {
    "id": "UU-S5R6HrEl_"
   },
   "source": [
    "3.a) Model Performance Evaluation:\n",
    "3.a).1. Confusion Matrix for Decision Tree classification:¶"
   ]
  },
  {
   "cell_type": "code",
   "execution_count": null,
   "metadata": {
    "colab": {
     "base_uri": "https://localhost:8080/"
    },
    "id": "UGEOrNCsrFZy",
    "outputId": "a9f14eaf-2b98-4c35-ceb2-8dd4b3a69a83"
   },
   "outputs": [],
   "source": [
    "# Computing the Confusion matrix:\n",
    "\n",
    "dt_confusion_mat=confusion_matrix(y_test,y_pred_test_dt)\n",
    "tn = dt_confusion_mat[0,0]\n",
    "tp = dt_confusion_mat[1,1]\n",
    "fp = dt_confusion_mat[0,1]\n",
    "fn = dt_confusion_mat[1,0]\n",
    "print('Confusion Matrix for Decision Tree Model : ')\n",
    "print('------------------------------------------------','\\n')\n",
    "print(dt_confusion_mat)"
   ]
  },
  {
   "cell_type": "markdown",
   "metadata": {
    "id": "eRTqMfN6rH7O"
   },
   "source": [
    "3.a).2. Graphical Representation of Confusion Matrix:"
   ]
  },
  {
   "cell_type": "code",
   "execution_count": null,
   "metadata": {
    "colab": {
     "base_uri": "https://localhost:8080/",
     "height": 428
    },
    "id": "bON6hWz0rI73",
    "outputId": "095bd689-7e5c-4dd8-d1b6-5c788f8e7765"
   },
   "outputs": [],
   "source": [
    "plt.figure(figsize=(10,7))\n",
    "sns.heatmap(dt_confusion_mat,annot=True,linewidth=3.5,linecolor='blue')\n",
    "plt.show()"
   ]
  },
  {
   "cell_type": "markdown",
   "metadata": {
    "id": "VhU7CaN2rKUj"
   },
   "source": [
    "3.a).3. Sensitivity and Specificity:\n"
   ]
  },
  {
   "cell_type": "code",
   "execution_count": null,
   "metadata": {
    "colab": {
     "base_uri": "https://localhost:8080/"
    },
    "id": "E9Gv8JdYrLjH",
    "outputId": "2a122392-4334-4e7f-b8ac-81026060b421"
   },
   "outputs": [],
   "source": [
    "Sensitivity_Decision_tree=(tp/(tp+fn))\n",
    "print('Sensitivity of the Decision Tree Model: ')\n",
    "print('---------------------------------------------','\\n')\n",
    "print(Sensitivity_Decision_tree)\n",
    "print('\\n')\n",
    "Specificity_Decision_tree=(tn/(tn+fp))\n",
    "print('Specificity of the Decision Tree Model: ')\n",
    "print('---------------------------------------------','\\n')\n",
    "print(Specificity_Decision_tree)"
   ]
  },
  {
   "cell_type": "markdown",
   "metadata": {
    "id": "JNgQoGtxrQ1v"
   },
   "source": [
    "3.a).4. Accuracy Analysis:"
   ]
  },
  {
   "cell_type": "code",
   "execution_count": null,
   "metadata": {
    "colab": {
     "base_uri": "https://localhost:8080/"
    },
    "id": "ue0NvJ5xrM0L",
    "outputId": "fd5ca2cd-fa77-4b61-8818-0c3a080afc68"
   },
   "outputs": [],
   "source": [
    "print('The Accuracy score of test data for the Decision Tree Model: ')\n",
    "print(accuracy_score(y_test,y_pred_test_dt),'\\n')\n",
    "print('The Accuracy score of the train data for the Decision Tree Model: ')\n",
    "print(accuracy_score(y_train,y_pred_train_dt))"
   ]
  },
  {
   "cell_type": "markdown",
   "metadata": {
    "id": "91NZ5H8jrPAL"
   },
   "source": [
    "3.a).5. Decision Tree Model classification report:"
   ]
  },
  {
   "cell_type": "code",
   "execution_count": null,
   "metadata": {
    "colab": {
     "base_uri": "https://localhost:8080/"
    },
    "id": "9hP0zXe2rNut",
    "outputId": "9bec10ef-f4ea-49d8-bf11-c8ebdb8d8cf6"
   },
   "outputs": [],
   "source": [
    "# Computing the classification report:\n",
    "\n",
    "dt_report=classification_report(y_test,y_pred_test_dt)\n",
    "print('Decision Tree Model classification report: ')\n",
    "print('-----------------------------------------','\\n')\n",
    "print(dt_report)"
   ]
  },
  {
   "cell_type": "markdown",
   "metadata": {
    "id": "5QD5X3I9rdw3"
   },
   "source": [
    "3.a).6. ROC Curve for Decision Tree Model:"
   ]
  },
  {
   "cell_type": "code",
   "execution_count": null,
   "metadata": {
    "colab": {
     "base_uri": "https://localhost:8080/",
     "height": 513
    },
    "id": "LX29kAW-rejw",
    "outputId": "184b6bd9-477f-46a0-8d89-e75af44c4d8d"
   },
   "outputs": [],
   "source": [
    "fpr,tpr,th=roc_curve(y_test,y_test_prob_dt)\n",
    "plt.figure(figsize=(10,8))\n",
    "plt.plot(fpr,tpr,color='grey')\n",
    "plt.xlim([-0.05,1.05])\n",
    "plt.ylim([-0.05,1.05])\n",
    "plt.xlabel('FPR (1-Specificity)')\n",
    "plt.ylabel('TPR (Sensitivity)')\n",
    "plt.title('ROC curve for Decision Tree Model')\n",
    "plt.grid()\n",
    "plt.plot([-0.05,1.05],[-0.05,1.05],'r--',linewidth=2)\n",
    "plt.show()"
   ]
  },
  {
   "cell_type": "markdown",
   "metadata": {
    "id": "RohX5lfargEi"
   },
   "source": [
    "3.a).7. ROC AUC Score:"
   ]
  },
  {
   "cell_type": "code",
   "execution_count": null,
   "metadata": {
    "colab": {
     "base_uri": "https://localhost:8080/"
    },
    "id": "Uo-5dPlUrhBX",
    "outputId": "2cd024f9-1fda-4c63-9952-9790fe09f795"
   },
   "outputs": [],
   "source": [
    "print('The ROC AUC score of the Decision Tree Model ')\n",
    "print('--------------------------------------------------','\\n')\n",
    "print('ROC AUC : ',roc_auc_score(y_test,y_test_prob_dt))"
   ]
  },
  {
   "cell_type": "markdown",
   "metadata": {
    "id": "CkUWRlwQriFU"
   },
   "source": [
    "3.a).7. Cross Entropy:"
   ]
  },
  {
   "cell_type": "code",
   "execution_count": null,
   "metadata": {
    "colab": {
     "base_uri": "https://localhost:8080/"
    },
    "id": "mZcr6H7lrivu",
    "outputId": "f6073993-2de8-4e25-b6e5-205d1ee12c9d"
   },
   "outputs": [],
   "source": [
    "cross_entropy=log_loss(y_test,y_pred_test_dt)\n",
    "print('The Cross Entropy score of Decision Tree Model ')\n",
    "print('----------------------------------------------------','\\n')\n",
    "print('Cross Entropy : ',cross_entropy)"
   ]
  },
  {
   "cell_type": "markdown",
   "metadata": {
    "id": "Vlh-a_wyrjv8"
   },
   "source": [
    "3.b) Inferences for Decision Tree Classification Model:\n",
    "The Cross entropy for the Decision Tree model is 4.31\n",
    "ROC AUC Score for the Decision Tree Model is 63.26\n",
    "The Model Accuracy for the Decision Tree Model is coming out to be around 87%.\n",
    "f1 weighted avg for the Decision Tree Model is around 88%.\n",
    "Specificity : 92.41%\n",
    "Sensitivity : 34.19%"
   ]
  },
  {
   "cell_type": "markdown",
   "metadata": {
    "id": "2dssFrJIrk8i"
   },
   "source": [
    "Tabular representation of derived Inferences:\n",
    "Model Comparison:"
   ]
  },
  {
   "cell_type": "code",
   "execution_count": null,
   "metadata": {
    "id": "ZRBg5nZKrl6P"
   },
   "outputs": [],
   "source": [
    "# Initializing the structure of the table:\n",
    "\n",
    "columns=['Overall Accuracy Score','Accuracy for train data','Accuracy for test data','Specificity',\n",
    "         'Sensitivity','f1 score weighted avg','ROC AUC Score','Cross Entropy']\n",
    "indexes=['Logistic Regresion Model','K-Nearest Neighbors Model','Descision Tree Model']"
   ]
  },
  {
   "cell_type": "code",
   "execution_count": null,
   "metadata": {
    "colab": {
     "base_uri": "https://localhost:8080/",
     "height": 144
    },
    "id": "UTPiGHZFrm7F",
    "outputId": "72caa75c-2a61-4b58-e98e-4f4d7058db69"
   },
   "outputs": [],
   "source": [
    "# Creating a Dataframe for compariosn of Models:\n",
    "model_data=pd.DataFrame(columns=columns,index=indexes)\n",
    "\n",
    "# Inserting observed readings to the data fields:\n",
    "model_data['Overall Accuracy Score']=['91%','91%','88%']\n",
    "model_data['Accuracy for train data']=['91.29%','92.23%','99.95%']\n",
    "model_data['Accuracy for test data']=['90.91%','90.91%','87.50%']\n",
    "model_data['Specificity']=['99.16%','98.53%','92.41%']\n",
    "model_data['Sensitivity']=['40.07%','34.19%','34.19%']\n",
    "model_data['f1 score weighted avg']=['88%','88%','88%']\n",
    "model_data['ROC AUC Score']=[73.32,65.92,63.26]\n",
    "model_data['Cross Entropy']=[3.06,3.13,4.31]\n",
    "model_data"
   ]
  },
  {
   "cell_type": "markdown",
   "metadata": {
    "id": "THzQO_QgroOR"
   },
   "source": [
    "Inferences based on model comparison:\n",
    "1. Overall Accuracy Score:"
   ]
  },
  {
   "cell_type": "markdown",
   "metadata": {
    "id": "yYMNLAfpumhJ"
   },
   "source": [
    "1. Logistic Regression Model has the highest overall accuracy of about 91%.\n",
    "\n",
    "2. Decision Tree Model yeilds the lowest overall model accuracy of about 88%."
   ]
  },
  {
   "cell_type": "markdown",
   "metadata": {
    "id": "v5D50eVJrx8B"
   },
   "source": [
    "2. Overfitting/Underfitting:\n",
    "\n",
    "1. All the classification models exhibit overfitting of the trained data with respect to the test data.\n",
    "\n",
    "2. The model accuracy for train data and test data for both Logistic Regression Model and K-Nearest Neighbors Model has very less overfitting.\n",
    "\n",
    "3. As observed,the model accuracy for train data and test data for the      Decision Tree Model has a considerably high difference in accuracies which can be considered a high overfitting condition in comparison to other models."
   ]
  },
  {
   "cell_type": "markdown",
   "metadata": {
    "id": "ohs0D2EJr0gx"
   },
   "source": [
    "3. f1 score weighted avg:\n",
    "1. The Logistic Regression Model has the highest weighted harmonic mean between precison and recall of about 88% based on the classification report.\n",
    "\n",
    "2. Both K-Nearest Neighbors Model and Descision Tree Model have nearly similar weighted harmonic mean between precison and recall of about 88%.\n",
    "\n",
    "3. We can further look at the recall values of the positive class and negative class to get more insights on the specificity and sensitivity."
   ]
  },
  {
   "cell_type": "markdown",
   "metadata": {
    "id": "BdlxMF2Tr1wA"
   },
   "source": [
    "4. Sensitivity and Specificity:\n",
    "1. Logistic Regression Model :\n",
    "  * Specificity = 99.16%\n",
    "  * Sensitivity = 40.07% \n",
    "\n",
    "2. K-Nearest Neigbors Model :\n",
    "  * Specificity = 98.53%\n",
    "  * Sensitivity = 34.19% \n",
    "\n",
    "3. Decision Tree Model :\n",
    "  * Specificity = 92.41%\n",
    "  * Sensitivity = 34.19% "
   ]
  },
  {
   "cell_type": "markdown",
   "metadata": {
    "id": "jp0wyCiUr27Z"
   },
   "source": [
    "5. ROC AUC Score:\n",
    "1. The Logistic Regression Model has the maximum area under the ROC curve with a ROC AUC Score of 73.32.\n",
    "\n",
    "2. The Decision Tree Model has the minimum area under the ROC curve with a ROC AUC Score of 63.26."
   ]
  },
  {
   "cell_type": "markdown",
   "metadata": {
    "id": "4rna9Afqr38V"
   },
   "source": [
    "6. Cross Entropy:\n",
    "1. Minimum Cross Entropy score for Logistic Regression model : \n",
    "H_logistic(y) = 3.06\n",
    "\n",
    "2. Maximum Cross Entropy score for Decision Tree Model : \n",
    "H_Decisiontree(y) = 4.31"
   ]
  }
 ],
 "metadata": {
  "accelerator": "GPU",
  "colab": {
   "provenance": []
  },
  "gpuClass": "standard",
  "kernelspec": {
   "display_name": "Python 3 (ipykernel)",
   "language": "python",
   "name": "python3"
  },
  "language_info": {
   "codemirror_mode": {
    "name": "ipython",
    "version": 3
   },
   "file_extension": ".py",
   "mimetype": "text/x-python",
   "name": "python",
   "nbconvert_exporter": "python",
   "pygments_lexer": "ipython3",
   "version": "3.9.13"
  },
  "widgets": {
   "application/vnd.jupyter.widget-state+json": {
    "01c643d8d908498bbb39e85bf900c79f": {
     "model_module": "@jupyter-widgets/controls",
     "model_module_version": "1.5.0",
     "model_name": "HTMLModel",
     "state": {
      "_dom_classes": [],
      "_model_module": "@jupyter-widgets/controls",
      "_model_module_version": "1.5.0",
      "_model_name": "HTMLModel",
      "_view_count": null,
      "_view_module": "@jupyter-widgets/controls",
      "_view_module_version": "1.5.0",
      "_view_name": "HTMLView",
      "description": "",
      "description_tooltip": null,
      "layout": "IPY_MODEL_8bc9cc43376d4bfea8e0521c9ea6c458",
      "placeholder": "​",
      "style": "IPY_MODEL_08c64f3c505e4eee9fb003707e8b36eb",
      "value": " 45/100 [4:15:41&lt;5:16:54, 345.71s/it]"
     }
    },
    "08c64f3c505e4eee9fb003707e8b36eb": {
     "model_module": "@jupyter-widgets/controls",
     "model_module_version": "1.5.0",
     "model_name": "DescriptionStyleModel",
     "state": {
      "_model_module": "@jupyter-widgets/controls",
      "_model_module_version": "1.5.0",
      "_model_name": "DescriptionStyleModel",
      "_view_count": null,
      "_view_module": "@jupyter-widgets/base",
      "_view_module_version": "1.2.0",
      "_view_name": "StyleView",
      "description_width": ""
     }
    },
    "20ef69e19bcb4f06bff1a46134da87cc": {
     "model_module": "@jupyter-widgets/controls",
     "model_module_version": "1.5.0",
     "model_name": "FloatProgressModel",
     "state": {
      "_dom_classes": [],
      "_model_module": "@jupyter-widgets/controls",
      "_model_module_version": "1.5.0",
      "_model_name": "FloatProgressModel",
      "_view_count": null,
      "_view_module": "@jupyter-widgets/controls",
      "_view_module_version": "1.5.0",
      "_view_name": "ProgressView",
      "bar_style": "",
      "description": "",
      "description_tooltip": null,
      "layout": "IPY_MODEL_c5b060e3ebe8495fabf7e535dc68a27c",
      "max": 100,
      "min": 0,
      "orientation": "horizontal",
      "style": "IPY_MODEL_f7ccec92f5704738be769ca7679d16d3",
      "value": 45
     }
    },
    "2de7b5a8fbdf4f05b7ad433b6c7790b3": {
     "model_module": "@jupyter-widgets/base",
     "model_module_version": "1.2.0",
     "model_name": "LayoutModel",
     "state": {
      "_model_module": "@jupyter-widgets/base",
      "_model_module_version": "1.2.0",
      "_model_name": "LayoutModel",
      "_view_count": null,
      "_view_module": "@jupyter-widgets/base",
      "_view_module_version": "1.2.0",
      "_view_name": "LayoutView",
      "align_content": null,
      "align_items": null,
      "align_self": null,
      "border": null,
      "bottom": null,
      "display": null,
      "flex": null,
      "flex_flow": null,
      "grid_area": null,
      "grid_auto_columns": null,
      "grid_auto_flow": null,
      "grid_auto_rows": null,
      "grid_column": null,
      "grid_gap": null,
      "grid_row": null,
      "grid_template_areas": null,
      "grid_template_columns": null,
      "grid_template_rows": null,
      "height": null,
      "justify_content": null,
      "justify_items": null,
      "left": null,
      "margin": null,
      "max_height": null,
      "max_width": null,
      "min_height": null,
      "min_width": null,
      "object_fit": null,
      "object_position": null,
      "order": null,
      "overflow": null,
      "overflow_x": null,
      "overflow_y": null,
      "padding": null,
      "right": null,
      "top": null,
      "visibility": null,
      "width": null
     }
    },
    "333e53ee7cb24278ae006f8f05879334": {
     "model_module": "@jupyter-widgets/controls",
     "model_module_version": "1.5.0",
     "model_name": "HBoxModel",
     "state": {
      "_dom_classes": [],
      "_model_module": "@jupyter-widgets/controls",
      "_model_module_version": "1.5.0",
      "_model_name": "HBoxModel",
      "_view_count": null,
      "_view_module": "@jupyter-widgets/controls",
      "_view_module_version": "1.5.0",
      "_view_name": "HBoxView",
      "box_style": "",
      "children": [
       "IPY_MODEL_7f3af56955044521a47e7bb82a4ed05b",
       "IPY_MODEL_20ef69e19bcb4f06bff1a46134da87cc",
       "IPY_MODEL_01c643d8d908498bbb39e85bf900c79f"
      ],
      "layout": "IPY_MODEL_2de7b5a8fbdf4f05b7ad433b6c7790b3"
     }
    },
    "7f3af56955044521a47e7bb82a4ed05b": {
     "model_module": "@jupyter-widgets/controls",
     "model_module_version": "1.5.0",
     "model_name": "HTMLModel",
     "state": {
      "_dom_classes": [],
      "_model_module": "@jupyter-widgets/controls",
      "_model_module_version": "1.5.0",
      "_model_name": "HTMLModel",
      "_view_count": null,
      "_view_module": "@jupyter-widgets/controls",
      "_view_module_version": "1.5.0",
      "_view_name": "HTMLView",
      "description": "",
      "description_tooltip": null,
      "layout": "IPY_MODEL_842a4b7209c647e18ec1e91f4646dfb0",
      "placeholder": "​",
      "style": "IPY_MODEL_b25a23c0997741d4b1ca9a0514e287c4",
      "value": " 45%"
     }
    },
    "842a4b7209c647e18ec1e91f4646dfb0": {
     "model_module": "@jupyter-widgets/base",
     "model_module_version": "1.2.0",
     "model_name": "LayoutModel",
     "state": {
      "_model_module": "@jupyter-widgets/base",
      "_model_module_version": "1.2.0",
      "_model_name": "LayoutModel",
      "_view_count": null,
      "_view_module": "@jupyter-widgets/base",
      "_view_module_version": "1.2.0",
      "_view_name": "LayoutView",
      "align_content": null,
      "align_items": null,
      "align_self": null,
      "border": null,
      "bottom": null,
      "display": null,
      "flex": null,
      "flex_flow": null,
      "grid_area": null,
      "grid_auto_columns": null,
      "grid_auto_flow": null,
      "grid_auto_rows": null,
      "grid_column": null,
      "grid_gap": null,
      "grid_row": null,
      "grid_template_areas": null,
      "grid_template_columns": null,
      "grid_template_rows": null,
      "height": null,
      "justify_content": null,
      "justify_items": null,
      "left": null,
      "margin": null,
      "max_height": null,
      "max_width": null,
      "min_height": null,
      "min_width": null,
      "object_fit": null,
      "object_position": null,
      "order": null,
      "overflow": null,
      "overflow_x": null,
      "overflow_y": null,
      "padding": null,
      "right": null,
      "top": null,
      "visibility": null,
      "width": null
     }
    },
    "8bc9cc43376d4bfea8e0521c9ea6c458": {
     "model_module": "@jupyter-widgets/base",
     "model_module_version": "1.2.0",
     "model_name": "LayoutModel",
     "state": {
      "_model_module": "@jupyter-widgets/base",
      "_model_module_version": "1.2.0",
      "_model_name": "LayoutModel",
      "_view_count": null,
      "_view_module": "@jupyter-widgets/base",
      "_view_module_version": "1.2.0",
      "_view_name": "LayoutView",
      "align_content": null,
      "align_items": null,
      "align_self": null,
      "border": null,
      "bottom": null,
      "display": null,
      "flex": null,
      "flex_flow": null,
      "grid_area": null,
      "grid_auto_columns": null,
      "grid_auto_flow": null,
      "grid_auto_rows": null,
      "grid_column": null,
      "grid_gap": null,
      "grid_row": null,
      "grid_template_areas": null,
      "grid_template_columns": null,
      "grid_template_rows": null,
      "height": null,
      "justify_content": null,
      "justify_items": null,
      "left": null,
      "margin": null,
      "max_height": null,
      "max_width": null,
      "min_height": null,
      "min_width": null,
      "object_fit": null,
      "object_position": null,
      "order": null,
      "overflow": null,
      "overflow_x": null,
      "overflow_y": null,
      "padding": null,
      "right": null,
      "top": null,
      "visibility": null,
      "width": null
     }
    },
    "b25a23c0997741d4b1ca9a0514e287c4": {
     "model_module": "@jupyter-widgets/controls",
     "model_module_version": "1.5.0",
     "model_name": "DescriptionStyleModel",
     "state": {
      "_model_module": "@jupyter-widgets/controls",
      "_model_module_version": "1.5.0",
      "_model_name": "DescriptionStyleModel",
      "_view_count": null,
      "_view_module": "@jupyter-widgets/base",
      "_view_module_version": "1.2.0",
      "_view_name": "StyleView",
      "description_width": ""
     }
    },
    "c5b060e3ebe8495fabf7e535dc68a27c": {
     "model_module": "@jupyter-widgets/base",
     "model_module_version": "1.2.0",
     "model_name": "LayoutModel",
     "state": {
      "_model_module": "@jupyter-widgets/base",
      "_model_module_version": "1.2.0",
      "_model_name": "LayoutModel",
      "_view_count": null,
      "_view_module": "@jupyter-widgets/base",
      "_view_module_version": "1.2.0",
      "_view_name": "LayoutView",
      "align_content": null,
      "align_items": null,
      "align_self": null,
      "border": null,
      "bottom": null,
      "display": null,
      "flex": null,
      "flex_flow": null,
      "grid_area": null,
      "grid_auto_columns": null,
      "grid_auto_flow": null,
      "grid_auto_rows": null,
      "grid_column": null,
      "grid_gap": null,
      "grid_row": null,
      "grid_template_areas": null,
      "grid_template_columns": null,
      "grid_template_rows": null,
      "height": null,
      "justify_content": null,
      "justify_items": null,
      "left": null,
      "margin": null,
      "max_height": null,
      "max_width": null,
      "min_height": null,
      "min_width": null,
      "object_fit": null,
      "object_position": null,
      "order": null,
      "overflow": null,
      "overflow_x": null,
      "overflow_y": null,
      "padding": null,
      "right": null,
      "top": null,
      "visibility": null,
      "width": null
     }
    },
    "f7ccec92f5704738be769ca7679d16d3": {
     "model_module": "@jupyter-widgets/controls",
     "model_module_version": "1.5.0",
     "model_name": "ProgressStyleModel",
     "state": {
      "_model_module": "@jupyter-widgets/controls",
      "_model_module_version": "1.5.0",
      "_model_name": "ProgressStyleModel",
      "_view_count": null,
      "_view_module": "@jupyter-widgets/base",
      "_view_module_version": "1.2.0",
      "_view_name": "StyleView",
      "bar_color": null,
      "description_width": ""
     }
    }
   }
  }
 },
 "nbformat": 4,
 "nbformat_minor": 1
}
